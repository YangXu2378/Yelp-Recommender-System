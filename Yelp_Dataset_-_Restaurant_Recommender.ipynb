{
 "cells": [
  {
   "cell_type": "markdown",
   "metadata": {},
   "source": [
    "# Yelp Data Challenge - Restaurant Recommender\n",
    "\n",
    "BitTiger DS501\n",
    "\n",
    "Nov 2017"
   ]
  },
  {
   "cell_type": "code",
   "execution_count": 1,
   "metadata": {},
   "outputs": [],
   "source": [
    "import pandas as pd\n",
    "import numpy as np\n",
    "import matplotlib.pyplot as plt\n",
    "% matplotlib inline\n",
    "plt.style.use(\"ggplot\")"
   ]
  },
  {
   "cell_type": "code",
   "execution_count": 2,
   "metadata": {},
   "outputs": [],
   "source": [
    "df = pd.read_csv('/Users/Administrator/Desktop/Bittiger/501/Yelp Project/last_2_years_restaurant_reviews.csv')"
   ]
  },
  {
   "cell_type": "code",
   "execution_count": 3,
   "metadata": {},
   "outputs": [
    {
     "data": {
      "text/html": [
       "<div>\n",
       "<style scoped>\n",
       "    .dataframe tbody tr th:only-of-type {\n",
       "        vertical-align: middle;\n",
       "    }\n",
       "\n",
       "    .dataframe tbody tr th {\n",
       "        vertical-align: top;\n",
       "    }\n",
       "\n",
       "    .dataframe thead th {\n",
       "        text-align: right;\n",
       "    }\n",
       "</style>\n",
       "<table border=\"1\" class=\"dataframe\">\n",
       "  <thead>\n",
       "    <tr style=\"text-align: right;\">\n",
       "      <th></th>\n",
       "      <th>business_id</th>\n",
       "      <th>name</th>\n",
       "      <th>categories</th>\n",
       "      <th>avg_stars</th>\n",
       "      <th>cool</th>\n",
       "      <th>date</th>\n",
       "      <th>funny</th>\n",
       "      <th>review_id</th>\n",
       "      <th>stars</th>\n",
       "      <th>text</th>\n",
       "      <th>useful</th>\n",
       "      <th>user_id</th>\n",
       "    </tr>\n",
       "  </thead>\n",
       "  <tbody>\n",
       "    <tr>\n",
       "      <th>0</th>\n",
       "      <td>--9e1ONYQuAa-CB_Rrw7Tw</td>\n",
       "      <td>Delmonico Steakhouse</td>\n",
       "      <td>Steakhouses, Restaurants, Cajun/Creole</td>\n",
       "      <td>4.0</td>\n",
       "      <td>0</td>\n",
       "      <td>2017-02-14</td>\n",
       "      <td>0</td>\n",
       "      <td>VETXTwMw6qxzOVDlXfe6Tg</td>\n",
       "      <td>5</td>\n",
       "      <td>went for dinner tonight. Amazing my husband ha...</td>\n",
       "      <td>0</td>\n",
       "      <td>ymlnR8UeFvB4FZL56tCZsA</td>\n",
       "    </tr>\n",
       "    <tr>\n",
       "      <th>1</th>\n",
       "      <td>--9e1ONYQuAa-CB_Rrw7Tw</td>\n",
       "      <td>Delmonico Steakhouse</td>\n",
       "      <td>Steakhouses, Restaurants, Cajun/Creole</td>\n",
       "      <td>4.0</td>\n",
       "      <td>0</td>\n",
       "      <td>2017-12-04</td>\n",
       "      <td>0</td>\n",
       "      <td>S8-8uZ7fa5YbjnEtaW15ng</td>\n",
       "      <td>5</td>\n",
       "      <td>This was an amazing dinning experience! ORDER ...</td>\n",
       "      <td>0</td>\n",
       "      <td>9pSSL6X6lFpY3FCRLEH3og</td>\n",
       "    </tr>\n",
       "    <tr>\n",
       "      <th>2</th>\n",
       "      <td>--9e1ONYQuAa-CB_Rrw7Tw</td>\n",
       "      <td>Delmonico Steakhouse</td>\n",
       "      <td>Steakhouses, Restaurants, Cajun/Creole</td>\n",
       "      <td>4.0</td>\n",
       "      <td>0</td>\n",
       "      <td>2016-08-22</td>\n",
       "      <td>1</td>\n",
       "      <td>1nK5w0VNfDlnR3bOz13dJQ</td>\n",
       "      <td>5</td>\n",
       "      <td>My husband and I went there for lunch on a Sat...</td>\n",
       "      <td>1</td>\n",
       "      <td>gm8nNoA3uB4In5o_Hxpq3g</td>\n",
       "    </tr>\n",
       "    <tr>\n",
       "      <th>3</th>\n",
       "      <td>--9e1ONYQuAa-CB_Rrw7Tw</td>\n",
       "      <td>Delmonico Steakhouse</td>\n",
       "      <td>Steakhouses, Restaurants, Cajun/Creole</td>\n",
       "      <td>4.0</td>\n",
       "      <td>0</td>\n",
       "      <td>2016-09-13</td>\n",
       "      <td>0</td>\n",
       "      <td>N1Z93BthdJ7FT2p5S22jIA</td>\n",
       "      <td>3</td>\n",
       "      <td>Went for a nice anniversary dinner. Researched...</td>\n",
       "      <td>0</td>\n",
       "      <td>CEtidlXNyQzgJSdF1ubPFw</td>\n",
       "    </tr>\n",
       "    <tr>\n",
       "      <th>4</th>\n",
       "      <td>--9e1ONYQuAa-CB_Rrw7Tw</td>\n",
       "      <td>Delmonico Steakhouse</td>\n",
       "      <td>Steakhouses, Restaurants, Cajun/Creole</td>\n",
       "      <td>4.0</td>\n",
       "      <td>0</td>\n",
       "      <td>2015-02-02</td>\n",
       "      <td>0</td>\n",
       "      <td>_Uwp6FO1X-avE9wqTMC59w</td>\n",
       "      <td>5</td>\n",
       "      <td>This place is first class in every way. Lobste...</td>\n",
       "      <td>0</td>\n",
       "      <td>-Z7Nw2UF7NiBSAzfXNA_XA</td>\n",
       "    </tr>\n",
       "  </tbody>\n",
       "</table>\n",
       "</div>"
      ],
      "text/plain": [
       "              business_id                  name  \\\n",
       "0  --9e1ONYQuAa-CB_Rrw7Tw  Delmonico Steakhouse   \n",
       "1  --9e1ONYQuAa-CB_Rrw7Tw  Delmonico Steakhouse   \n",
       "2  --9e1ONYQuAa-CB_Rrw7Tw  Delmonico Steakhouse   \n",
       "3  --9e1ONYQuAa-CB_Rrw7Tw  Delmonico Steakhouse   \n",
       "4  --9e1ONYQuAa-CB_Rrw7Tw  Delmonico Steakhouse   \n",
       "\n",
       "                               categories  avg_stars  cool        date  funny  \\\n",
       "0  Steakhouses, Restaurants, Cajun/Creole        4.0     0  2017-02-14      0   \n",
       "1  Steakhouses, Restaurants, Cajun/Creole        4.0     0  2017-12-04      0   \n",
       "2  Steakhouses, Restaurants, Cajun/Creole        4.0     0  2016-08-22      1   \n",
       "3  Steakhouses, Restaurants, Cajun/Creole        4.0     0  2016-09-13      0   \n",
       "4  Steakhouses, Restaurants, Cajun/Creole        4.0     0  2015-02-02      0   \n",
       "\n",
       "                review_id  stars  \\\n",
       "0  VETXTwMw6qxzOVDlXfe6Tg      5   \n",
       "1  S8-8uZ7fa5YbjnEtaW15ng      5   \n",
       "2  1nK5w0VNfDlnR3bOz13dJQ      5   \n",
       "3  N1Z93BthdJ7FT2p5S22jIA      3   \n",
       "4  _Uwp6FO1X-avE9wqTMC59w      5   \n",
       "\n",
       "                                                text  useful  \\\n",
       "0  went for dinner tonight. Amazing my husband ha...       0   \n",
       "1  This was an amazing dinning experience! ORDER ...       0   \n",
       "2  My husband and I went there for lunch on a Sat...       1   \n",
       "3  Went for a nice anniversary dinner. Researched...       0   \n",
       "4  This place is first class in every way. Lobste...       0   \n",
       "\n",
       "                  user_id  \n",
       "0  ymlnR8UeFvB4FZL56tCZsA  \n",
       "1  9pSSL6X6lFpY3FCRLEH3og  \n",
       "2  gm8nNoA3uB4In5o_Hxpq3g  \n",
       "3  CEtidlXNyQzgJSdF1ubPFw  \n",
       "4  -Z7Nw2UF7NiBSAzfXNA_XA  "
      ]
     },
     "execution_count": 3,
     "metadata": {},
     "output_type": "execute_result"
    }
   ],
   "source": [
    "df.head()"
   ]
  },
  {
   "cell_type": "markdown",
   "metadata": {},
   "source": [
    "## 1. Clean data and get rating data "
   ]
  },
  {
   "cell_type": "markdown",
   "metadata": {},
   "source": [
    "#### Select relevant columns in the original dataframe"
   ]
  },
  {
   "cell_type": "code",
   "execution_count": 4,
   "metadata": {},
   "outputs": [
    {
     "data": {
      "text/html": [
       "<div>\n",
       "<style scoped>\n",
       "    .dataframe tbody tr th:only-of-type {\n",
       "        vertical-align: middle;\n",
       "    }\n",
       "\n",
       "    .dataframe tbody tr th {\n",
       "        vertical-align: top;\n",
       "    }\n",
       "\n",
       "    .dataframe thead th {\n",
       "        text-align: right;\n",
       "    }\n",
       "</style>\n",
       "<table border=\"1\" class=\"dataframe\">\n",
       "  <thead>\n",
       "    <tr style=\"text-align: right;\">\n",
       "      <th></th>\n",
       "      <th>stars</th>\n",
       "    </tr>\n",
       "  </thead>\n",
       "  <tbody>\n",
       "    <tr>\n",
       "      <th>count</th>\n",
       "      <td>640718.000000</td>\n",
       "    </tr>\n",
       "    <tr>\n",
       "      <th>mean</th>\n",
       "      <td>3.821948</td>\n",
       "    </tr>\n",
       "    <tr>\n",
       "      <th>std</th>\n",
       "      <td>1.421403</td>\n",
       "    </tr>\n",
       "    <tr>\n",
       "      <th>min</th>\n",
       "      <td>1.000000</td>\n",
       "    </tr>\n",
       "    <tr>\n",
       "      <th>25%</th>\n",
       "      <td>3.000000</td>\n",
       "    </tr>\n",
       "    <tr>\n",
       "      <th>50%</th>\n",
       "      <td>4.000000</td>\n",
       "    </tr>\n",
       "    <tr>\n",
       "      <th>75%</th>\n",
       "      <td>5.000000</td>\n",
       "    </tr>\n",
       "    <tr>\n",
       "      <th>max</th>\n",
       "      <td>5.000000</td>\n",
       "    </tr>\n",
       "  </tbody>\n",
       "</table>\n",
       "</div>"
      ],
      "text/plain": [
       "               stars\n",
       "count  640718.000000\n",
       "mean        3.821948\n",
       "std         1.421403\n",
       "min         1.000000\n",
       "25%         3.000000\n",
       "50%         4.000000\n",
       "75%         5.000000\n",
       "max         5.000000"
      ]
     },
     "execution_count": 4,
     "metadata": {},
     "output_type": "execute_result"
    }
   ],
   "source": [
    "# Get business_id, user_id, stars for recommender\n",
    "\n",
    "df_stars = df[['business_id', 'user_id', 'stars']]\n",
    "df_stars.describe()"
   ]
  },
  {
   "cell_type": "markdown",
   "metadata": {},
   "source": [
    "#### There are many users that haven't given many reviews, exclude these users from the item-item similarity recommender\n",
    "\n",
    "**Q**: How do we recommend to these users anyways?"
   ]
  },
  {
   "cell_type": "code",
   "execution_count": 5,
   "metadata": {},
   "outputs": [],
   "source": [
    "# To be implemented\n",
    "\n",
    "df_user_counts=df_stars['user_id'].value_counts()\n",
    "df_business_counts = df_stars['business_id'].value_counts()"
   ]
  },
  {
   "cell_type": "code",
   "execution_count": 6,
   "metadata": {},
   "outputs": [
    {
     "data": {
      "text/plain": [
       "<matplotlib.axes._subplots.AxesSubplot at 0x1041fb470>"
      ]
     },
     "execution_count": 6,
     "metadata": {},
     "output_type": "execute_result"
    },
    {
     "data": {
      "image/png": "[encoded data removed]",
      "text/plain": [
       "<matplotlib.figure.Figure at 0x108efb8d0>"
      ]
     },
     "metadata": {},
     "output_type": "display_data"
    }
   ],
   "source": [
    "%matplotlib inline\n",
    "df_user_counts.apply(np.log).hist()"
   ]
  },
  {
   "cell_type": "code",
   "execution_count": 7,
   "metadata": {},
   "outputs": [
    {
     "data": {
      "text/plain": [
       "array([1., 1., 1., 1., 1., 1., 1., 2., 2., 4.])"
      ]
     },
     "execution_count": 7,
     "metadata": {},
     "output_type": "execute_result"
    }
   ],
   "source": [
    "np.percentile(df_user_counts, np.arange(10)*10)"
   ]
  },
  {
   "cell_type": "code",
   "execution_count": 8,
   "metadata": {},
   "outputs": [],
   "source": [
    "# Here we use the data with top 10% number of reviews"
   ]
  },
  {
   "cell_type": "code",
   "execution_count": 12,
   "metadata": {},
   "outputs": [],
   "source": [
    "indFilter = df_user_counts[df_user_counts >4].index\n",
    "\n",
    "df_stars_filtered = df_stars.set_index('user_id').loc[indFilter].reset_index()\n"
   ]
  },
  {
   "cell_type": "markdown",
   "metadata": {},
   "source": [
    "#### Create utility matrix from records"
   ]
  },
  {
   "cell_type": "code",
   "execution_count": 13,
   "metadata": {},
   "outputs": [
    {
     "name": "stdout",
     "output_type": "stream",
     "text": [
      "<class 'pandas.core.frame.DataFrame'>\n",
      "Index: 24754 entries, ---1lKK3aKOuomHnwAkAow to zzaq5Fn1U2Feut3dGxidNg\n",
      "Columns: 4858 entries, --9e1ONYQuAa-CB_Rrw7Tw to zx_j6OuuHHa2afVoAZuLpA\n",
      "dtypes: int64(4858)\n",
      "memory usage: 917.7+ MB\n"
     ]
    },
    {
     "data": {
      "text/plain": [
       "(24754, 4858)"
      ]
     },
     "execution_count": 13,
     "metadata": {},
     "output_type": "execute_result"
    }
   ],
   "source": [
    "# To be implemented\n",
    "\n",
    "df_utility = pd.pivot_table(df_stars_filtered, values = 'stars',\n",
    "                           index = 'user_id', columns = 'business_id', fill_value=0)\n",
    "df_utility.info()\n",
    "\n",
    "from scipy import sparse\n",
    "utility_mat = sparse.csr_matrix(df_utility)\n",
    "\n",
    "utility_mat.shape\n",
    "\n"
   ]
  },
  {
   "cell_type": "markdown",
   "metadata": {},
   "source": [
    "## 2. Item-Item similarity recommender"
   ]
  },
  {
   "cell_type": "markdown",
   "metadata": {},
   "source": [
    "### Let's reuse the ItemItemRecommender class derived from previous exercise\n",
    "\n",
    "Hint: we need to make modification to accommodate the dense numpy array"
   ]
  },
  {
   "cell_type": "code",
   "execution_count": 15,
   "metadata": {},
   "outputs": [],
   "source": [
    "# To be implemented\n",
    "\n",
    "from sklearn.metrics.pairwise import cosine_similarity\n",
    "from time import time\n",
    "item_sim_mat = cosine_similarity(utility_mat.T)\n",
    "\n",
    "least_to_most_sim_indexes = np.argsort(item_sim_mat, axis=1)\n",
    "\n",
    "#Neighborhoods\n",
    "neighborhoods_size = 200\n",
    "neighborhoods = least_to_most_sim_indexes[:, -neighborhoods_size:]"
   ]
  },
  {
   "cell_type": "code",
   "execution_count": 20,
   "metadata": {},
   "outputs": [
    {
     "name": "stderr",
     "output_type": "stream",
     "text": [
      "/anaconda3/lib/python3.6/site-packages/ipykernel_launcher.py:15: RuntimeWarning: invalid value encountered in true_divide\n",
      "  from ipykernel import kernelapp as app\n"
     ]
    },
    {
     "name": "stdout",
     "output_type": "stream",
     "text": [
      "[0. 0. 0. ... 0. 0. 0.]\n",
      "Execution time: 2.241473 seconds\n"
     ]
    }
   ],
   "source": [
    "index_user=100\n",
    "\n",
    "#n_users = utility_mat.shape[0]\n",
    "n_items = utility_mat.shape[1]\n",
    "\n",
    "start_time = time()\n",
    "items_rated_by_this_user = utility_mat[index_user].nonzero()[1]\n",
    "#just initializing so we have somewhere to put rating preds\n",
    "out = np.zeros(n_items)\n",
    "for item_to_rate in range(n_items):\n",
    "    relevant_items = np.intersect1d(neighborhoods[item_to_rate],\n",
    "                                   items_rated_by_this_user, \n",
    "                                   assume_unique=True)\n",
    "#assume_unique speeds up intersection \n",
    "    out[item_to_rate]=utility_mat[index_user, relevant_items] * \\\n",
    "        item_sim_mat[item_to_rate, relevant_items] / \\\n",
    "        item_sim_mat[item_to_rate, relevant_items].sum()\n",
    "        \n",
    "pred_ratings = np.nan_to_num(out)\n",
    "print(pred_ratings)\n",
    "print(\"Execution time: %f seconds\" % (time()-start_time))\n"
   ]
  },
  {
   "cell_type": "code",
   "execution_count": 21,
   "metadata": {},
   "outputs": [
    {
     "name": "stdout",
     "output_type": "stream",
     "text": [
      "The top 10 business recommended for the user (100, '-Ex9DZ2N0Kfs3fWEUOtP_g') are [['3857' 'm01nlmGzbS0TBB8NZxp3Yg']\n",
      " ['3549' 'hwJdv1tttvynXo2LZjJ6rg']\n",
      " ['1580' 'JXAMnijxRrW-jXHGvDJzzg']\n",
      " ['1985' 'P2cHq6apwK7z6XPaU24iJQ']\n",
      " ['695' '8FUzCm4Q13MJMX7N6ftmQw']\n",
      " ['180' '1CR2ddUcjYYwRd5JLtiRrw']\n",
      " ['3933' 'n0tnioUYabmpBrTwmIq08Q']\n",
      " ['1717' 'LIU7IcJtD9VieoIo__wd9Q']\n",
      " ['3918' 'mnU3iGsL55MCWXiWV3AcAQ']\n",
      " ['492' '5XORYO9raiXVZSGGPvjSmA']]\n"
     ]
    }
   ],
   "source": [
    "n=10\n",
    "\n",
    "#Get item indexes sorted by predicted rating\n",
    "item_index_sorted_by_pred_rating = list(np.argsort(pred_ratings))[::-1]\n",
    "\n",
    "#We want to exclude the items that have been rated by user\n",
    "unrated_items_by_pred_rating = [\n",
    "    item \n",
    "    for item in item_index_sorted_by_pred_rating\n",
    "    if item not in items_rated_by_this_user]\n",
    "business_reco_ind = unrated_items_by_pred_rating [:n]\n",
    "\n",
    "print(\"The top %d business recommended for the user %s are %s\"%(\n",
    "n, (index_user, df_utility.index[index_user]), np.array(list(zip(business_reco_ind, df_utility.columns[business_reco_ind].values)))\n",
    "))"
   ]
  },
  {
   "cell_type": "markdown",
   "metadata": {},
   "source": [
    "## 3. Matrix Factorization recommender\n",
    "\n",
    "##### Compare two of the methods demoed in Practice Class: sklearn NMF, sklearn TruncatedSVD, or GraphLab\n",
    "##### *Extra points for using GraphLab"
   ]
  },
  {
   "cell_type": "code",
   "execution_count": 26,
   "metadata": {},
   "outputs": [],
   "source": [
    "##### sklearn NMP"
   ]
  },
  {
   "cell_type": "code",
   "execution_count": 24,
   "metadata": {},
   "outputs": [
    {
     "name": "stdout",
     "output_type": "stream",
     "text": [
      "1730.319927421931\n",
      "(24754, 200) (200, 4858)\n"
     ]
    }
   ],
   "source": [
    "from sklearn.decomposition import NMF\n",
    "\n",
    "def fit_nmf(M,k):\n",
    "    nmf = NMF(n_components=k)\n",
    "    nmf.fit(M)\n",
    "    W=nmf.transform(M);\n",
    "    H=nmf.components_;\n",
    "    err=nmf.reconstruction_err_\n",
    "    return W,H,err\n",
    "\n",
    "#decompose\n",
    "W,H,err = fit_nmf(utility_mat, 200)\n",
    "print(err)\n",
    "print(W.shape, H.shape)"
   ]
  },
  {
   "cell_type": "code",
   "execution_count": 25,
   "metadata": {},
   "outputs": [
    {
     "name": "stdout",
     "output_type": "stream",
     "text": [
      "10.439761293152381\n",
      "2.622998511602525\n"
     ]
    }
   ],
   "source": [
    "utility_mat_fitted = W.dot(H)\n",
    "\n",
    "errs = np.array((utility_mat-utility_mat_fitted).flatten()).squeeze()\n",
    "mask = np.array((utility_mat.todense()).flatten()).squeeze()>0\n",
    "\n",
    "mse=np.mean(errs[mask]**2)\n",
    "average_abs_err = abs(errs[mask]).mean()\n",
    "print(mse)\n",
    "print(average_abs_err)"
   ]
  },
  {
   "cell_type": "code",
   "execution_count": 28,
   "metadata": {},
   "outputs": [
    {
     "name": "stdout",
     "output_type": "stream",
     "text": [
      "The top 10 business recommended for the user (100, '-Ex9DZ2N0Kfs3fWEUOtP_g') are [['3857' 'm01nlmGzbS0TBB8NZxp3Yg']\n",
      " ['3549' 'hwJdv1tttvynXo2LZjJ6rg']\n",
      " ['1580' 'JXAMnijxRrW-jXHGvDJzzg']\n",
      " ['1985' 'P2cHq6apwK7z6XPaU24iJQ']\n",
      " ['695' '8FUzCm4Q13MJMX7N6ftmQw']\n",
      " ['180' '1CR2ddUcjYYwRd5JLtiRrw']\n",
      " ['3933' 'n0tnioUYabmpBrTwmIq08Q']\n",
      " ['1717' 'LIU7IcJtD9VieoIo__wd9Q']\n",
      " ['3918' 'mnU3iGsL55MCWXiWV3AcAQ']\n",
      " ['492' '5XORYO9raiXVZSGGPvjSmA']]\n"
     ]
    }
   ],
   "source": [
    "#get recommendations for one user\n",
    "index_user=100\n",
    "n=10\n",
    "pred_ratings = utility_mat_fitted[index_user, :]\n",
    "item_index_sorted_by_pred_rating = list(np.argsort(pred_ratings))[::-1]\n",
    "\n",
    "items_rated_by_this_user = utility_mat[index_user].nonzero()[1]\n",
    "\n",
    "unrated_item_by_pred_rating = [item for item in item_index_sorted_by_pred_rating\n",
    "                              if item not in items_rated_by_this_user]\n",
    "business_reco_ind = unrated_items_by_pred_rating[:n]\n",
    "\n",
    "print(\"The top %d business recommended for the user %s are %s\" %(n, (index_user, df_utility.index[index_user]), np.array(list(zip(business_reco_ind, \n",
    "                                                                                                                                 df_utility.columns[business_reco_ind].values)))))\n",
    "\n",
    "\n"
   ]
  },
  {
   "cell_type": "code",
   "execution_count": 29,
   "metadata": {},
   "outputs": [],
   "source": [
    "####sklearn TruncatedSVD"
   ]
  },
  {
   "cell_type": "code",
   "execution_count": 30,
   "metadata": {},
   "outputs": [],
   "source": [
    "from sklearn.decomposition import TruncatedSVD\n",
    "\n",
    "def fit_uvd(M,k):\n",
    "    #use TruncatedSVD to realize UVD\n",
    "    svd = TruncatedSVD(n_components=k, n_iter=7, random_state=0)\n",
    "    svd.fit(M)\n",
    "    \n",
    "    V = svd.components_\n",
    "    U = svd.transform(M)\n",
    "    # effectively, it's doing: U = M.dot(V.T)\n",
    "    # we can ignore svd.singular_values_ for our purpose\n",
    "    \n",
    "    # why we can do this?\n",
    "    # recall: \n",
    "    # SVD start from u*s*v=M => u*s=M*v.T, where M*v.T is our transformation above to get U in UVD\n",
    "    # so the above U is effectively u*s in SVD\n",
    "    # that's why U*V = u*s*v = M our original matrix\n",
    "    # there are many ways to understand it!\n",
    "    # here we by-passed singular values.\n",
    "    \n",
    "    return U,V,svd\n",
    "\n",
    "#decompose\n",
    "U,V,svd = fit_uvd(utility_mat, 400)"
   ]
  },
  {
   "cell_type": "code",
   "execution_count": 31,
   "metadata": {},
   "outputs": [
    {
     "name": "stdout",
     "output_type": "stream",
     "text": [
      "6.758581921362013\n",
      "1.97195274515644\n"
     ]
    }
   ],
   "source": [
    "utility_mat_fitted = U.dot(V) # U*V\n",
    "\n",
    "# recall: U = M.dot(V.T), then this is M.dot(V.T).dot(V)\n",
    "# original M is transformed to new space, then transformed back\n",
    "# this is another way to understand it!\n",
    "\n",
    "# calculate errs\n",
    "errs = np.array((utility_mat-utility_mat_fitted).flatten()).squeeze()\n",
    "mask = np.array((utility_mat.todense()).flatten()).squeeze()>0\n",
    "\n",
    "mse = np.mean(errs[mask]**2)\n",
    "average_abs_err = abs(errs[mask]).mean()\n",
    "print(mse)\n",
    "print(average_abs_err)"
   ]
  },
  {
   "cell_type": "code",
   "execution_count": 32,
   "metadata": {},
   "outputs": [
    {
     "name": "stdout",
     "output_type": "stream",
     "text": [
      "The top 10 business recommended for the user (100, '-Ex9DZ2N0Kfs3fWEUOtP_g') are [['1281' 'FhIeCF6QrsLaRvAeu0oEPQ']\n",
      " ['2000' 'PChG1Dm0A6AXIXkXGVK8Fw']\n",
      " ['3540' 'hqvqLihniz0ynit9c36JHg']\n",
      " ['2284' 'So132GP_uy3XbGs0KNyzyw']\n",
      " ['4069' 'ozMd45nXHTCl3mdOwouwlw']\n",
      " ['3479' 'h3pMMRwqBjMeMtk0_qQzRQ']\n",
      " ['2432' 'UV2Jt8slktGu14gLZeNCjA']\n",
      " ['1601' 'JpgVl3d20CMRNjf1DVnzGA']\n",
      " ['4837' 'zdE82PiD6wquvjYLyhOJNA']\n",
      " ['195' '1SqLPgnZEVeVYDM-AuoFhg']]\n"
     ]
    }
   ],
   "source": [
    "index_user = 100\n",
    "n = 10\n",
    "\n",
    "pred_ratings = utility_mat_fitted[index_user,:]\n",
    "item_index_sorted_by_pred_rating = list(np.argsort(pred_ratings))[::-1]\n",
    "\n",
    "items_rated_by_this_user = utility_mat[index_user].nonzero()[1]\n",
    "\n",
    "unrated_items_by_pred_rating = [item for item in item_index_sorted_by_pred_rating\n",
    "                                if item not in items_rated_by_this_user]\n",
    "\n",
    "business_reco_ind = unrated_items_by_pred_rating[:n]\n",
    "\n",
    "print(\"The top %d business recommended for the user %s are %s\"%(n, (index_user, df_utility.index[index_user]), np.array(list(zip(business_reco_ind, df_utility.columns[business_reco_ind].values)))))"
   ]
  },
  {
   "cell_type": "markdown",
   "metadata": {},
   "source": []
  },
  {
   "cell_type": "markdown",
   "metadata": {},
   "source": [
    "## 4. Other recommenders (optional)\n",
    "\n",
    "What are other ways you can build a better recommender?\n",
    "\n",
    "* Other features (have you noticed there are other features in the Yelp dataset, e.g. tips, etc.?)\n",
    "* Popularity-based\n",
    "* Content-based\n",
    "* Hybrid"
   ]
  },
  {
   "cell_type": "code",
   "execution_count": 34,
   "metadata": {},
   "outputs": [],
   "source": [
    "####content_based"
   ]
  },
  {
   "cell_type": "code",
   "execution_count": 35,
   "metadata": {},
   "outputs": [
    {
     "name": "stdout",
     "output_type": "stream",
     "text": [
      "<class 'pandas.core.frame.DataFrame'>\n",
      "RangeIndex: 640718 entries, 0 to 640717\n",
      "Data columns (total 12 columns):\n",
      "business_id    640718 non-null object\n",
      "name           640718 non-null object\n",
      "categories     640718 non-null object\n",
      "avg_stars      640718 non-null float64\n",
      "cool           640718 non-null int64\n",
      "date           640718 non-null object\n",
      "funny          640718 non-null int64\n",
      "review_id      640718 non-null object\n",
      "stars          640718 non-null int64\n",
      "text           640718 non-null object\n",
      "useful         640718 non-null int64\n",
      "user_id        640718 non-null object\n",
      "dtypes: float64(1), int64(4), object(7)\n",
      "memory usage: 58.7+ MB\n"
     ]
    },
    {
     "data": {
      "text/plain": [
       "business_id\n",
       "--9e1ONYQuAa-CB_Rrw7Tw    1\n",
       "-1m9o3vGRA8IBPNvNqKLmA    1\n",
       "-1vfRrlnNnNJ5boOVghMPA    1\n",
       "-3zffZUHoY8bQjGfPSoBKQ    1\n",
       "-8R_-EkGpUhBk55K9Dd4mg    1\n",
       "-9YyInW1wapzdNZrhQJ9dg    1\n",
       "-AD5PiuJHgdUcAK-Vxao2A    1\n",
       "-ADtl9bLp8wNqYX1k3KuxA    1\n",
       "-AGdGGCeTS-njB_8GkUmjQ    1\n",
       "-BS4aZAQm9u41YnB9MUASA    1\n",
       "-Bf8BQ3yMk8U2f45r2DRKw    1\n",
       "-BmqghX1sv7sgsxOIS2yAg    1\n",
       "-Bv-HHUs8aHzDrdWcZHn8w    1\n",
       "-C8sSrFqaCxp51pyo-fQLQ    1\n",
       "-CQokjildrY7UZezXCdEBw    1\n",
       "-CbDQXiuKzPQ0_jiUz03aw    1\n",
       "-EohS3nXZGl6odE9Lx5BSw    1\n",
       "-FNquqGseSCVMWo7KbK-Tg    1\n",
       "-FcZY7a7qgxTUlTvwuyJnQ    1\n",
       "-G7MPSNBpxRJmtrJxdwt7A    1\n",
       "-IWsoxH7mLJTTpU5MmWY4w    1\n",
       "-JFVxwdVQfX207554dx1nw    1\n",
       "-JfncbVURtvuzBbof40o1w    1\n",
       "-Jo0rJr2mZxBVgaJqDs-TQ    1\n",
       "-Jx2rd2rH7MlWfb9RMtCFQ    1\n",
       "-K82LBrI3H0FVuhTbNDpRA    1\n",
       "-LMycE26AortJDsbc8oXOg    1\n",
       "-Le6cwbZL4tDZwNHwipfKg    1\n",
       "-LzUYsR54hd8cCiYXTquRA    1\n",
       "-MmAW2x9vMGuhVcALU7QRw    1\n",
       "                         ..\n",
       "z_46RY-L3vcMrH3-wxCp9w    1\n",
       "zaxK3ea92mvEBRy-jttngg    1\n",
       "zazLy5wo73tr5y9Oxjx36g    1\n",
       "zb8kMYcte7WLcB-7CG3vNg    1\n",
       "zbVJRIXEU0LVGWpU1Wb--A    1\n",
       "zblKqBFWq7HMACwacMpzig    1\n",
       "zcScEL0WEdFkROcnz5379g    1\n",
       "zcpfOE1tBET_5YUjq8y11g    1\n",
       "zdE82PiD6wquvjYLyhOJNA    1\n",
       "zdcesxBdjljRgS0QmCgkBg    1\n",
       "ze8qCibT7XPZ1z4xbOAezA    1\n",
       "zesysZuscMHxBl9uIQXIIw    1\n",
       "zf1h0aVL8-Jl91F-mDxZEg    1\n",
       "zhB2gbdNbaFwo2nWEArtLA    1\n",
       "zhxnD7J5_sCrKSw5cwI9dQ    1\n",
       "zjvnqTjBp56NhMp1GrlO5g    1\n",
       "zkhBU5qW_zCy0q4OEtIrsA    1\n",
       "zkuCoXFQOceyNaPJLUDZzA    1\n",
       "zmltWmTpoBt5sCU-5Kzj-Q    1\n",
       "znWHLW1pt19HzW1VY6KfCA    1\n",
       "zp-K5s3pGTWuuaVBWo6WZA    1\n",
       "zpoZ6WyQUYff18-z4ZU1mA    1\n",
       "zr42_UsWfaIF-rcp37OpwA    1\n",
       "zrQ1zKWC-W2PCvwjBururQ    1\n",
       "zsQk990PubOHjr1YcLkQFw    1\n",
       "zt9RLUIU32fZYOBh2L0NNQ    1\n",
       "zttcrQP4MxNS5X5itzStXg    1\n",
       "zuwba6QEBIDZT0tJZmNhdQ    1\n",
       "zwNC-Ow4eIMan2__bS9-rg    1\n",
       "zx_j6OuuHHa2afVoAZuLpA    1\n",
       "Name: categories, Length: 5086, dtype: int64"
      ]
     },
     "execution_count": 35,
     "metadata": {},
     "output_type": "execute_result"
    }
   ],
   "source": [
    "# only utilize business information when recommending them to user \n",
    "df.info()\n",
    "df['business_id'].nunique()\n",
    "df['review_id'].nunique()\n",
    "\n",
    "df.head()\n",
    "df.groupby(['business_id']).mean()\n",
    "\n",
    "cat = df.groupby('business_id')['categories'].apply(np.unique)\n",
    "cat.apply(len)"
   ]
  }
 ],
 "metadata": {
  "anaconda-cloud": {},
  "kernelspec": {
   "display_name": "Python 3",
   "language": "python",
   "name": "python3"
  },
  "language_info": {
   "codemirror_mode": {
    "name": "ipython",
    "version": 3
   },
   "file_extension": ".py",
   "mimetype": "text/x-python",
   "name": "python",
   "nbconvert_exporter": "python",
   "pygments_lexer": "ipython3",
   "version": "3.6.4"
  }
 },
 "nbformat": 4,
 "nbformat_minor": 1
}
