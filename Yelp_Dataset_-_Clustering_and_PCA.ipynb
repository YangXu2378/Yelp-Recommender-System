{
 "cells": [
  {
   "cell_type": "markdown",
   "metadata": {},
   "source": [
    "# Yelp Data Challenge - Clustering and PCA\n",
    "\n",
    "BitTiger DS501\n",
    "\n",
    "Nov 2017"
   ]
  },
  {
   "cell_type": "code",
   "execution_count": 3,
   "metadata": {},
   "outputs": [],
   "source": [
    "import pandas as pd\n",
    "import numpy as np\n",
    "import matplotlib.pyplot as plt\n",
    "% matplotlib inline\n",
    "plt.style.use(\"ggplot\")"
   ]
  },
  {
   "cell_type": "code",
   "execution_count": 4,
   "metadata": {},
   "outputs": [],
   "source": [
    "from __future__ import unicode_literals\n",
    "df = pd.read_csv('\\\\Users\\\\yxu\\\\Desktop\\\\files\\\\DOC_YXU\\\\11111\\\\Yelp\\\\last_2_years_restaurant_reviews.csv')"
   ]
  },
  {
   "cell_type": "code",
   "execution_count": 5,
   "metadata": {},
   "outputs": [
    {
     "data": {
      "text/html": [
       "<div>\n",
       "<style scoped>\n",
       "    .dataframe tbody tr th:only-of-type {\n",
       "        vertical-align: middle;\n",
       "    }\n",
       "\n",
       "    .dataframe tbody tr th {\n",
       "        vertical-align: top;\n",
       "    }\n",
       "\n",
       "    .dataframe thead th {\n",
       "        text-align: right;\n",
       "    }\n",
       "</style>\n",
       "<table border=\"1\" class=\"dataframe\">\n",
       "  <thead>\n",
       "    <tr style=\"text-align: right;\">\n",
       "      <th></th>\n",
       "      <th>business_id</th>\n",
       "      <th>name</th>\n",
       "      <th>categories</th>\n",
       "      <th>avg_stars</th>\n",
       "      <th>cool</th>\n",
       "      <th>date</th>\n",
       "      <th>funny</th>\n",
       "      <th>review_id</th>\n",
       "      <th>stars</th>\n",
       "      <th>text</th>\n",
       "      <th>useful</th>\n",
       "      <th>user_id</th>\n",
       "    </tr>\n",
       "  </thead>\n",
       "  <tbody>\n",
       "    <tr>\n",
       "      <th>0</th>\n",
       "      <td>--9e1ONYQuAa-CB_Rrw7Tw</td>\n",
       "      <td>Delmonico Steakhouse</td>\n",
       "      <td>Steakhouses, Restaurants, Cajun/Creole</td>\n",
       "      <td>4.0</td>\n",
       "      <td>0</td>\n",
       "      <td>2017-02-14</td>\n",
       "      <td>0</td>\n",
       "      <td>VETXTwMw6qxzOVDlXfe6Tg</td>\n",
       "      <td>5</td>\n",
       "      <td>went for dinner tonight. Amazing my husband ha...</td>\n",
       "      <td>0</td>\n",
       "      <td>ymlnR8UeFvB4FZL56tCZsA</td>\n",
       "    </tr>\n",
       "    <tr>\n",
       "      <th>1</th>\n",
       "      <td>--9e1ONYQuAa-CB_Rrw7Tw</td>\n",
       "      <td>Delmonico Steakhouse</td>\n",
       "      <td>Steakhouses, Restaurants, Cajun/Creole</td>\n",
       "      <td>4.0</td>\n",
       "      <td>0</td>\n",
       "      <td>2017-12-04</td>\n",
       "      <td>0</td>\n",
       "      <td>S8-8uZ7fa5YbjnEtaW15ng</td>\n",
       "      <td>5</td>\n",
       "      <td>This was an amazing dinning experience! ORDER ...</td>\n",
       "      <td>0</td>\n",
       "      <td>9pSSL6X6lFpY3FCRLEH3og</td>\n",
       "    </tr>\n",
       "    <tr>\n",
       "      <th>2</th>\n",
       "      <td>--9e1ONYQuAa-CB_Rrw7Tw</td>\n",
       "      <td>Delmonico Steakhouse</td>\n",
       "      <td>Steakhouses, Restaurants, Cajun/Creole</td>\n",
       "      <td>4.0</td>\n",
       "      <td>0</td>\n",
       "      <td>2016-08-22</td>\n",
       "      <td>1</td>\n",
       "      <td>1nK5w0VNfDlnR3bOz13dJQ</td>\n",
       "      <td>5</td>\n",
       "      <td>My husband and I went there for lunch on a Sat...</td>\n",
       "      <td>1</td>\n",
       "      <td>gm8nNoA3uB4In5o_Hxpq3g</td>\n",
       "    </tr>\n",
       "    <tr>\n",
       "      <th>3</th>\n",
       "      <td>--9e1ONYQuAa-CB_Rrw7Tw</td>\n",
       "      <td>Delmonico Steakhouse</td>\n",
       "      <td>Steakhouses, Restaurants, Cajun/Creole</td>\n",
       "      <td>4.0</td>\n",
       "      <td>0</td>\n",
       "      <td>2016-09-13</td>\n",
       "      <td>0</td>\n",
       "      <td>N1Z93BthdJ7FT2p5S22jIA</td>\n",
       "      <td>3</td>\n",
       "      <td>Went for a nice anniversary dinner. Researched...</td>\n",
       "      <td>0</td>\n",
       "      <td>CEtidlXNyQzgJSdF1ubPFw</td>\n",
       "    </tr>\n",
       "    <tr>\n",
       "      <th>4</th>\n",
       "      <td>--9e1ONYQuAa-CB_Rrw7Tw</td>\n",
       "      <td>Delmonico Steakhouse</td>\n",
       "      <td>Steakhouses, Restaurants, Cajun/Creole</td>\n",
       "      <td>4.0</td>\n",
       "      <td>0</td>\n",
       "      <td>2015-02-02</td>\n",
       "      <td>0</td>\n",
       "      <td>_Uwp6FO1X-avE9wqTMC59w</td>\n",
       "      <td>5</td>\n",
       "      <td>This place is first class in every way. Lobste...</td>\n",
       "      <td>0</td>\n",
       "      <td>-Z7Nw2UF7NiBSAzfXNA_XA</td>\n",
       "    </tr>\n",
       "  </tbody>\n",
       "</table>\n",
       "</div>"
      ],
      "text/plain": [
       "              business_id                  name  \\\n",
       "0  --9e1ONYQuAa-CB_Rrw7Tw  Delmonico Steakhouse   \n",
       "1  --9e1ONYQuAa-CB_Rrw7Tw  Delmonico Steakhouse   \n",
       "2  --9e1ONYQuAa-CB_Rrw7Tw  Delmonico Steakhouse   \n",
       "3  --9e1ONYQuAa-CB_Rrw7Tw  Delmonico Steakhouse   \n",
       "4  --9e1ONYQuAa-CB_Rrw7Tw  Delmonico Steakhouse   \n",
       "\n",
       "                               categories  avg_stars  cool        date  funny  \\\n",
       "0  Steakhouses, Restaurants, Cajun/Creole        4.0     0  2017-02-14      0   \n",
       "1  Steakhouses, Restaurants, Cajun/Creole        4.0     0  2017-12-04      0   \n",
       "2  Steakhouses, Restaurants, Cajun/Creole        4.0     0  2016-08-22      1   \n",
       "3  Steakhouses, Restaurants, Cajun/Creole        4.0     0  2016-09-13      0   \n",
       "4  Steakhouses, Restaurants, Cajun/Creole        4.0     0  2015-02-02      0   \n",
       "\n",
       "                review_id  stars  \\\n",
       "0  VETXTwMw6qxzOVDlXfe6Tg      5   \n",
       "1  S8-8uZ7fa5YbjnEtaW15ng      5   \n",
       "2  1nK5w0VNfDlnR3bOz13dJQ      5   \n",
       "3  N1Z93BthdJ7FT2p5S22jIA      3   \n",
       "4  _Uwp6FO1X-avE9wqTMC59w      5   \n",
       "\n",
       "                                                text  useful  \\\n",
       "0  went for dinner tonight. Amazing my husband ha...       0   \n",
       "1  This was an amazing dinning experience! ORDER ...       0   \n",
       "2  My husband and I went there for lunch on a Sat...       1   \n",
       "3  Went for a nice anniversary dinner. Researched...       0   \n",
       "4  This place is first class in every way. Lobste...       0   \n",
       "\n",
       "                  user_id  \n",
       "0  ymlnR8UeFvB4FZL56tCZsA  \n",
       "1  9pSSL6X6lFpY3FCRLEH3og  \n",
       "2  gm8nNoA3uB4In5o_Hxpq3g  \n",
       "3  CEtidlXNyQzgJSdF1ubPFw  \n",
       "4  -Z7Nw2UF7NiBSAzfXNA_XA  "
      ]
     },
     "execution_count": 5,
     "metadata": {},
     "output_type": "execute_result"
    }
   ],
   "source": [
    "df.head()"
   ]
  },
  {
   "cell_type": "markdown",
   "metadata": {},
   "source": [
    "## 1. Cluster the review text data for all the restaurants"
   ]
  },
  {
   "cell_type": "markdown",
   "metadata": {},
   "source": [
    "### Define your feature variables, here is the text of the review"
   ]
  },
  {
   "cell_type": "code",
   "execution_count": 6,
   "metadata": {},
   "outputs": [],
   "source": [
    "# Take the values of the column that contains review text data, save to a variable named \"documents\"\n",
    "\n",
    "documents= df['text'].values\n",
    "\n"
   ]
  },
  {
   "cell_type": "markdown",
   "metadata": {},
   "source": [
    "### Define your target variable (any categorical variable that may be meaningful)"
   ]
  },
  {
   "cell_type": "markdown",
   "metadata": {},
   "source": [
    "#### For example, I am interested in perfect (5 stars) and imperfect (1-4 stars) rating"
   ]
  },
  {
   "cell_type": "code",
   "execution_count": 7,
   "metadata": {},
   "outputs": [],
   "source": [
    "# Make a column and take the values, save to a variable named \"target\"\n",
    "df['perfect'] = df['stars'] > 4\n",
    "target = df['perfect'].values\n"
   ]
  },
  {
   "cell_type": "markdown",
   "metadata": {},
   "source": [
    "#### You may want to look at the statistic of the target variable"
   ]
  },
  {
   "cell_type": "code",
   "execution_count": 8,
   "metadata": {},
   "outputs": [
    {
     "data": {
      "text/plain": [
       "0.4741461922405801"
      ]
     },
     "execution_count": 8,
     "metadata": {},
     "output_type": "execute_result"
    }
   ],
   "source": [
    "# To be implemented\n",
    "target[:10]\n",
    "target.mean()"
   ]
  },
  {
   "cell_type": "markdown",
   "metadata": {},
   "source": [
    "### Create training dataset and test dataset"
   ]
  },
  {
   "cell_type": "code",
   "execution_count": 9,
   "metadata": {},
   "outputs": [
    {
     "name": "stderr",
     "output_type": "stream",
     "text": [
      "C:\\Users\\yxu\\AppData\\Local\\Continuum\\anaconda3\\lib\\site-packages\\sklearn\\cross_validation.py:41: DeprecationWarning: This module was deprecated in version 0.18 in favor of the model_selection module into which all the refactored classes and functions are moved. Also note that the interface of the new CV iterators are different from that of this module. This module will be removed in 0.20.\n",
      "  \"This module will be removed in 0.20.\", DeprecationWarning)\n"
     ]
    }
   ],
   "source": [
    "from sklearn.cross_validation import train_test_split"
   ]
  },
  {
   "cell_type": "code",
   "execution_count": 10,
   "metadata": {},
   "outputs": [],
   "source": [
    "# documents is your X, target is your y\n",
    "# Now split the data to training set and test set\n",
    "# You may want to start with a big \"test_size\", since large training set can easily crash your laptop.\n",
    "x_train, x_test, y_train, y_test = train_test_split(documents, target, test_size = .9, random_state=101)"
   ]
  },
  {
   "cell_type": "markdown",
   "metadata": {},
   "source": [
    "### Get NLP representation of the documents\n",
    "\n",
    "#### Fit TfidfVectorizer with training data only, then tranform all the data to tf-idf"
   ]
  },
  {
   "cell_type": "code",
   "execution_count": 11,
   "metadata": {},
   "outputs": [],
   "source": [
    "from sklearn.feature_extraction.text import TfidfVectorizer"
   ]
  },
  {
   "cell_type": "code",
   "execution_count": 12,
   "metadata": {},
   "outputs": [],
   "source": [
    "# Create TfidfVectorizer, and name it vectorizer, choose a reasonable max_features, e.g. 1000\n",
    "vectorizer = TfidfVectorizer(stop_words = 'english', max_features=1000)"
   ]
  },
  {
   "cell_type": "code",
   "execution_count": 13,
   "metadata": {},
   "outputs": [],
   "source": [
    "# Train the model with your training data\n",
    "X_train_ndarrays = vectorizer.fit_transform(x_train).toarray()\n",
    "X_train_tfidf_matrix = vectorizer.fit_transform(x_train).todense()"
   ]
  },
  {
   "cell_type": "code",
   "execution_count": 14,
   "metadata": {},
   "outputs": [],
   "source": [
    "# Get the vocab of your tfidf\n",
    "words=vectorizer.get_feature_names()"
   ]
  },
  {
   "cell_type": "code",
   "execution_count": 15,
   "metadata": {},
   "outputs": [
    {
     "data": {
      "text/plain": [
       "(64071, 1000)"
      ]
     },
     "execution_count": 15,
     "metadata": {},
     "output_type": "execute_result"
    }
   ],
   "source": [
    "X_train_ndarrays.shape\n",
    "#X_train_tfidf_matrix.shape"
   ]
  },
  {
   "cell_type": "code",
   "execution_count": 16,
   "metadata": {},
   "outputs": [],
   "source": [
    "# Use the trained model to transform all the reviews\n",
    "X_ndarrays = vectorizer.transform(np.concatenate([x_train, x_test])).toarray()"
   ]
  },
  {
   "cell_type": "markdown",
   "metadata": {},
   "source": [
    "### Cluster reviews with KMeans"
   ]
  },
  {
   "cell_type": "markdown",
   "metadata": {},
   "source": [
    "#### Fit k-means clustering with the training vectors and apply it on all the data"
   ]
  },
  {
   "cell_type": "code",
   "execution_count": 17,
   "metadata": {},
   "outputs": [
    {
     "data": {
      "text/plain": [
       "KMeans(algorithm='auto', copy_x=True, init='k-means++', max_iter=300,\n",
       "    n_clusters=2, n_init=10, n_jobs=-1, precompute_distances='auto',\n",
       "    random_state=None, tol=0.0001, verbose=0)"
      ]
     },
     "execution_count": 17,
     "metadata": {},
     "output_type": "execute_result"
    }
   ],
   "source": [
    "# To be implemented\n",
    "from sklearn.cluster import KMeans\n",
    "kmeans = KMeans(n_clusters=2, n_jobs = -1)\n",
    "\n",
    "kmeans.fit(X_train_ndarrays)"
   ]
  },
  {
   "cell_type": "markdown",
   "metadata": {},
   "source": [
    "#### Make predictions on all your data"
   ]
  },
  {
   "cell_type": "code",
   "execution_count": 18,
   "metadata": {},
   "outputs": [
    {
     "data": {
      "text/plain": [
       "array([0, 1, 0, ..., 0, 1, 0])"
      ]
     },
     "execution_count": 18,
     "metadata": {},
     "output_type": "execute_result"
    }
   ],
   "source": [
    "assigned_cluster = kmeans.predict(X_ndarrays)\n",
    "assigned_cluster"
   ]
  },
  {
   "cell_type": "markdown",
   "metadata": {},
   "source": [
    "#### Inspect the centroids\n",
    "To find out what \"topics\" Kmeans has discovered we must inspect the centroids. Print out the centroids of the Kmeans clustering.\n",
    "\n",
    "   These centroids are simply a bunch of vectors.  To make any sense of them we need to map these vectors back into our 'word space'.  Think of each feature/dimension of the centroid vector as representing the \"average\" review or the average occurances of words for that cluster."
   ]
  },
  {
   "cell_type": "code",
   "execution_count": 19,
   "metadata": {},
   "outputs": [
    {
     "name": "stdout",
     "output_type": "stream",
     "text": [
      "cluster centers:\n",
      "(2, 1000)\n"
     ]
    }
   ],
   "source": [
    "# To be implemented\n",
    "print (\"cluster centers:\")\n",
    "print (kmeans.cluster_centers_.shape)\n",
    "#print(\"cluster centers: \\n %s\"%kmeans.cluster_centers_)"
   ]
  },
  {
   "cell_type": "markdown",
   "metadata": {},
   "source": [
    "#### Find the top 10 features for each cluster.\n",
    "For topics we are only really interested in the most present words, i.e. features/dimensions with the greatest representation in the centroid.  Print out the top ten words for each centroid.\n",
    "\n",
    "* Sort each centroid vector to find the top 10 features\n",
    "* Go back to your vectorizer object to find out what words each of these features corresponds to.\n"
   ]
  },
  {
   "cell_type": "code",
   "execution_count": 20,
   "metadata": {},
   "outputs": [
    {
     "name": "stdout",
     "output_type": "stream",
     "text": [
      "top features for each cluster:\n",
      "0: good, food, place, just, like, time, ordered, service, order\n",
      "1: great, food, service, place, amazing, good, love, friendly, best\n"
     ]
    }
   ],
   "source": [
    "# To be implemented\n",
    "n_feat=10\n",
    "top_centroids = kmeans.cluster_centers_.argsort()[:, -1:-n_feat:-1]\n",
    "\n",
    "print(\"top features for each cluster:\")\n",
    "for num, centroid in enumerate(top_centroids):\n",
    "    print(\"%d: %s\" %(num, \", \".join(words[i] for i in centroid)))"
   ]
  },
  {
   "cell_type": "markdown",
   "metadata": {},
   "source": [
    "#### Try different k\n",
    "If you set k == to a different number, how does the top features change?"
   ]
  },
  {
   "cell_type": "code",
   "execution_count": 21,
   "metadata": {},
   "outputs": [
    {
     "data": {
      "text/plain": [
       "KMeans(algorithm='auto', copy_x=True, init='k-means++', max_iter=300,\n",
       "    n_clusters=6, n_init=10, n_jobs=1, precompute_distances='auto',\n",
       "    random_state=None, tol=0.0001, verbose=0)"
      ]
     },
     "execution_count": 21,
     "metadata": {},
     "output_type": "execute_result"
    }
   ],
   "source": [
    "# To be implemented\n",
    "from sklearn.cluster import KMeans\n",
    "kmeans= KMeans(n_clusters=6)\n",
    "kmeans.fit(X_train_ndarrays)\n"
   ]
  },
  {
   "cell_type": "code",
   "execution_count": 22,
   "metadata": {},
   "outputs": [],
   "source": [
    "assigned_cluster = kmeans.predict(X_ndarrays)"
   ]
  },
  {
   "cell_type": "code",
   "execution_count": 23,
   "metadata": {},
   "outputs": [],
   "source": [
    "n_feat=10\n",
    "top_centroids = kmeans.cluster_centers_.argsort()[:, -1:-n_feat:-1]"
   ]
  },
  {
   "cell_type": "code",
   "execution_count": 24,
   "metadata": {},
   "outputs": [
    {
     "name": "stdout",
     "output_type": "stream",
     "text": [
      "top features for each cluster:\n",
      "0: burger, fries, burgers, good, cheese, shake, food, place, great\n",
      "1: pizza, good, crust, place, great, cheese, slice, order, best\n",
      "2: food, order, just, time, service, like, minutes, came, got\n",
      "3: great, food, service, place, amazing, good, friendly, staff, awesome\n",
      "4: good, food, place, best, vegas, service, delicious, amazing, love\n",
      "5: chicken, fried, good, rice, food, ordered, place, great, like\n"
     ]
    }
   ],
   "source": [
    "print(\"top features for each cluster:\")\n",
    "for num, centroid in enumerate(top_centroids):\n",
    "    print(\"%d: %s\" %(num, \", \".join(words[i] for i in centroid)))"
   ]
  },
  {
   "cell_type": "markdown",
   "metadata": {},
   "source": [
    "#### Print out the rating and review of a random sample of the reviews assigned to each cluster to get a sense of the cluster."
   ]
  },
  {
   "cell_type": "code",
   "execution_count": 25,
   "metadata": {},
   "outputs": [
    {
     "data": {
      "text/plain": [
       "array([0, 1, 2, 3, 4, 5])"
      ]
     },
     "execution_count": 25,
     "metadata": {},
     "output_type": "execute_result"
    }
   ],
   "source": [
    "# To be implemented\n",
    "np.unique(assigned_cluster)"
   ]
  },
  {
   "cell_type": "code",
   "execution_count": 26,
   "metadata": {},
   "outputs": [
    {
     "name": "stdout",
     "output_type": "stream",
     "text": [
      "==========\n",
      "Cluster 0:\n",
      " 5 - \n",
      "Quality French Food!  If you like chicken, the coq au vin is very tasty and I would highly recommend it. This spot has great service, and a nice little bar area inside.\n",
      " 5 - \n",
      "The sushi cupcakes are worth the drive down here. The General Managers customer service is over the top. If you come to the Linq you have to come here\n",
      "==========\n",
      "Cluster 1:\n",
      " 2 - \n",
      "Did you used to be a man?!  What I overheard at the bar.  Child present in the bar.  F-bombs flying by staff.  \n",
      "\n",
      "Drinks with my favorite daughter with entertainment.\n",
      " 5 - \n",
      "AYcE sushi in Vegas that has different daily specials!! That's awesome! And it's legitimate sushi pieces like halibut, Mackerels, yellowtail belly, salmon belly  to just name a few. That concept just sets this place a part from the other sushi places. \n",
      "\n",
      "Each sushi bite is small with small pieces of rice too so you won't have the urge to just hide the rice. Keep in mind they will charge u if you don't finish your food! Sitting at the bar they make the sushi much better with added salts or Yuzu! I don't know I let the sushi chef make it special for me! \n",
      "\n",
      "If rolls are your thing they do offer half rolls too but since Im all sushi all the time I didn't even consider those! \n",
      "\n",
      "Other appetizers worth mentioning was sashimi salad, garlic edamame, seaweed salad, and the dessert! I wish they had black sesame ice cream! But hey u don't come here for dessert! U come for the sushi!\n",
      "==========\n",
      "Cluster 2:\n",
      " 2 - \n",
      "This place sucks. 4 items on the breakfast menu, Denver omelette was OK (potatoes and toast were bad) but the service is miserable.\n",
      " 1 - \n",
      "Terrible customer service. :(\n",
      "My first order was terrific so I placed another order today and it was horrible. So, now I'll find another Mediterranean restaurant. \n",
      "I ordered hummus but it did not arrive. I called the store and nicely let them know that my hummus did not arrive but that I got my pita bread. The person that answered the phone, Angela was very abrasive from the beginning and told me that my receipt did not reflect that I ordered hummus. I told her it must have been an error because I did click the button on the Yelp app. And she was very adamant and forceful about the fact that I did not order hummus and she could send me a copy of the receipt if I didn't believe her. Snarky!\n",
      "After our call disconnected I called back and asked if I can buy some hummus because that was what I was really craving. I had to keep de-escalating. I explained to her I'm in bed not feeling well. I didn't cook dinner I didn't want to go out of my house that's why I spent 40 plus dollars on food delivery. She was very curt and told me know they have a $10 minimum order and that they will not deliver it. I said you know this isn't about policy Angela this is about customer service it was an error and I'm asking you if I can please buy some hummus and she flat refused to sell me hummus unless I came and picked it up myself.\n",
      "I was shocked at how rude she was and poorly she dealt with a simple customer request.\n",
      "I waited an hour to get food, added the tip beforehand and was treated like sh*#.\n",
      "Never again.\n",
      "==========\n",
      "Cluster 3:\n",
      " 5 - \n",
      "A lot of the reviews say the service is poor, and I've been here enough to say that it really is hit or miss. However, I will say that our server last night was very attentive, and our food was brought out really quickly without compromising on quality. \n",
      "\n",
      "We went for the Wednesday $1 oyster special, and were also there during happy hour, so were able to take advantage of both. The oysters were extremely fresh, perfectly chilled, and we didn't receive any of the overly large ones that can at times be unappetizing. We started out with two glasses of wine, a dozen oysters, 2 orders of the steak tartar bites ($6 each during happy hr), and an order of hummus that was complimentary with a yelp check-in. Everything was perfect. We opted to sit on the patio since the weather was as perfect as it could possibly be, and ended up deciding to get another 2 glasses of wine, with an additional dozen oysters. \n",
      "\n",
      "As I mentioned, I've been here quite a few times before, and none of the food has ever been bad. Sometimes the service is lacking, and occasionally the food is 'good, not great', but as for last night, the experience was a perfect 10 all around. \n",
      "\n",
      "I will most definitely be returning for the oyster special, as it really can't be beat for the price and quality.\n",
      " 4 - \n",
      "Lee's Sandwiches is definitely the place to get your snack on. It's located in a shopping center in the middle of Chinatown, which most of the time, sucks driving in no matter what. \n",
      "\n",
      "Lee's is definitely a go-to at any time of the day simply because they have affordable food that's a little above average in quality. I usually come during late night hours after work or class because it's not really busy and it isn't too pricey to break the bank.\n",
      "\n",
      "The interior is bright. There's neon lights everywhere, colorful displays of food and bottled drinks off to the sides (like the jellies that come in the animal-shaped jars), and upbeat Top 100 type music playing. It literally looks like a scene from iCarly or some other show on Nick LOL. \n",
      "\n",
      "Their taro milk tea with boba is actually pretty good. I think at some places the taro boba is a hit or a miss. Lee's pretty much has it (almost) perfect. It's sweet and not watered down. The boba is a little sparing, but it's the perfect consistency -- not too mushy, and not undercooked and hard. Ask for less ice if you don't want your drink to be 85% ice and the rest actual liquid and boba.\n",
      "\n",
      "I'm a big fan of their BBQ Pork steamed buns. The dough isn't dry when you bite in, and although the meat filling is bundled up in the center of the bun, it's actually really tasty! The filling is very sweet/savory and is one snack that can hold you over for a while (at least for me it does). Most of the time, they have steamed buns available but sometimes they can be completely wiped out of them because they're so good. They have other snacks that are equally as delicious like the chicken wings and the egg rolls. They're super addicting as well!\n",
      "\n",
      "If you don't want to drive all over Chinatown for decent boba and cheap snack-like food, then Lee's has got your back!\n",
      "==========\n",
      "Cluster 4:\n",
      " 5 - \n",
      "The best bartenders in town.  Food is so much better than normal bar food. Get the Eastwood burger you won't be disappointed....\n",
      " 1 - \n",
      "I love Chipotle and have always had a great experience except for at this location. I asked for sliced avocado and they looked at me like I just requested a live chicken.  The clerk told me they dont do that ..they only have the guacomole..I said dont you make the guacomole fresh from Avocados...she said yes..I said then please get an avocado and slice some of it for me..she said she is not allowed to do that...she instead offered to sell me an entire avocado and told me I would have tp slice it myself.  I asked the cashier the same question and the original clerk leaned over and said ...thats what I told you....not very pleasant ......\n",
      "==========\n",
      "Cluster 5:\n",
      " 4 - \n",
      "First time trying Brazilian BBQ and we were not disappointed! The men bringing around the various meats were all very friendly and accommodating. The salad bar was good and so was the service. Come hungry!\n",
      " 1 - \n",
      "Came in here for the buy one take one deal.. kids ordered spaghetti and Alfredo..our waitress wasn't very  attentive to our needs, she didn't even bother asking what my kids wanted as the take home meal,usually we get to choose but, she assumed the kids wanted the same pasta.\n",
      "Also wasn't aware that they charge for extra dipping sauce, I brought this issue up with Chris Casper and all he says to me is \"nothing is free\" lol..very professional\n",
      "As far a I know salad & breadsticks are free with your order.\n"
     ]
    },
    {
     "name": "stderr",
     "output_type": "stream",
     "text": [
      "C:\\Users\\yxu\\AppData\\Local\\Continuum\\anaconda3\\lib\\site-packages\\ipykernel_launcher.py:7: DeprecationWarning: \n",
      ".ix is deprecated. Please use\n",
      ".loc for label based indexing or\n",
      ".iloc for positional indexing\n",
      "\n",
      "See the documentation here:\n",
      "http://pandas.pydata.org/pandas-docs/stable/indexing.html#ix-indexer-is-deprecated\n",
      "  import sys\n"
     ]
    }
   ],
   "source": [
    "for i in range(kmeans.n_clusters):\n",
    "    cluster = np.arange(0, X_ndarrays.shape[0])[assigned_cluster == i]\n",
    "    sample_reviews = np.random.choice(cluster, 2, replace = False)\n",
    "    print (\"=\" * 10)\n",
    "    print (\"Cluster %d:\" % i) \n",
    "    for review_index in sample_reviews:\n",
    "        print (\" %s - \" % df.ix[review_index]['stars']),\n",
    "        print (\"%s\" %df.ix[review_index]['text'])\n",
    "    print"
   ]
  },
  {
   "cell_type": "markdown",
   "metadata": {},
   "source": [
    "## 2. Cluster all the reviews of the most reviewed restaurant\n",
    "Let's find the most reviewed restaurant and analyze its reviews"
   ]
  },
  {
   "cell_type": "code",
   "execution_count": 27,
   "metadata": {},
   "outputs": [],
   "source": [
    "# Find the business who got most reviews, get your filtered df, name it df_top_restaurant\n",
    "most_reviewed_restaurant = df['business_id'].value_counts().index[0]"
   ]
  },
  {
   "cell_type": "code",
   "execution_count": 28,
   "metadata": {},
   "outputs": [],
   "source": [
    "df_top_restaurant = df[df['business_id'] == most_reviewed_restaurant].copy().reset_index()"
   ]
  },
  {
   "cell_type": "code",
   "execution_count": 29,
   "metadata": {},
   "outputs": [
    {
     "data": {
      "text/html": [
       "<div>\n",
       "<style scoped>\n",
       "    .dataframe tbody tr th:only-of-type {\n",
       "        vertical-align: middle;\n",
       "    }\n",
       "\n",
       "    .dataframe tbody tr th {\n",
       "        vertical-align: top;\n",
       "    }\n",
       "\n",
       "    .dataframe thead th {\n",
       "        text-align: right;\n",
       "    }\n",
       "</style>\n",
       "<table border=\"1\" class=\"dataframe\">\n",
       "  <thead>\n",
       "    <tr style=\"text-align: right;\">\n",
       "      <th></th>\n",
       "      <th>index</th>\n",
       "      <th>business_id</th>\n",
       "      <th>name</th>\n",
       "      <th>categories</th>\n",
       "      <th>avg_stars</th>\n",
       "      <th>cool</th>\n",
       "      <th>date</th>\n",
       "      <th>funny</th>\n",
       "      <th>review_id</th>\n",
       "      <th>stars</th>\n",
       "      <th>text</th>\n",
       "      <th>useful</th>\n",
       "      <th>user_id</th>\n",
       "      <th>perfect</th>\n",
       "    </tr>\n",
       "  </thead>\n",
       "  <tbody>\n",
       "    <tr>\n",
       "      <th>0</th>\n",
       "      <td>283639</td>\n",
       "      <td>RESDUcs7fIiihp38-d6_6g</td>\n",
       "      <td>Bacchanal Buffet</td>\n",
       "      <td>Sandwiches, Buffets, Breakfast &amp; Brunch, Food,...</td>\n",
       "      <td>4.0</td>\n",
       "      <td>0</td>\n",
       "      <td>2015-09-16</td>\n",
       "      <td>0</td>\n",
       "      <td>gkcPdbblTvZDMSwx8nVEKw</td>\n",
       "      <td>5</td>\n",
       "      <td>Got here early on football Sunday 7:30am as I ...</td>\n",
       "      <td>0</td>\n",
       "      <td>SKteB5rgDlkkUa1Zxe1N0Q</td>\n",
       "      <td>True</td>\n",
       "    </tr>\n",
       "    <tr>\n",
       "      <th>1</th>\n",
       "      <td>283640</td>\n",
       "      <td>RESDUcs7fIiihp38-d6_6g</td>\n",
       "      <td>Bacchanal Buffet</td>\n",
       "      <td>Sandwiches, Buffets, Breakfast &amp; Brunch, Food,...</td>\n",
       "      <td>4.0</td>\n",
       "      <td>0</td>\n",
       "      <td>2017-09-09</td>\n",
       "      <td>0</td>\n",
       "      <td>mQfl6ci46mu0xaZrkRUhlA</td>\n",
       "      <td>5</td>\n",
       "      <td>This buffet is amazing.  Yes, it is expensive,...</td>\n",
       "      <td>0</td>\n",
       "      <td>f638AHA_GoHbyDB7VFMz7A</td>\n",
       "      <td>True</td>\n",
       "    </tr>\n",
       "    <tr>\n",
       "      <th>2</th>\n",
       "      <td>283641</td>\n",
       "      <td>RESDUcs7fIiihp38-d6_6g</td>\n",
       "      <td>Bacchanal Buffet</td>\n",
       "      <td>Sandwiches, Buffets, Breakfast &amp; Brunch, Food,...</td>\n",
       "      <td>4.0</td>\n",
       "      <td>0</td>\n",
       "      <td>2017-02-08</td>\n",
       "      <td>0</td>\n",
       "      <td>lMarDJDg4-e_0YoJOKJoWA</td>\n",
       "      <td>2</td>\n",
       "      <td>This place....lol our server was nice.  But fo...</td>\n",
       "      <td>0</td>\n",
       "      <td>A21zMqdN76ueLZFpmbue0Q</td>\n",
       "      <td>False</td>\n",
       "    </tr>\n",
       "    <tr>\n",
       "      <th>3</th>\n",
       "      <td>283642</td>\n",
       "      <td>RESDUcs7fIiihp38-d6_6g</td>\n",
       "      <td>Bacchanal Buffet</td>\n",
       "      <td>Sandwiches, Buffets, Breakfast &amp; Brunch, Food,...</td>\n",
       "      <td>4.0</td>\n",
       "      <td>0</td>\n",
       "      <td>2017-12-22</td>\n",
       "      <td>0</td>\n",
       "      <td>30xmXTzJwHPcqt0uvSLQhQ</td>\n",
       "      <td>3</td>\n",
       "      <td>One star knocked off for the cold air conditio...</td>\n",
       "      <td>0</td>\n",
       "      <td>uNHEnP28MMmVy96ZSJKaMA</td>\n",
       "      <td>False</td>\n",
       "    </tr>\n",
       "    <tr>\n",
       "      <th>4</th>\n",
       "      <td>283643</td>\n",
       "      <td>RESDUcs7fIiihp38-d6_6g</td>\n",
       "      <td>Bacchanal Buffet</td>\n",
       "      <td>Sandwiches, Buffets, Breakfast &amp; Brunch, Food,...</td>\n",
       "      <td>4.0</td>\n",
       "      <td>0</td>\n",
       "      <td>2015-02-21</td>\n",
       "      <td>0</td>\n",
       "      <td>g8ojbzP1xoX9dbDfQv2KJw</td>\n",
       "      <td>5</td>\n",
       "      <td>Miche better experience this time around. We w...</td>\n",
       "      <td>0</td>\n",
       "      <td>3cZPpN-IrA8CSc5PkZLbXA</td>\n",
       "      <td>True</td>\n",
       "    </tr>\n",
       "    <tr>\n",
       "      <th>5</th>\n",
       "      <td>283644</td>\n",
       "      <td>RESDUcs7fIiihp38-d6_6g</td>\n",
       "      <td>Bacchanal Buffet</td>\n",
       "      <td>Sandwiches, Buffets, Breakfast &amp; Brunch, Food,...</td>\n",
       "      <td>4.0</td>\n",
       "      <td>0</td>\n",
       "      <td>2015-12-04</td>\n",
       "      <td>0</td>\n",
       "      <td>YUAMxrEKIvyjqqrmjzY_gA</td>\n",
       "      <td>5</td>\n",
       "      <td>Best buffet in Vegas We have ever been! It is ...</td>\n",
       "      <td>0</td>\n",
       "      <td>PnTSCTTvI1TKSmuv0omw4Q</td>\n",
       "      <td>True</td>\n",
       "    </tr>\n",
       "    <tr>\n",
       "      <th>6</th>\n",
       "      <td>283645</td>\n",
       "      <td>RESDUcs7fIiihp38-d6_6g</td>\n",
       "      <td>Bacchanal Buffet</td>\n",
       "      <td>Sandwiches, Buffets, Breakfast &amp; Brunch, Food,...</td>\n",
       "      <td>4.0</td>\n",
       "      <td>0</td>\n",
       "      <td>2017-09-22</td>\n",
       "      <td>0</td>\n",
       "      <td>SOUuNn4f1fHKxFHntYzonw</td>\n",
       "      <td>3</td>\n",
       "      <td>Was torn between 2 and 3.  Caught the last of ...</td>\n",
       "      <td>0</td>\n",
       "      <td>WvVqnHU_eVBUfL-CI9efdw</td>\n",
       "      <td>False</td>\n",
       "    </tr>\n",
       "    <tr>\n",
       "      <th>7</th>\n",
       "      <td>283646</td>\n",
       "      <td>RESDUcs7fIiihp38-d6_6g</td>\n",
       "      <td>Bacchanal Buffet</td>\n",
       "      <td>Sandwiches, Buffets, Breakfast &amp; Brunch, Food,...</td>\n",
       "      <td>4.0</td>\n",
       "      <td>0</td>\n",
       "      <td>2016-12-14</td>\n",
       "      <td>0</td>\n",
       "      <td>1mAf8vTO6TGTrQ3WSfTB3g</td>\n",
       "      <td>4</td>\n",
       "      <td>This place was one of those once in a lifetime...</td>\n",
       "      <td>0</td>\n",
       "      <td>aYLS5lhdCp5HSPOtkMvapw</td>\n",
       "      <td>False</td>\n",
       "    </tr>\n",
       "    <tr>\n",
       "      <th>8</th>\n",
       "      <td>283647</td>\n",
       "      <td>RESDUcs7fIiihp38-d6_6g</td>\n",
       "      <td>Bacchanal Buffet</td>\n",
       "      <td>Sandwiches, Buffets, Breakfast &amp; Brunch, Food,...</td>\n",
       "      <td>4.0</td>\n",
       "      <td>0</td>\n",
       "      <td>2015-08-13</td>\n",
       "      <td>0</td>\n",
       "      <td>T8dHL8iBqhNoAl6sT8QDaA</td>\n",
       "      <td>3</td>\n",
       "      <td>Food was delicious.  Had a little something fo...</td>\n",
       "      <td>1</td>\n",
       "      <td>5OwYOdoQFrPkVG4QeoODFw</td>\n",
       "      <td>False</td>\n",
       "    </tr>\n",
       "    <tr>\n",
       "      <th>9</th>\n",
       "      <td>283648</td>\n",
       "      <td>RESDUcs7fIiihp38-d6_6g</td>\n",
       "      <td>Bacchanal Buffet</td>\n",
       "      <td>Sandwiches, Buffets, Breakfast &amp; Brunch, Food,...</td>\n",
       "      <td>4.0</td>\n",
       "      <td>0</td>\n",
       "      <td>2016-06-01</td>\n",
       "      <td>0</td>\n",
       "      <td>q0r0GrGs4D0JSwCA62138w</td>\n",
       "      <td>5</td>\n",
       "      <td>Waited about an hour in line. \\nFeels like a m...</td>\n",
       "      <td>0</td>\n",
       "      <td>2dMTx3eEdNvw2o34V5pHew</td>\n",
       "      <td>True</td>\n",
       "    </tr>\n",
       "    <tr>\n",
       "      <th>10</th>\n",
       "      <td>283649</td>\n",
       "      <td>RESDUcs7fIiihp38-d6_6g</td>\n",
       "      <td>Bacchanal Buffet</td>\n",
       "      <td>Sandwiches, Buffets, Breakfast &amp; Brunch, Food,...</td>\n",
       "      <td>4.0</td>\n",
       "      <td>0</td>\n",
       "      <td>2016-01-16</td>\n",
       "      <td>0</td>\n",
       "      <td>7bOPIQC6tTrmTFdlYUXtuA</td>\n",
       "      <td>1</td>\n",
       "      <td>Eggs Benedict was bland.  No flavor what so ev...</td>\n",
       "      <td>0</td>\n",
       "      <td>Lk-jE5WsnRopJLnVTpTCcA</td>\n",
       "      <td>False</td>\n",
       "    </tr>\n",
       "    <tr>\n",
       "      <th>11</th>\n",
       "      <td>283650</td>\n",
       "      <td>RESDUcs7fIiihp38-d6_6g</td>\n",
       "      <td>Bacchanal Buffet</td>\n",
       "      <td>Sandwiches, Buffets, Breakfast &amp; Brunch, Food,...</td>\n",
       "      <td>4.0</td>\n",
       "      <td>0</td>\n",
       "      <td>2015-03-02</td>\n",
       "      <td>0</td>\n",
       "      <td>T-hzg6eBbTKQerIM5_kmhg</td>\n",
       "      <td>2</td>\n",
       "      <td>It's not that great.  You wait in a long line ...</td>\n",
       "      <td>0</td>\n",
       "      <td>vHoRB7FuydhS4fvs36B06Q</td>\n",
       "      <td>False</td>\n",
       "    </tr>\n",
       "    <tr>\n",
       "      <th>12</th>\n",
       "      <td>283651</td>\n",
       "      <td>RESDUcs7fIiihp38-d6_6g</td>\n",
       "      <td>Bacchanal Buffet</td>\n",
       "      <td>Sandwiches, Buffets, Breakfast &amp; Brunch, Food,...</td>\n",
       "      <td>4.0</td>\n",
       "      <td>0</td>\n",
       "      <td>2015-04-21</td>\n",
       "      <td>0</td>\n",
       "      <td>742Bh2jw2EhK9IgBZCHc4g</td>\n",
       "      <td>5</td>\n",
       "      <td>This place is where I had the best meal of my ...</td>\n",
       "      <td>1</td>\n",
       "      <td>Q3kgO-EU1Rm21eN-MxbQiA</td>\n",
       "      <td>True</td>\n",
       "    </tr>\n",
       "    <tr>\n",
       "      <th>13</th>\n",
       "      <td>283652</td>\n",
       "      <td>RESDUcs7fIiihp38-d6_6g</td>\n",
       "      <td>Bacchanal Buffet</td>\n",
       "      <td>Sandwiches, Buffets, Breakfast &amp; Brunch, Food,...</td>\n",
       "      <td>4.0</td>\n",
       "      <td>0</td>\n",
       "      <td>2015-04-29</td>\n",
       "      <td>0</td>\n",
       "      <td>NFaR_NomdcaMnwBrSZGAhw</td>\n",
       "      <td>5</td>\n",
       "      <td>I don't even have words to tell you about this...</td>\n",
       "      <td>0</td>\n",
       "      <td>SPyKvJZEf3Hrqu-Mfs3Yzw</td>\n",
       "      <td>True</td>\n",
       "    </tr>\n",
       "    <tr>\n",
       "      <th>14</th>\n",
       "      <td>283653</td>\n",
       "      <td>RESDUcs7fIiihp38-d6_6g</td>\n",
       "      <td>Bacchanal Buffet</td>\n",
       "      <td>Sandwiches, Buffets, Breakfast &amp; Brunch, Food,...</td>\n",
       "      <td>4.0</td>\n",
       "      <td>0</td>\n",
       "      <td>2015-03-31</td>\n",
       "      <td>0</td>\n",
       "      <td>BJiZSVooRiZHwXks1rgIaA</td>\n",
       "      <td>3</td>\n",
       "      <td>Paid $60 per person for dinner around 5-6pm no...</td>\n",
       "      <td>0</td>\n",
       "      <td>td3HVeObUHhlUJJqXs87ug</td>\n",
       "      <td>False</td>\n",
       "    </tr>\n",
       "    <tr>\n",
       "      <th>15</th>\n",
       "      <td>283654</td>\n",
       "      <td>RESDUcs7fIiihp38-d6_6g</td>\n",
       "      <td>Bacchanal Buffet</td>\n",
       "      <td>Sandwiches, Buffets, Breakfast &amp; Brunch, Food,...</td>\n",
       "      <td>4.0</td>\n",
       "      <td>0</td>\n",
       "      <td>2017-06-18</td>\n",
       "      <td>0</td>\n",
       "      <td>nnmcNHGLa6TTZ4KP7ZrU7A</td>\n",
       "      <td>1</td>\n",
       "      <td>Food is subpar. There's a line to get to pay, ...</td>\n",
       "      <td>0</td>\n",
       "      <td>KIbfAG_JrTEPt6aQXcnQJg</td>\n",
       "      <td>False</td>\n",
       "    </tr>\n",
       "    <tr>\n",
       "      <th>16</th>\n",
       "      <td>283655</td>\n",
       "      <td>RESDUcs7fIiihp38-d6_6g</td>\n",
       "      <td>Bacchanal Buffet</td>\n",
       "      <td>Sandwiches, Buffets, Breakfast &amp; Brunch, Food,...</td>\n",
       "      <td>4.0</td>\n",
       "      <td>0</td>\n",
       "      <td>2015-10-31</td>\n",
       "      <td>1</td>\n",
       "      <td>MCjmfEMPigjAPz3P7IGNQQ</td>\n",
       "      <td>2</td>\n",
       "      <td>??????????????????...\\n\\n\\n?? ?? ?? ???????\\n\\...</td>\n",
       "      <td>0</td>\n",
       "      <td>0RRXxdNjbSDOcvK0PbW6Sw</td>\n",
       "      <td>False</td>\n",
       "    </tr>\n",
       "    <tr>\n",
       "      <th>17</th>\n",
       "      <td>283656</td>\n",
       "      <td>RESDUcs7fIiihp38-d6_6g</td>\n",
       "      <td>Bacchanal Buffet</td>\n",
       "      <td>Sandwiches, Buffets, Breakfast &amp; Brunch, Food,...</td>\n",
       "      <td>4.0</td>\n",
       "      <td>0</td>\n",
       "      <td>2015-02-23</td>\n",
       "      <td>1</td>\n",
       "      <td>Kn06537mQODNinjnoR8F0Q</td>\n",
       "      <td>1</td>\n",
       "      <td>Do not expect too much on those food, services...</td>\n",
       "      <td>0</td>\n",
       "      <td>z1IxLGba6LypoWSeftR4-Q</td>\n",
       "      <td>False</td>\n",
       "    </tr>\n",
       "    <tr>\n",
       "      <th>18</th>\n",
       "      <td>283657</td>\n",
       "      <td>RESDUcs7fIiihp38-d6_6g</td>\n",
       "      <td>Bacchanal Buffet</td>\n",
       "      <td>Sandwiches, Buffets, Breakfast &amp; Brunch, Food,...</td>\n",
       "      <td>4.0</td>\n",
       "      <td>0</td>\n",
       "      <td>2015-06-23</td>\n",
       "      <td>0</td>\n",
       "      <td>TxuL-4tZBMwjfilc5KwwuQ</td>\n",
       "      <td>1</td>\n",
       "      <td>Total waste of time.  Checked in at the kiosk ...</td>\n",
       "      <td>0</td>\n",
       "      <td>GESpk4P9mCe2TXfF7ClZxQ</td>\n",
       "      <td>False</td>\n",
       "    </tr>\n",
       "    <tr>\n",
       "      <th>19</th>\n",
       "      <td>283658</td>\n",
       "      <td>RESDUcs7fIiihp38-d6_6g</td>\n",
       "      <td>Bacchanal Buffet</td>\n",
       "      <td>Sandwiches, Buffets, Breakfast &amp; Brunch, Food,...</td>\n",
       "      <td>4.0</td>\n",
       "      <td>0</td>\n",
       "      <td>2016-03-13</td>\n",
       "      <td>0</td>\n",
       "      <td>oQ6eVYyeTUKwycl2wIadUQ</td>\n",
       "      <td>4</td>\n",
       "      <td>Amazing selections -- Good for a sea food lover</td>\n",
       "      <td>0</td>\n",
       "      <td>-EVdaQWBxUhroURI8wMWVg</td>\n",
       "      <td>False</td>\n",
       "    </tr>\n",
       "    <tr>\n",
       "      <th>20</th>\n",
       "      <td>283659</td>\n",
       "      <td>RESDUcs7fIiihp38-d6_6g</td>\n",
       "      <td>Bacchanal Buffet</td>\n",
       "      <td>Sandwiches, Buffets, Breakfast &amp; Brunch, Food,...</td>\n",
       "      <td>4.0</td>\n",
       "      <td>0</td>\n",
       "      <td>2016-03-14</td>\n",
       "      <td>0</td>\n",
       "      <td>_1aU5ba_I8hKefJYIDOB9A</td>\n",
       "      <td>4</td>\n",
       "      <td>All I have to say is GET THERE EARLY so you do...</td>\n",
       "      <td>0</td>\n",
       "      <td>mttyWYBvO3X00c00KhnHrw</td>\n",
       "      <td>False</td>\n",
       "    </tr>\n",
       "    <tr>\n",
       "      <th>21</th>\n",
       "      <td>283660</td>\n",
       "      <td>RESDUcs7fIiihp38-d6_6g</td>\n",
       "      <td>Bacchanal Buffet</td>\n",
       "      <td>Sandwiches, Buffets, Breakfast &amp; Brunch, Food,...</td>\n",
       "      <td>4.0</td>\n",
       "      <td>1</td>\n",
       "      <td>2016-07-14</td>\n",
       "      <td>1</td>\n",
       "      <td>_yo6drfk1jb1Bt-0UKldPQ</td>\n",
       "      <td>1</td>\n",
       "      <td>Poor food quality high price and try to scam u...</td>\n",
       "      <td>1</td>\n",
       "      <td>sAvEjlpaBtRGiVeswwBo4Q</td>\n",
       "      <td>False</td>\n",
       "    </tr>\n",
       "    <tr>\n",
       "      <th>22</th>\n",
       "      <td>283661</td>\n",
       "      <td>RESDUcs7fIiihp38-d6_6g</td>\n",
       "      <td>Bacchanal Buffet</td>\n",
       "      <td>Sandwiches, Buffets, Breakfast &amp; Brunch, Food,...</td>\n",
       "      <td>4.0</td>\n",
       "      <td>1</td>\n",
       "      <td>2017-02-28</td>\n",
       "      <td>0</td>\n",
       "      <td>NXOgf4JQNbskd2XYhPJB7A</td>\n",
       "      <td>5</td>\n",
       "      <td>This buffet was amazing! It was a bit pricey, ...</td>\n",
       "      <td>1</td>\n",
       "      <td>wHeH7PwKHubMjmx9SroN4w</td>\n",
       "      <td>True</td>\n",
       "    </tr>\n",
       "    <tr>\n",
       "      <th>23</th>\n",
       "      <td>283662</td>\n",
       "      <td>RESDUcs7fIiihp38-d6_6g</td>\n",
       "      <td>Bacchanal Buffet</td>\n",
       "      <td>Sandwiches, Buffets, Breakfast &amp; Brunch, Food,...</td>\n",
       "      <td>4.0</td>\n",
       "      <td>0</td>\n",
       "      <td>2016-11-24</td>\n",
       "      <td>0</td>\n",
       "      <td>R97X06G0_2bbmPp4zmelzA</td>\n",
       "      <td>1</td>\n",
       "      <td>The lines are too long and they manage the lin...</td>\n",
       "      <td>0</td>\n",
       "      <td>oyDVFvjN4DSV6cB1qNbcPQ</td>\n",
       "      <td>False</td>\n",
       "    </tr>\n",
       "    <tr>\n",
       "      <th>24</th>\n",
       "      <td>283663</td>\n",
       "      <td>RESDUcs7fIiihp38-d6_6g</td>\n",
       "      <td>Bacchanal Buffet</td>\n",
       "      <td>Sandwiches, Buffets, Breakfast &amp; Brunch, Food,...</td>\n",
       "      <td>4.0</td>\n",
       "      <td>0</td>\n",
       "      <td>2015-03-07</td>\n",
       "      <td>0</td>\n",
       "      <td>xBfPS-HHFsxIVDSomAR1vw</td>\n",
       "      <td>5</td>\n",
       "      <td>Went for breakfast on a Monday morning with my...</td>\n",
       "      <td>0</td>\n",
       "      <td>Yqd7Nkl8P9tJwAXDteF25Q</td>\n",
       "      <td>True</td>\n",
       "    </tr>\n",
       "    <tr>\n",
       "      <th>25</th>\n",
       "      <td>283664</td>\n",
       "      <td>RESDUcs7fIiihp38-d6_6g</td>\n",
       "      <td>Bacchanal Buffet</td>\n",
       "      <td>Sandwiches, Buffets, Breakfast &amp; Brunch, Food,...</td>\n",
       "      <td>4.0</td>\n",
       "      <td>0</td>\n",
       "      <td>2015-09-08</td>\n",
       "      <td>0</td>\n",
       "      <td>z6Fsup7baC7rBQESZ8su9w</td>\n",
       "      <td>5</td>\n",
       "      <td>This buffet was pretty impressive. They had so...</td>\n",
       "      <td>0</td>\n",
       "      <td>jOBIvlOzOQ6ml3WkyAvQWQ</td>\n",
       "      <td>True</td>\n",
       "    </tr>\n",
       "    <tr>\n",
       "      <th>26</th>\n",
       "      <td>283665</td>\n",
       "      <td>RESDUcs7fIiihp38-d6_6g</td>\n",
       "      <td>Bacchanal Buffet</td>\n",
       "      <td>Sandwiches, Buffets, Breakfast &amp; Brunch, Food,...</td>\n",
       "      <td>4.0</td>\n",
       "      <td>0</td>\n",
       "      <td>2015-06-24</td>\n",
       "      <td>0</td>\n",
       "      <td>31kgDADzztXI45pN9wWn-A</td>\n",
       "      <td>3</td>\n",
       "      <td>I came here for the Christmas holiday dinner b...</td>\n",
       "      <td>1</td>\n",
       "      <td>u4iBXHU_ZCUIXymxkcsHdA</td>\n",
       "      <td>False</td>\n",
       "    </tr>\n",
       "    <tr>\n",
       "      <th>27</th>\n",
       "      <td>283666</td>\n",
       "      <td>RESDUcs7fIiihp38-d6_6g</td>\n",
       "      <td>Bacchanal Buffet</td>\n",
       "      <td>Sandwiches, Buffets, Breakfast &amp; Brunch, Food,...</td>\n",
       "      <td>4.0</td>\n",
       "      <td>0</td>\n",
       "      <td>2016-12-19</td>\n",
       "      <td>0</td>\n",
       "      <td>yx8hKAOF0bNd56GgFljjxw</td>\n",
       "      <td>4</td>\n",
       "      <td>This is my favorite buffet in LV. There is so ...</td>\n",
       "      <td>1</td>\n",
       "      <td>f1CbfW56DOndXHd1yfADYg</td>\n",
       "      <td>False</td>\n",
       "    </tr>\n",
       "    <tr>\n",
       "      <th>28</th>\n",
       "      <td>283667</td>\n",
       "      <td>RESDUcs7fIiihp38-d6_6g</td>\n",
       "      <td>Bacchanal Buffet</td>\n",
       "      <td>Sandwiches, Buffets, Breakfast &amp; Brunch, Food,...</td>\n",
       "      <td>4.0</td>\n",
       "      <td>0</td>\n",
       "      <td>2016-03-17</td>\n",
       "      <td>0</td>\n",
       "      <td>-yoly8x6Vg3TFF32B8DWsQ</td>\n",
       "      <td>4</td>\n",
       "      <td>Pricey but worth it. Great variety.  They give...</td>\n",
       "      <td>0</td>\n",
       "      <td>LXDm8rFwKBz8b6hCfFqIMg</td>\n",
       "      <td>False</td>\n",
       "    </tr>\n",
       "    <tr>\n",
       "      <th>29</th>\n",
       "      <td>283668</td>\n",
       "      <td>RESDUcs7fIiihp38-d6_6g</td>\n",
       "      <td>Bacchanal Buffet</td>\n",
       "      <td>Sandwiches, Buffets, Breakfast &amp; Brunch, Food,...</td>\n",
       "      <td>4.0</td>\n",
       "      <td>0</td>\n",
       "      <td>2017-07-02</td>\n",
       "      <td>0</td>\n",
       "      <td>Xci8QJaDOB7OazJIP9U0Cw</td>\n",
       "      <td>5</td>\n",
       "      <td>I'm staying at Caesar's Palace for 4th of July...</td>\n",
       "      <td>0</td>\n",
       "      <td>J90_7u_8vPYa03GMohNxAA</td>\n",
       "      <td>True</td>\n",
       "    </tr>\n",
       "    <tr>\n",
       "      <th>...</th>\n",
       "      <td>...</td>\n",
       "      <td>...</td>\n",
       "      <td>...</td>\n",
       "      <td>...</td>\n",
       "      <td>...</td>\n",
       "      <td>...</td>\n",
       "      <td>...</td>\n",
       "      <td>...</td>\n",
       "      <td>...</td>\n",
       "      <td>...</td>\n",
       "      <td>...</td>\n",
       "      <td>...</td>\n",
       "      <td>...</td>\n",
       "      <td>...</td>\n",
       "    </tr>\n",
       "    <tr>\n",
       "      <th>4893</th>\n",
       "      <td>288532</td>\n",
       "      <td>RESDUcs7fIiihp38-d6_6g</td>\n",
       "      <td>Bacchanal Buffet</td>\n",
       "      <td>Sandwiches, Buffets, Breakfast &amp; Brunch, Food,...</td>\n",
       "      <td>4.0</td>\n",
       "      <td>0</td>\n",
       "      <td>2017-12-28</td>\n",
       "      <td>0</td>\n",
       "      <td>yNLpIroAN9Pf7NWip3zqEQ</td>\n",
       "      <td>2</td>\n",
       "      <td>Y'all such a disappointment for a luxury buffe...</td>\n",
       "      <td>0</td>\n",
       "      <td>gF8E2gC8JKXdF7tD8uYabw</td>\n",
       "      <td>False</td>\n",
       "    </tr>\n",
       "    <tr>\n",
       "      <th>4894</th>\n",
       "      <td>288533</td>\n",
       "      <td>RESDUcs7fIiihp38-d6_6g</td>\n",
       "      <td>Bacchanal Buffet</td>\n",
       "      <td>Sandwiches, Buffets, Breakfast &amp; Brunch, Food,...</td>\n",
       "      <td>4.0</td>\n",
       "      <td>0</td>\n",
       "      <td>2017-11-22</td>\n",
       "      <td>0</td>\n",
       "      <td>CS0fs-hsLe-ReADrDBaGYQ</td>\n",
       "      <td>5</td>\n",
       "      <td>Great buffet but the line sucks.    The food i...</td>\n",
       "      <td>0</td>\n",
       "      <td>oUCaxUBcruhxU4XhCF523w</td>\n",
       "      <td>True</td>\n",
       "    </tr>\n",
       "    <tr>\n",
       "      <th>4895</th>\n",
       "      <td>288534</td>\n",
       "      <td>RESDUcs7fIiihp38-d6_6g</td>\n",
       "      <td>Bacchanal Buffet</td>\n",
       "      <td>Sandwiches, Buffets, Breakfast &amp; Brunch, Food,...</td>\n",
       "      <td>4.0</td>\n",
       "      <td>1</td>\n",
       "      <td>2017-11-14</td>\n",
       "      <td>0</td>\n",
       "      <td>6M7aPyKr0UhJXGcLOQ__zQ</td>\n",
       "      <td>5</td>\n",
       "      <td>This is one of the best buffets in Vegas!  Mak...</td>\n",
       "      <td>0</td>\n",
       "      <td>3haQPlxXOeRkzIeQeFjGaQ</td>\n",
       "      <td>True</td>\n",
       "    </tr>\n",
       "    <tr>\n",
       "      <th>4896</th>\n",
       "      <td>288535</td>\n",
       "      <td>RESDUcs7fIiihp38-d6_6g</td>\n",
       "      <td>Bacchanal Buffet</td>\n",
       "      <td>Sandwiches, Buffets, Breakfast &amp; Brunch, Food,...</td>\n",
       "      <td>4.0</td>\n",
       "      <td>1</td>\n",
       "      <td>2015-08-19</td>\n",
       "      <td>1</td>\n",
       "      <td>Sp2RBWOsxuyXegkhbgymmQ</td>\n",
       "      <td>5</td>\n",
       "      <td>The food here is amazing!\\n\\nThe only problem ...</td>\n",
       "      <td>1</td>\n",
       "      <td>zpB6UXczhM2vYpBjwlwbJg</td>\n",
       "      <td>True</td>\n",
       "    </tr>\n",
       "    <tr>\n",
       "      <th>4897</th>\n",
       "      <td>288536</td>\n",
       "      <td>RESDUcs7fIiihp38-d6_6g</td>\n",
       "      <td>Bacchanal Buffet</td>\n",
       "      <td>Sandwiches, Buffets, Breakfast &amp; Brunch, Food,...</td>\n",
       "      <td>4.0</td>\n",
       "      <td>0</td>\n",
       "      <td>2015-03-31</td>\n",
       "      <td>0</td>\n",
       "      <td>bEWrQmOl3c-jYOjYWd4Dsw</td>\n",
       "      <td>4</td>\n",
       "      <td>Loved the taco station w/ all the different ju...</td>\n",
       "      <td>0</td>\n",
       "      <td>czRgNFcl7PW1yoWT_gsK7A</td>\n",
       "      <td>False</td>\n",
       "    </tr>\n",
       "    <tr>\n",
       "      <th>4898</th>\n",
       "      <td>288537</td>\n",
       "      <td>RESDUcs7fIiihp38-d6_6g</td>\n",
       "      <td>Bacchanal Buffet</td>\n",
       "      <td>Sandwiches, Buffets, Breakfast &amp; Brunch, Food,...</td>\n",
       "      <td>4.0</td>\n",
       "      <td>0</td>\n",
       "      <td>2015-04-29</td>\n",
       "      <td>1</td>\n",
       "      <td>rhslNp9lHGWmOz1xaAeMcA</td>\n",
       "      <td>3</td>\n",
       "      <td>We planned a whole day around going here becau...</td>\n",
       "      <td>0</td>\n",
       "      <td>UyKVmpHUcsk_tjcspIWUow</td>\n",
       "      <td>False</td>\n",
       "    </tr>\n",
       "    <tr>\n",
       "      <th>4899</th>\n",
       "      <td>288538</td>\n",
       "      <td>RESDUcs7fIiihp38-d6_6g</td>\n",
       "      <td>Bacchanal Buffet</td>\n",
       "      <td>Sandwiches, Buffets, Breakfast &amp; Brunch, Food,...</td>\n",
       "      <td>4.0</td>\n",
       "      <td>0</td>\n",
       "      <td>2018-02-06</td>\n",
       "      <td>0</td>\n",
       "      <td>PVri6s6OXBS26SjfAAzsrQ</td>\n",
       "      <td>5</td>\n",
       "      <td>I loveeeeeee Bacchanal Buffet! Even when I had...</td>\n",
       "      <td>0</td>\n",
       "      <td>FMMG10-FrTutjs00CSvgYg</td>\n",
       "      <td>True</td>\n",
       "    </tr>\n",
       "    <tr>\n",
       "      <th>4900</th>\n",
       "      <td>288539</td>\n",
       "      <td>RESDUcs7fIiihp38-d6_6g</td>\n",
       "      <td>Bacchanal Buffet</td>\n",
       "      <td>Sandwiches, Buffets, Breakfast &amp; Brunch, Food,...</td>\n",
       "      <td>4.0</td>\n",
       "      <td>2</td>\n",
       "      <td>2016-05-08</td>\n",
       "      <td>2</td>\n",
       "      <td>rKnrsU9gG8kZjwbSxTpd8Q</td>\n",
       "      <td>4</td>\n",
       "      <td>You have to go!!! I can't say more than that b...</td>\n",
       "      <td>2</td>\n",
       "      <td>Znid_azpcHmdRMHGicmkWA</td>\n",
       "      <td>False</td>\n",
       "    </tr>\n",
       "    <tr>\n",
       "      <th>4901</th>\n",
       "      <td>288540</td>\n",
       "      <td>RESDUcs7fIiihp38-d6_6g</td>\n",
       "      <td>Bacchanal Buffet</td>\n",
       "      <td>Sandwiches, Buffets, Breakfast &amp; Brunch, Food,...</td>\n",
       "      <td>4.0</td>\n",
       "      <td>0</td>\n",
       "      <td>2018-01-19</td>\n",
       "      <td>0</td>\n",
       "      <td>FEKjP5QGt5ZP0Ay4YZ6DhA</td>\n",
       "      <td>3</td>\n",
       "      <td>This buffet was pretty disappointing for me. W...</td>\n",
       "      <td>1</td>\n",
       "      <td>ZRFzuTwpYlrqNBK1rbjDAA</td>\n",
       "      <td>False</td>\n",
       "    </tr>\n",
       "    <tr>\n",
       "      <th>4902</th>\n",
       "      <td>288541</td>\n",
       "      <td>RESDUcs7fIiihp38-d6_6g</td>\n",
       "      <td>Bacchanal Buffet</td>\n",
       "      <td>Sandwiches, Buffets, Breakfast &amp; Brunch, Food,...</td>\n",
       "      <td>4.0</td>\n",
       "      <td>0</td>\n",
       "      <td>2016-11-22</td>\n",
       "      <td>0</td>\n",
       "      <td>ixBsFHGweQuG1JW94owCAw</td>\n",
       "      <td>5</td>\n",
       "      <td>This is HANDS DOWN the best buffet in Vegas, b...</td>\n",
       "      <td>0</td>\n",
       "      <td>vbNrFaaoCXzlfVe1bGwkog</td>\n",
       "      <td>True</td>\n",
       "    </tr>\n",
       "    <tr>\n",
       "      <th>4903</th>\n",
       "      <td>288542</td>\n",
       "      <td>RESDUcs7fIiihp38-d6_6g</td>\n",
       "      <td>Bacchanal Buffet</td>\n",
       "      <td>Sandwiches, Buffets, Breakfast &amp; Brunch, Food,...</td>\n",
       "      <td>4.0</td>\n",
       "      <td>0</td>\n",
       "      <td>2016-01-14</td>\n",
       "      <td>0</td>\n",
       "      <td>qevymZj4_5cO872dei5l3A</td>\n",
       "      <td>5</td>\n",
       "      <td>This place has everything. From seafood to sli...</td>\n",
       "      <td>0</td>\n",
       "      <td>5L-vy6oyiXZfU_lcCjuspA</td>\n",
       "      <td>True</td>\n",
       "    </tr>\n",
       "    <tr>\n",
       "      <th>4904</th>\n",
       "      <td>288543</td>\n",
       "      <td>RESDUcs7fIiihp38-d6_6g</td>\n",
       "      <td>Bacchanal Buffet</td>\n",
       "      <td>Sandwiches, Buffets, Breakfast &amp; Brunch, Food,...</td>\n",
       "      <td>4.0</td>\n",
       "      <td>0</td>\n",
       "      <td>2015-07-13</td>\n",
       "      <td>0</td>\n",
       "      <td>VsKdP0P31P9aPMcHKTi2gA</td>\n",
       "      <td>5</td>\n",
       "      <td>We usually do 1 buffet per trip to Vegas. This...</td>\n",
       "      <td>0</td>\n",
       "      <td>6YYpJ59jfFCUHkGOpu2NTA</td>\n",
       "      <td>True</td>\n",
       "    </tr>\n",
       "    <tr>\n",
       "      <th>4905</th>\n",
       "      <td>288544</td>\n",
       "      <td>RESDUcs7fIiihp38-d6_6g</td>\n",
       "      <td>Bacchanal Buffet</td>\n",
       "      <td>Sandwiches, Buffets, Breakfast &amp; Brunch, Food,...</td>\n",
       "      <td>4.0</td>\n",
       "      <td>7</td>\n",
       "      <td>2016-07-08</td>\n",
       "      <td>5</td>\n",
       "      <td>cV41gjUqtuDlWmLnLca-qg</td>\n",
       "      <td>5</td>\n",
       "      <td>I told myself I was gonna run &amp; work out first...</td>\n",
       "      <td>6</td>\n",
       "      <td>xo0Mz2XOJL_mgIfSXagLXg</td>\n",
       "      <td>True</td>\n",
       "    </tr>\n",
       "    <tr>\n",
       "      <th>4906</th>\n",
       "      <td>288545</td>\n",
       "      <td>RESDUcs7fIiihp38-d6_6g</td>\n",
       "      <td>Bacchanal Buffet</td>\n",
       "      <td>Sandwiches, Buffets, Breakfast &amp; Brunch, Food,...</td>\n",
       "      <td>4.0</td>\n",
       "      <td>0</td>\n",
       "      <td>2017-03-08</td>\n",
       "      <td>0</td>\n",
       "      <td>56jjEV7mXXuD8KM4A4X4AQ</td>\n",
       "      <td>2</td>\n",
       "      <td>I had very high expectations. Went on a Monday...</td>\n",
       "      <td>0</td>\n",
       "      <td>hG2pEwKK6qZgC3xatACuqw</td>\n",
       "      <td>False</td>\n",
       "    </tr>\n",
       "    <tr>\n",
       "      <th>4907</th>\n",
       "      <td>288546</td>\n",
       "      <td>RESDUcs7fIiihp38-d6_6g</td>\n",
       "      <td>Bacchanal Buffet</td>\n",
       "      <td>Sandwiches, Buffets, Breakfast &amp; Brunch, Food,...</td>\n",
       "      <td>4.0</td>\n",
       "      <td>0</td>\n",
       "      <td>2016-11-14</td>\n",
       "      <td>0</td>\n",
       "      <td>yCw1S65Wwus5FQnxksXUYg</td>\n",
       "      <td>3</td>\n",
       "      <td>Just whatever. Yes there are tons of options b...</td>\n",
       "      <td>1</td>\n",
       "      <td>ybgMEBq2So3FFfiFF1rh-g</td>\n",
       "      <td>False</td>\n",
       "    </tr>\n",
       "    <tr>\n",
       "      <th>4908</th>\n",
       "      <td>288547</td>\n",
       "      <td>RESDUcs7fIiihp38-d6_6g</td>\n",
       "      <td>Bacchanal Buffet</td>\n",
       "      <td>Sandwiches, Buffets, Breakfast &amp; Brunch, Food,...</td>\n",
       "      <td>4.0</td>\n",
       "      <td>0</td>\n",
       "      <td>2015-04-14</td>\n",
       "      <td>0</td>\n",
       "      <td>rENDb1XdM-UKeKaY8n9GbA</td>\n",
       "      <td>5</td>\n",
       "      <td>Best buffet in Vegas! Everything was very good...</td>\n",
       "      <td>0</td>\n",
       "      <td>-kO6984fXByyZm3_6z2JYg</td>\n",
       "      <td>True</td>\n",
       "    </tr>\n",
       "    <tr>\n",
       "      <th>4909</th>\n",
       "      <td>288548</td>\n",
       "      <td>RESDUcs7fIiihp38-d6_6g</td>\n",
       "      <td>Bacchanal Buffet</td>\n",
       "      <td>Sandwiches, Buffets, Breakfast &amp; Brunch, Food,...</td>\n",
       "      <td>4.0</td>\n",
       "      <td>0</td>\n",
       "      <td>2018-04-15</td>\n",
       "      <td>0</td>\n",
       "      <td>4wPhdSSh1q0iEPxdvaNtVQ</td>\n",
       "      <td>1</td>\n",
       "      <td>I would give 2 or 3 stars just for the taste, ...</td>\n",
       "      <td>2</td>\n",
       "      <td>TSQQ4x91kMsEqFHgyUnWbw</td>\n",
       "      <td>False</td>\n",
       "    </tr>\n",
       "    <tr>\n",
       "      <th>4910</th>\n",
       "      <td>288549</td>\n",
       "      <td>RESDUcs7fIiihp38-d6_6g</td>\n",
       "      <td>Bacchanal Buffet</td>\n",
       "      <td>Sandwiches, Buffets, Breakfast &amp; Brunch, Food,...</td>\n",
       "      <td>4.0</td>\n",
       "      <td>0</td>\n",
       "      <td>2016-02-17</td>\n",
       "      <td>0</td>\n",
       "      <td>Wd8LVVw2uE2Sn3cE9lwFfw</td>\n",
       "      <td>1</td>\n",
       "      <td>Horrible checking in system - the worst. \\n\\nW...</td>\n",
       "      <td>1</td>\n",
       "      <td>dAwagEIP-ChguB51PPMh4A</td>\n",
       "      <td>False</td>\n",
       "    </tr>\n",
       "    <tr>\n",
       "      <th>4911</th>\n",
       "      <td>288550</td>\n",
       "      <td>RESDUcs7fIiihp38-d6_6g</td>\n",
       "      <td>Bacchanal Buffet</td>\n",
       "      <td>Sandwiches, Buffets, Breakfast &amp; Brunch, Food,...</td>\n",
       "      <td>4.0</td>\n",
       "      <td>0</td>\n",
       "      <td>2017-07-27</td>\n",
       "      <td>0</td>\n",
       "      <td>zcgkWtbyPTWHxfNgse9NXQ</td>\n",
       "      <td>4</td>\n",
       "      <td>update to previous review--the manager reached...</td>\n",
       "      <td>0</td>\n",
       "      <td>uYezJh0z1FcOK8BeTb-MNQ</td>\n",
       "      <td>False</td>\n",
       "    </tr>\n",
       "    <tr>\n",
       "      <th>4912</th>\n",
       "      <td>288551</td>\n",
       "      <td>RESDUcs7fIiihp38-d6_6g</td>\n",
       "      <td>Bacchanal Buffet</td>\n",
       "      <td>Sandwiches, Buffets, Breakfast &amp; Brunch, Food,...</td>\n",
       "      <td>4.0</td>\n",
       "      <td>0</td>\n",
       "      <td>2015-07-28</td>\n",
       "      <td>0</td>\n",
       "      <td>_CNqwLetYweHicSRjsGRmw</td>\n",
       "      <td>5</td>\n",
       "      <td>Expensive but very pleasurable buffet. Conside...</td>\n",
       "      <td>0</td>\n",
       "      <td>kU7quHAVoVlQouQLjpUo8w</td>\n",
       "      <td>True</td>\n",
       "    </tr>\n",
       "    <tr>\n",
       "      <th>4913</th>\n",
       "      <td>288552</td>\n",
       "      <td>RESDUcs7fIiihp38-d6_6g</td>\n",
       "      <td>Bacchanal Buffet</td>\n",
       "      <td>Sandwiches, Buffets, Breakfast &amp; Brunch, Food,...</td>\n",
       "      <td>4.0</td>\n",
       "      <td>0</td>\n",
       "      <td>2015-12-03</td>\n",
       "      <td>0</td>\n",
       "      <td>2VHmpJcRWqTRuUaC2M3DhA</td>\n",
       "      <td>2</td>\n",
       "      <td>I went in yelp to read reviews..alot of good o...</td>\n",
       "      <td>0</td>\n",
       "      <td>8DUBy2yBwrtgQ3kwd71_pw</td>\n",
       "      <td>False</td>\n",
       "    </tr>\n",
       "    <tr>\n",
       "      <th>4914</th>\n",
       "      <td>288553</td>\n",
       "      <td>RESDUcs7fIiihp38-d6_6g</td>\n",
       "      <td>Bacchanal Buffet</td>\n",
       "      <td>Sandwiches, Buffets, Breakfast &amp; Brunch, Food,...</td>\n",
       "      <td>4.0</td>\n",
       "      <td>0</td>\n",
       "      <td>2015-09-14</td>\n",
       "      <td>1</td>\n",
       "      <td>-p46iAQ9r9MmkmVs9Oo1Kw</td>\n",
       "      <td>1</td>\n",
       "      <td>The ambiance, hip-fine dining. The service, he...</td>\n",
       "      <td>2</td>\n",
       "      <td>sBLi9DFohuxSKgQZjNMXSg</td>\n",
       "      <td>False</td>\n",
       "    </tr>\n",
       "    <tr>\n",
       "      <th>4915</th>\n",
       "      <td>288554</td>\n",
       "      <td>RESDUcs7fIiihp38-d6_6g</td>\n",
       "      <td>Bacchanal Buffet</td>\n",
       "      <td>Sandwiches, Buffets, Breakfast &amp; Brunch, Food,...</td>\n",
       "      <td>4.0</td>\n",
       "      <td>0</td>\n",
       "      <td>2017-05-29</td>\n",
       "      <td>0</td>\n",
       "      <td>LOnYiEt4wpEXytTpuYvKLg</td>\n",
       "      <td>5</td>\n",
       "      <td>Honestly one of the best buffets I've ever gon...</td>\n",
       "      <td>1</td>\n",
       "      <td>J3ykuVkcYsttcksT_fIbpw</td>\n",
       "      <td>True</td>\n",
       "    </tr>\n",
       "    <tr>\n",
       "      <th>4916</th>\n",
       "      <td>288555</td>\n",
       "      <td>RESDUcs7fIiihp38-d6_6g</td>\n",
       "      <td>Bacchanal Buffet</td>\n",
       "      <td>Sandwiches, Buffets, Breakfast &amp; Brunch, Food,...</td>\n",
       "      <td>4.0</td>\n",
       "      <td>6</td>\n",
       "      <td>2016-06-11</td>\n",
       "      <td>5</td>\n",
       "      <td>6roR-LSYlK_ZcBSrMXmyhw</td>\n",
       "      <td>5</td>\n",
       "      <td>It ain't a Vegas trip without a buffet. This b...</td>\n",
       "      <td>11</td>\n",
       "      <td>HkbiKPFKaJPdLwPQGpKvtQ</td>\n",
       "      <td>True</td>\n",
       "    </tr>\n",
       "    <tr>\n",
       "      <th>4917</th>\n",
       "      <td>288556</td>\n",
       "      <td>RESDUcs7fIiihp38-d6_6g</td>\n",
       "      <td>Bacchanal Buffet</td>\n",
       "      <td>Sandwiches, Buffets, Breakfast &amp; Brunch, Food,...</td>\n",
       "      <td>4.0</td>\n",
       "      <td>0</td>\n",
       "      <td>2017-07-21</td>\n",
       "      <td>0</td>\n",
       "      <td>ExQVpasAvLxJ71aqOrle9A</td>\n",
       "      <td>4</td>\n",
       "      <td>The seafood selection is amazing!! Steaming cr...</td>\n",
       "      <td>0</td>\n",
       "      <td>B82EQctgw789hsmegYCzRQ</td>\n",
       "      <td>False</td>\n",
       "    </tr>\n",
       "    <tr>\n",
       "      <th>4918</th>\n",
       "      <td>288557</td>\n",
       "      <td>RESDUcs7fIiihp38-d6_6g</td>\n",
       "      <td>Bacchanal Buffet</td>\n",
       "      <td>Sandwiches, Buffets, Breakfast &amp; Brunch, Food,...</td>\n",
       "      <td>4.0</td>\n",
       "      <td>0</td>\n",
       "      <td>2017-08-24</td>\n",
       "      <td>0</td>\n",
       "      <td>M0yK8wDRU_IkgKv2JMnz1w</td>\n",
       "      <td>1</td>\n",
       "      <td>Terrible hostess and management! They don't kn...</td>\n",
       "      <td>0</td>\n",
       "      <td>cJQE_lyQygHPadn4h0C8Jw</td>\n",
       "      <td>False</td>\n",
       "    </tr>\n",
       "    <tr>\n",
       "      <th>4919</th>\n",
       "      <td>288558</td>\n",
       "      <td>RESDUcs7fIiihp38-d6_6g</td>\n",
       "      <td>Bacchanal Buffet</td>\n",
       "      <td>Sandwiches, Buffets, Breakfast &amp; Brunch, Food,...</td>\n",
       "      <td>4.0</td>\n",
       "      <td>0</td>\n",
       "      <td>2015-12-21</td>\n",
       "      <td>0</td>\n",
       "      <td>Zi5X4GR21qzlU1XtYytquQ</td>\n",
       "      <td>5</td>\n",
       "      <td>Nestled perfectly downtown in the Arts Distric...</td>\n",
       "      <td>0</td>\n",
       "      <td>c85M8BW80Lc7t4CkpnrdGw</td>\n",
       "      <td>True</td>\n",
       "    </tr>\n",
       "    <tr>\n",
       "      <th>4920</th>\n",
       "      <td>288559</td>\n",
       "      <td>RESDUcs7fIiihp38-d6_6g</td>\n",
       "      <td>Bacchanal Buffet</td>\n",
       "      <td>Sandwiches, Buffets, Breakfast &amp; Brunch, Food,...</td>\n",
       "      <td>4.0</td>\n",
       "      <td>1</td>\n",
       "      <td>2017-07-04</td>\n",
       "      <td>0</td>\n",
       "      <td>w-9UGiO02sXEHOtr0Z6eGw</td>\n",
       "      <td>5</td>\n",
       "      <td>Still my favorite buffet in Vegas. It's on the...</td>\n",
       "      <td>0</td>\n",
       "      <td>8zLtEdRSuCHU-qmnFgwF0w</td>\n",
       "      <td>True</td>\n",
       "    </tr>\n",
       "    <tr>\n",
       "      <th>4921</th>\n",
       "      <td>288560</td>\n",
       "      <td>RESDUcs7fIiihp38-d6_6g</td>\n",
       "      <td>Bacchanal Buffet</td>\n",
       "      <td>Sandwiches, Buffets, Breakfast &amp; Brunch, Food,...</td>\n",
       "      <td>4.0</td>\n",
       "      <td>0</td>\n",
       "      <td>2015-03-24</td>\n",
       "      <td>0</td>\n",
       "      <td>10slnV9nSNLFFn5Qr1J5SA</td>\n",
       "      <td>4</td>\n",
       "      <td>Best Buffet in Vegas.  I've been here on two o...</td>\n",
       "      <td>0</td>\n",
       "      <td>p5RcabsU9DXQEDef9RiRlQ</td>\n",
       "      <td>False</td>\n",
       "    </tr>\n",
       "    <tr>\n",
       "      <th>4922</th>\n",
       "      <td>288561</td>\n",
       "      <td>RESDUcs7fIiihp38-d6_6g</td>\n",
       "      <td>Bacchanal Buffet</td>\n",
       "      <td>Sandwiches, Buffets, Breakfast &amp; Brunch, Food,...</td>\n",
       "      <td>4.0</td>\n",
       "      <td>1</td>\n",
       "      <td>2015-05-24</td>\n",
       "      <td>1</td>\n",
       "      <td>S8CgQu0RygGD-mU66el-5Q</td>\n",
       "      <td>3</td>\n",
       "      <td>Overrated! I don't mind spending $$$ on food b...</td>\n",
       "      <td>2</td>\n",
       "      <td>QynN93ho1B_1ggZpO6A6hA</td>\n",
       "      <td>False</td>\n",
       "    </tr>\n",
       "  </tbody>\n",
       "</table>\n",
       "<p>4923 rows × 14 columns</p>\n",
       "</div>"
      ],
      "text/plain": [
       "       index             business_id              name  \\\n",
       "0     283639  RESDUcs7fIiihp38-d6_6g  Bacchanal Buffet   \n",
       "1     283640  RESDUcs7fIiihp38-d6_6g  Bacchanal Buffet   \n",
       "2     283641  RESDUcs7fIiihp38-d6_6g  Bacchanal Buffet   \n",
       "3     283642  RESDUcs7fIiihp38-d6_6g  Bacchanal Buffet   \n",
       "4     283643  RESDUcs7fIiihp38-d6_6g  Bacchanal Buffet   \n",
       "5     283644  RESDUcs7fIiihp38-d6_6g  Bacchanal Buffet   \n",
       "6     283645  RESDUcs7fIiihp38-d6_6g  Bacchanal Buffet   \n",
       "7     283646  RESDUcs7fIiihp38-d6_6g  Bacchanal Buffet   \n",
       "8     283647  RESDUcs7fIiihp38-d6_6g  Bacchanal Buffet   \n",
       "9     283648  RESDUcs7fIiihp38-d6_6g  Bacchanal Buffet   \n",
       "10    283649  RESDUcs7fIiihp38-d6_6g  Bacchanal Buffet   \n",
       "11    283650  RESDUcs7fIiihp38-d6_6g  Bacchanal Buffet   \n",
       "12    283651  RESDUcs7fIiihp38-d6_6g  Bacchanal Buffet   \n",
       "13    283652  RESDUcs7fIiihp38-d6_6g  Bacchanal Buffet   \n",
       "14    283653  RESDUcs7fIiihp38-d6_6g  Bacchanal Buffet   \n",
       "15    283654  RESDUcs7fIiihp38-d6_6g  Bacchanal Buffet   \n",
       "16    283655  RESDUcs7fIiihp38-d6_6g  Bacchanal Buffet   \n",
       "17    283656  RESDUcs7fIiihp38-d6_6g  Bacchanal Buffet   \n",
       "18    283657  RESDUcs7fIiihp38-d6_6g  Bacchanal Buffet   \n",
       "19    283658  RESDUcs7fIiihp38-d6_6g  Bacchanal Buffet   \n",
       "20    283659  RESDUcs7fIiihp38-d6_6g  Bacchanal Buffet   \n",
       "21    283660  RESDUcs7fIiihp38-d6_6g  Bacchanal Buffet   \n",
       "22    283661  RESDUcs7fIiihp38-d6_6g  Bacchanal Buffet   \n",
       "23    283662  RESDUcs7fIiihp38-d6_6g  Bacchanal Buffet   \n",
       "24    283663  RESDUcs7fIiihp38-d6_6g  Bacchanal Buffet   \n",
       "25    283664  RESDUcs7fIiihp38-d6_6g  Bacchanal Buffet   \n",
       "26    283665  RESDUcs7fIiihp38-d6_6g  Bacchanal Buffet   \n",
       "27    283666  RESDUcs7fIiihp38-d6_6g  Bacchanal Buffet   \n",
       "28    283667  RESDUcs7fIiihp38-d6_6g  Bacchanal Buffet   \n",
       "29    283668  RESDUcs7fIiihp38-d6_6g  Bacchanal Buffet   \n",
       "...      ...                     ...               ...   \n",
       "4893  288532  RESDUcs7fIiihp38-d6_6g  Bacchanal Buffet   \n",
       "4894  288533  RESDUcs7fIiihp38-d6_6g  Bacchanal Buffet   \n",
       "4895  288534  RESDUcs7fIiihp38-d6_6g  Bacchanal Buffet   \n",
       "4896  288535  RESDUcs7fIiihp38-d6_6g  Bacchanal Buffet   \n",
       "4897  288536  RESDUcs7fIiihp38-d6_6g  Bacchanal Buffet   \n",
       "4898  288537  RESDUcs7fIiihp38-d6_6g  Bacchanal Buffet   \n",
       "4899  288538  RESDUcs7fIiihp38-d6_6g  Bacchanal Buffet   \n",
       "4900  288539  RESDUcs7fIiihp38-d6_6g  Bacchanal Buffet   \n",
       "4901  288540  RESDUcs7fIiihp38-d6_6g  Bacchanal Buffet   \n",
       "4902  288541  RESDUcs7fIiihp38-d6_6g  Bacchanal Buffet   \n",
       "4903  288542  RESDUcs7fIiihp38-d6_6g  Bacchanal Buffet   \n",
       "4904  288543  RESDUcs7fIiihp38-d6_6g  Bacchanal Buffet   \n",
       "4905  288544  RESDUcs7fIiihp38-d6_6g  Bacchanal Buffet   \n",
       "4906  288545  RESDUcs7fIiihp38-d6_6g  Bacchanal Buffet   \n",
       "4907  288546  RESDUcs7fIiihp38-d6_6g  Bacchanal Buffet   \n",
       "4908  288547  RESDUcs7fIiihp38-d6_6g  Bacchanal Buffet   \n",
       "4909  288548  RESDUcs7fIiihp38-d6_6g  Bacchanal Buffet   \n",
       "4910  288549  RESDUcs7fIiihp38-d6_6g  Bacchanal Buffet   \n",
       "4911  288550  RESDUcs7fIiihp38-d6_6g  Bacchanal Buffet   \n",
       "4912  288551  RESDUcs7fIiihp38-d6_6g  Bacchanal Buffet   \n",
       "4913  288552  RESDUcs7fIiihp38-d6_6g  Bacchanal Buffet   \n",
       "4914  288553  RESDUcs7fIiihp38-d6_6g  Bacchanal Buffet   \n",
       "4915  288554  RESDUcs7fIiihp38-d6_6g  Bacchanal Buffet   \n",
       "4916  288555  RESDUcs7fIiihp38-d6_6g  Bacchanal Buffet   \n",
       "4917  288556  RESDUcs7fIiihp38-d6_6g  Bacchanal Buffet   \n",
       "4918  288557  RESDUcs7fIiihp38-d6_6g  Bacchanal Buffet   \n",
       "4919  288558  RESDUcs7fIiihp38-d6_6g  Bacchanal Buffet   \n",
       "4920  288559  RESDUcs7fIiihp38-d6_6g  Bacchanal Buffet   \n",
       "4921  288560  RESDUcs7fIiihp38-d6_6g  Bacchanal Buffet   \n",
       "4922  288561  RESDUcs7fIiihp38-d6_6g  Bacchanal Buffet   \n",
       "\n",
       "                                             categories  avg_stars  cool  \\\n",
       "0     Sandwiches, Buffets, Breakfast & Brunch, Food,...        4.0     0   \n",
       "1     Sandwiches, Buffets, Breakfast & Brunch, Food,...        4.0     0   \n",
       "2     Sandwiches, Buffets, Breakfast & Brunch, Food,...        4.0     0   \n",
       "3     Sandwiches, Buffets, Breakfast & Brunch, Food,...        4.0     0   \n",
       "4     Sandwiches, Buffets, Breakfast & Brunch, Food,...        4.0     0   \n",
       "5     Sandwiches, Buffets, Breakfast & Brunch, Food,...        4.0     0   \n",
       "6     Sandwiches, Buffets, Breakfast & Brunch, Food,...        4.0     0   \n",
       "7     Sandwiches, Buffets, Breakfast & Brunch, Food,...        4.0     0   \n",
       "8     Sandwiches, Buffets, Breakfast & Brunch, Food,...        4.0     0   \n",
       "9     Sandwiches, Buffets, Breakfast & Brunch, Food,...        4.0     0   \n",
       "10    Sandwiches, Buffets, Breakfast & Brunch, Food,...        4.0     0   \n",
       "11    Sandwiches, Buffets, Breakfast & Brunch, Food,...        4.0     0   \n",
       "12    Sandwiches, Buffets, Breakfast & Brunch, Food,...        4.0     0   \n",
       "13    Sandwiches, Buffets, Breakfast & Brunch, Food,...        4.0     0   \n",
       "14    Sandwiches, Buffets, Breakfast & Brunch, Food,...        4.0     0   \n",
       "15    Sandwiches, Buffets, Breakfast & Brunch, Food,...        4.0     0   \n",
       "16    Sandwiches, Buffets, Breakfast & Brunch, Food,...        4.0     0   \n",
       "17    Sandwiches, Buffets, Breakfast & Brunch, Food,...        4.0     0   \n",
       "18    Sandwiches, Buffets, Breakfast & Brunch, Food,...        4.0     0   \n",
       "19    Sandwiches, Buffets, Breakfast & Brunch, Food,...        4.0     0   \n",
       "20    Sandwiches, Buffets, Breakfast & Brunch, Food,...        4.0     0   \n",
       "21    Sandwiches, Buffets, Breakfast & Brunch, Food,...        4.0     1   \n",
       "22    Sandwiches, Buffets, Breakfast & Brunch, Food,...        4.0     1   \n",
       "23    Sandwiches, Buffets, Breakfast & Brunch, Food,...        4.0     0   \n",
       "24    Sandwiches, Buffets, Breakfast & Brunch, Food,...        4.0     0   \n",
       "25    Sandwiches, Buffets, Breakfast & Brunch, Food,...        4.0     0   \n",
       "26    Sandwiches, Buffets, Breakfast & Brunch, Food,...        4.0     0   \n",
       "27    Sandwiches, Buffets, Breakfast & Brunch, Food,...        4.0     0   \n",
       "28    Sandwiches, Buffets, Breakfast & Brunch, Food,...        4.0     0   \n",
       "29    Sandwiches, Buffets, Breakfast & Brunch, Food,...        4.0     0   \n",
       "...                                                 ...        ...   ...   \n",
       "4893  Sandwiches, Buffets, Breakfast & Brunch, Food,...        4.0     0   \n",
       "4894  Sandwiches, Buffets, Breakfast & Brunch, Food,...        4.0     0   \n",
       "4895  Sandwiches, Buffets, Breakfast & Brunch, Food,...        4.0     1   \n",
       "4896  Sandwiches, Buffets, Breakfast & Brunch, Food,...        4.0     1   \n",
       "4897  Sandwiches, Buffets, Breakfast & Brunch, Food,...        4.0     0   \n",
       "4898  Sandwiches, Buffets, Breakfast & Brunch, Food,...        4.0     0   \n",
       "4899  Sandwiches, Buffets, Breakfast & Brunch, Food,...        4.0     0   \n",
       "4900  Sandwiches, Buffets, Breakfast & Brunch, Food,...        4.0     2   \n",
       "4901  Sandwiches, Buffets, Breakfast & Brunch, Food,...        4.0     0   \n",
       "4902  Sandwiches, Buffets, Breakfast & Brunch, Food,...        4.0     0   \n",
       "4903  Sandwiches, Buffets, Breakfast & Brunch, Food,...        4.0     0   \n",
       "4904  Sandwiches, Buffets, Breakfast & Brunch, Food,...        4.0     0   \n",
       "4905  Sandwiches, Buffets, Breakfast & Brunch, Food,...        4.0     7   \n",
       "4906  Sandwiches, Buffets, Breakfast & Brunch, Food,...        4.0     0   \n",
       "4907  Sandwiches, Buffets, Breakfast & Brunch, Food,...        4.0     0   \n",
       "4908  Sandwiches, Buffets, Breakfast & Brunch, Food,...        4.0     0   \n",
       "4909  Sandwiches, Buffets, Breakfast & Brunch, Food,...        4.0     0   \n",
       "4910  Sandwiches, Buffets, Breakfast & Brunch, Food,...        4.0     0   \n",
       "4911  Sandwiches, Buffets, Breakfast & Brunch, Food,...        4.0     0   \n",
       "4912  Sandwiches, Buffets, Breakfast & Brunch, Food,...        4.0     0   \n",
       "4913  Sandwiches, Buffets, Breakfast & Brunch, Food,...        4.0     0   \n",
       "4914  Sandwiches, Buffets, Breakfast & Brunch, Food,...        4.0     0   \n",
       "4915  Sandwiches, Buffets, Breakfast & Brunch, Food,...        4.0     0   \n",
       "4916  Sandwiches, Buffets, Breakfast & Brunch, Food,...        4.0     6   \n",
       "4917  Sandwiches, Buffets, Breakfast & Brunch, Food,...        4.0     0   \n",
       "4918  Sandwiches, Buffets, Breakfast & Brunch, Food,...        4.0     0   \n",
       "4919  Sandwiches, Buffets, Breakfast & Brunch, Food,...        4.0     0   \n",
       "4920  Sandwiches, Buffets, Breakfast & Brunch, Food,...        4.0     1   \n",
       "4921  Sandwiches, Buffets, Breakfast & Brunch, Food,...        4.0     0   \n",
       "4922  Sandwiches, Buffets, Breakfast & Brunch, Food,...        4.0     1   \n",
       "\n",
       "            date  funny               review_id  stars  \\\n",
       "0     2015-09-16      0  gkcPdbblTvZDMSwx8nVEKw      5   \n",
       "1     2017-09-09      0  mQfl6ci46mu0xaZrkRUhlA      5   \n",
       "2     2017-02-08      0  lMarDJDg4-e_0YoJOKJoWA      2   \n",
       "3     2017-12-22      0  30xmXTzJwHPcqt0uvSLQhQ      3   \n",
       "4     2015-02-21      0  g8ojbzP1xoX9dbDfQv2KJw      5   \n",
       "5     2015-12-04      0  YUAMxrEKIvyjqqrmjzY_gA      5   \n",
       "6     2017-09-22      0  SOUuNn4f1fHKxFHntYzonw      3   \n",
       "7     2016-12-14      0  1mAf8vTO6TGTrQ3WSfTB3g      4   \n",
       "8     2015-08-13      0  T8dHL8iBqhNoAl6sT8QDaA      3   \n",
       "9     2016-06-01      0  q0r0GrGs4D0JSwCA62138w      5   \n",
       "10    2016-01-16      0  7bOPIQC6tTrmTFdlYUXtuA      1   \n",
       "11    2015-03-02      0  T-hzg6eBbTKQerIM5_kmhg      2   \n",
       "12    2015-04-21      0  742Bh2jw2EhK9IgBZCHc4g      5   \n",
       "13    2015-04-29      0  NFaR_NomdcaMnwBrSZGAhw      5   \n",
       "14    2015-03-31      0  BJiZSVooRiZHwXks1rgIaA      3   \n",
       "15    2017-06-18      0  nnmcNHGLa6TTZ4KP7ZrU7A      1   \n",
       "16    2015-10-31      1  MCjmfEMPigjAPz3P7IGNQQ      2   \n",
       "17    2015-02-23      1  Kn06537mQODNinjnoR8F0Q      1   \n",
       "18    2015-06-23      0  TxuL-4tZBMwjfilc5KwwuQ      1   \n",
       "19    2016-03-13      0  oQ6eVYyeTUKwycl2wIadUQ      4   \n",
       "20    2016-03-14      0  _1aU5ba_I8hKefJYIDOB9A      4   \n",
       "21    2016-07-14      1  _yo6drfk1jb1Bt-0UKldPQ      1   \n",
       "22    2017-02-28      0  NXOgf4JQNbskd2XYhPJB7A      5   \n",
       "23    2016-11-24      0  R97X06G0_2bbmPp4zmelzA      1   \n",
       "24    2015-03-07      0  xBfPS-HHFsxIVDSomAR1vw      5   \n",
       "25    2015-09-08      0  z6Fsup7baC7rBQESZ8su9w      5   \n",
       "26    2015-06-24      0  31kgDADzztXI45pN9wWn-A      3   \n",
       "27    2016-12-19      0  yx8hKAOF0bNd56GgFljjxw      4   \n",
       "28    2016-03-17      0  -yoly8x6Vg3TFF32B8DWsQ      4   \n",
       "29    2017-07-02      0  Xci8QJaDOB7OazJIP9U0Cw      5   \n",
       "...          ...    ...                     ...    ...   \n",
       "4893  2017-12-28      0  yNLpIroAN9Pf7NWip3zqEQ      2   \n",
       "4894  2017-11-22      0  CS0fs-hsLe-ReADrDBaGYQ      5   \n",
       "4895  2017-11-14      0  6M7aPyKr0UhJXGcLOQ__zQ      5   \n",
       "4896  2015-08-19      1  Sp2RBWOsxuyXegkhbgymmQ      5   \n",
       "4897  2015-03-31      0  bEWrQmOl3c-jYOjYWd4Dsw      4   \n",
       "4898  2015-04-29      1  rhslNp9lHGWmOz1xaAeMcA      3   \n",
       "4899  2018-02-06      0  PVri6s6OXBS26SjfAAzsrQ      5   \n",
       "4900  2016-05-08      2  rKnrsU9gG8kZjwbSxTpd8Q      4   \n",
       "4901  2018-01-19      0  FEKjP5QGt5ZP0Ay4YZ6DhA      3   \n",
       "4902  2016-11-22      0  ixBsFHGweQuG1JW94owCAw      5   \n",
       "4903  2016-01-14      0  qevymZj4_5cO872dei5l3A      5   \n",
       "4904  2015-07-13      0  VsKdP0P31P9aPMcHKTi2gA      5   \n",
       "4905  2016-07-08      5  cV41gjUqtuDlWmLnLca-qg      5   \n",
       "4906  2017-03-08      0  56jjEV7mXXuD8KM4A4X4AQ      2   \n",
       "4907  2016-11-14      0  yCw1S65Wwus5FQnxksXUYg      3   \n",
       "4908  2015-04-14      0  rENDb1XdM-UKeKaY8n9GbA      5   \n",
       "4909  2018-04-15      0  4wPhdSSh1q0iEPxdvaNtVQ      1   \n",
       "4910  2016-02-17      0  Wd8LVVw2uE2Sn3cE9lwFfw      1   \n",
       "4911  2017-07-27      0  zcgkWtbyPTWHxfNgse9NXQ      4   \n",
       "4912  2015-07-28      0  _CNqwLetYweHicSRjsGRmw      5   \n",
       "4913  2015-12-03      0  2VHmpJcRWqTRuUaC2M3DhA      2   \n",
       "4914  2015-09-14      1  -p46iAQ9r9MmkmVs9Oo1Kw      1   \n",
       "4915  2017-05-29      0  LOnYiEt4wpEXytTpuYvKLg      5   \n",
       "4916  2016-06-11      5  6roR-LSYlK_ZcBSrMXmyhw      5   \n",
       "4917  2017-07-21      0  ExQVpasAvLxJ71aqOrle9A      4   \n",
       "4918  2017-08-24      0  M0yK8wDRU_IkgKv2JMnz1w      1   \n",
       "4919  2015-12-21      0  Zi5X4GR21qzlU1XtYytquQ      5   \n",
       "4920  2017-07-04      0  w-9UGiO02sXEHOtr0Z6eGw      5   \n",
       "4921  2015-03-24      0  10slnV9nSNLFFn5Qr1J5SA      4   \n",
       "4922  2015-05-24      1  S8CgQu0RygGD-mU66el-5Q      3   \n",
       "\n",
       "                                                   text  useful  \\\n",
       "0     Got here early on football Sunday 7:30am as I ...       0   \n",
       "1     This buffet is amazing.  Yes, it is expensive,...       0   \n",
       "2     This place....lol our server was nice.  But fo...       0   \n",
       "3     One star knocked off for the cold air conditio...       0   \n",
       "4     Miche better experience this time around. We w...       0   \n",
       "5     Best buffet in Vegas We have ever been! It is ...       0   \n",
       "6     Was torn between 2 and 3.  Caught the last of ...       0   \n",
       "7     This place was one of those once in a lifetime...       0   \n",
       "8     Food was delicious.  Had a little something fo...       1   \n",
       "9     Waited about an hour in line. \\nFeels like a m...       0   \n",
       "10    Eggs Benedict was bland.  No flavor what so ev...       0   \n",
       "11    It's not that great.  You wait in a long line ...       0   \n",
       "12    This place is where I had the best meal of my ...       1   \n",
       "13    I don't even have words to tell you about this...       0   \n",
       "14    Paid $60 per person for dinner around 5-6pm no...       0   \n",
       "15    Food is subpar. There's a line to get to pay, ...       0   \n",
       "16    ??????????????????...\\n\\n\\n?? ?? ?? ???????\\n\\...       0   \n",
       "17    Do not expect too much on those food, services...       0   \n",
       "18    Total waste of time.  Checked in at the kiosk ...       0   \n",
       "19      Amazing selections -- Good for a sea food lover       0   \n",
       "20    All I have to say is GET THERE EARLY so you do...       0   \n",
       "21    Poor food quality high price and try to scam u...       1   \n",
       "22    This buffet was amazing! It was a bit pricey, ...       1   \n",
       "23    The lines are too long and they manage the lin...       0   \n",
       "24    Went for breakfast on a Monday morning with my...       0   \n",
       "25    This buffet was pretty impressive. They had so...       0   \n",
       "26    I came here for the Christmas holiday dinner b...       1   \n",
       "27    This is my favorite buffet in LV. There is so ...       1   \n",
       "28    Pricey but worth it. Great variety.  They give...       0   \n",
       "29    I'm staying at Caesar's Palace for 4th of July...       0   \n",
       "...                                                 ...     ...   \n",
       "4893  Y'all such a disappointment for a luxury buffe...       0   \n",
       "4894  Great buffet but the line sucks.    The food i...       0   \n",
       "4895  This is one of the best buffets in Vegas!  Mak...       0   \n",
       "4896  The food here is amazing!\\n\\nThe only problem ...       1   \n",
       "4897  Loved the taco station w/ all the different ju...       0   \n",
       "4898  We planned a whole day around going here becau...       0   \n",
       "4899  I loveeeeeee Bacchanal Buffet! Even when I had...       0   \n",
       "4900  You have to go!!! I can't say more than that b...       2   \n",
       "4901  This buffet was pretty disappointing for me. W...       1   \n",
       "4902  This is HANDS DOWN the best buffet in Vegas, b...       0   \n",
       "4903  This place has everything. From seafood to sli...       0   \n",
       "4904  We usually do 1 buffet per trip to Vegas. This...       0   \n",
       "4905  I told myself I was gonna run & work out first...       6   \n",
       "4906  I had very high expectations. Went on a Monday...       0   \n",
       "4907  Just whatever. Yes there are tons of options b...       1   \n",
       "4908  Best buffet in Vegas! Everything was very good...       0   \n",
       "4909  I would give 2 or 3 stars just for the taste, ...       2   \n",
       "4910  Horrible checking in system - the worst. \\n\\nW...       1   \n",
       "4911  update to previous review--the manager reached...       0   \n",
       "4912  Expensive but very pleasurable buffet. Conside...       0   \n",
       "4913  I went in yelp to read reviews..alot of good o...       0   \n",
       "4914  The ambiance, hip-fine dining. The service, he...       2   \n",
       "4915  Honestly one of the best buffets I've ever gon...       1   \n",
       "4916  It ain't a Vegas trip without a buffet. This b...      11   \n",
       "4917  The seafood selection is amazing!! Steaming cr...       0   \n",
       "4918  Terrible hostess and management! They don't kn...       0   \n",
       "4919  Nestled perfectly downtown in the Arts Distric...       0   \n",
       "4920  Still my favorite buffet in Vegas. It's on the...       0   \n",
       "4921  Best Buffet in Vegas.  I've been here on two o...       0   \n",
       "4922  Overrated! I don't mind spending $$$ on food b...       2   \n",
       "\n",
       "                     user_id  perfect  \n",
       "0     SKteB5rgDlkkUa1Zxe1N0Q     True  \n",
       "1     f638AHA_GoHbyDB7VFMz7A     True  \n",
       "2     A21zMqdN76ueLZFpmbue0Q    False  \n",
       "3     uNHEnP28MMmVy96ZSJKaMA    False  \n",
       "4     3cZPpN-IrA8CSc5PkZLbXA     True  \n",
       "5     PnTSCTTvI1TKSmuv0omw4Q     True  \n",
       "6     WvVqnHU_eVBUfL-CI9efdw    False  \n",
       "7     aYLS5lhdCp5HSPOtkMvapw    False  \n",
       "8     5OwYOdoQFrPkVG4QeoODFw    False  \n",
       "9     2dMTx3eEdNvw2o34V5pHew     True  \n",
       "10    Lk-jE5WsnRopJLnVTpTCcA    False  \n",
       "11    vHoRB7FuydhS4fvs36B06Q    False  \n",
       "12    Q3kgO-EU1Rm21eN-MxbQiA     True  \n",
       "13    SPyKvJZEf3Hrqu-Mfs3Yzw     True  \n",
       "14    td3HVeObUHhlUJJqXs87ug    False  \n",
       "15    KIbfAG_JrTEPt6aQXcnQJg    False  \n",
       "16    0RRXxdNjbSDOcvK0PbW6Sw    False  \n",
       "17    z1IxLGba6LypoWSeftR4-Q    False  \n",
       "18    GESpk4P9mCe2TXfF7ClZxQ    False  \n",
       "19    -EVdaQWBxUhroURI8wMWVg    False  \n",
       "20    mttyWYBvO3X00c00KhnHrw    False  \n",
       "21    sAvEjlpaBtRGiVeswwBo4Q    False  \n",
       "22    wHeH7PwKHubMjmx9SroN4w     True  \n",
       "23    oyDVFvjN4DSV6cB1qNbcPQ    False  \n",
       "24    Yqd7Nkl8P9tJwAXDteF25Q     True  \n",
       "25    jOBIvlOzOQ6ml3WkyAvQWQ     True  \n",
       "26    u4iBXHU_ZCUIXymxkcsHdA    False  \n",
       "27    f1CbfW56DOndXHd1yfADYg    False  \n",
       "28    LXDm8rFwKBz8b6hCfFqIMg    False  \n",
       "29    J90_7u_8vPYa03GMohNxAA     True  \n",
       "...                      ...      ...  \n",
       "4893  gF8E2gC8JKXdF7tD8uYabw    False  \n",
       "4894  oUCaxUBcruhxU4XhCF523w     True  \n",
       "4895  3haQPlxXOeRkzIeQeFjGaQ     True  \n",
       "4896  zpB6UXczhM2vYpBjwlwbJg     True  \n",
       "4897  czRgNFcl7PW1yoWT_gsK7A    False  \n",
       "4898  UyKVmpHUcsk_tjcspIWUow    False  \n",
       "4899  FMMG10-FrTutjs00CSvgYg     True  \n",
       "4900  Znid_azpcHmdRMHGicmkWA    False  \n",
       "4901  ZRFzuTwpYlrqNBK1rbjDAA    False  \n",
       "4902  vbNrFaaoCXzlfVe1bGwkog     True  \n",
       "4903  5L-vy6oyiXZfU_lcCjuspA     True  \n",
       "4904  6YYpJ59jfFCUHkGOpu2NTA     True  \n",
       "4905  xo0Mz2XOJL_mgIfSXagLXg     True  \n",
       "4906  hG2pEwKK6qZgC3xatACuqw    False  \n",
       "4907  ybgMEBq2So3FFfiFF1rh-g    False  \n",
       "4908  -kO6984fXByyZm3_6z2JYg     True  \n",
       "4909  TSQQ4x91kMsEqFHgyUnWbw    False  \n",
       "4910  dAwagEIP-ChguB51PPMh4A    False  \n",
       "4911  uYezJh0z1FcOK8BeTb-MNQ    False  \n",
       "4912  kU7quHAVoVlQouQLjpUo8w     True  \n",
       "4913  8DUBy2yBwrtgQ3kwd71_pw    False  \n",
       "4914  sBLi9DFohuxSKgQZjNMXSg    False  \n",
       "4915  J3ykuVkcYsttcksT_fIbpw     True  \n",
       "4916  HkbiKPFKaJPdLwPQGpKvtQ     True  \n",
       "4917  B82EQctgw789hsmegYCzRQ    False  \n",
       "4918  cJQE_lyQygHPadn4h0C8Jw    False  \n",
       "4919  c85M8BW80Lc7t4CkpnrdGw     True  \n",
       "4920  8zLtEdRSuCHU-qmnFgwF0w     True  \n",
       "4921  p5RcabsU9DXQEDef9RiRlQ    False  \n",
       "4922  QynN93ho1B_1ggZpO6A6hA    False  \n",
       "\n",
       "[4923 rows x 14 columns]"
      ]
     },
     "execution_count": 29,
     "metadata": {},
     "output_type": "execute_result"
    }
   ],
   "source": [
    "df_top_restaurant"
   ]
  },
  {
   "cell_type": "markdown",
   "metadata": {},
   "source": [
    "We can also load restaurant profile information from the business dataset (optional)"
   ]
  },
  {
   "cell_type": "code",
   "execution_count": 30,
   "metadata": {},
   "outputs": [
    {
     "data": {
      "text/html": [
       "<div>\n",
       "<style scoped>\n",
       "    .dataframe tbody tr th:only-of-type {\n",
       "        vertical-align: middle;\n",
       "    }\n",
       "\n",
       "    .dataframe tbody tr th {\n",
       "        vertical-align: top;\n",
       "    }\n",
       "\n",
       "    .dataframe thead th {\n",
       "        text-align: right;\n",
       "    }\n",
       "</style>\n",
       "<table border=\"1\" class=\"dataframe\">\n",
       "  <thead>\n",
       "    <tr style=\"text-align: right;\">\n",
       "      <th></th>\n",
       "      <th>address</th>\n",
       "      <th>attributes</th>\n",
       "      <th>business_id</th>\n",
       "      <th>categories</th>\n",
       "      <th>city</th>\n",
       "      <th>hours</th>\n",
       "      <th>is_open</th>\n",
       "      <th>latitude</th>\n",
       "      <th>longitude</th>\n",
       "      <th>name</th>\n",
       "      <th>neighborhood</th>\n",
       "      <th>postal_code</th>\n",
       "      <th>review_count</th>\n",
       "      <th>stars</th>\n",
       "      <th>state</th>\n",
       "      <th>type</th>\n",
       "    </tr>\n",
       "  </thead>\n",
       "  <tbody>\n",
       "  </tbody>\n",
       "</table>\n",
       "</div>"
      ],
      "text/plain": [
       "Empty DataFrame\n",
       "Columns: [address, attributes, business_id, categories, city, hours, is_open, latitude, longitude, name, neighborhood, postal_code, review_count, stars, state, type]\n",
       "Index: []"
      ]
     },
     "execution_count": 30,
     "metadata": {},
     "output_type": "execute_result"
    }
   ],
   "source": [
    "# Load business dataset (optional)\n",
    "import json \n",
    "import pandas as pd\n",
    "\n",
    "file_business = 'C:\\\\Users\\\\yxu\\\\Desktop\\\\files\\\\DOC_YXU\\\\11111\\\\Yelp\\\\business.json'\n",
    "with open(file_business) as f:\n",
    "    df_business = pd.DataFrame(json.loads(line) for line in f)\n",
    "\n",
    "# Take a look at the most reviewed restaurant's profile (optional)\n",
    "#df_business.head()\n",
    "df_business[df_business['business_id'] == most_reviewed_restaurant]"
   ]
  },
  {
   "cell_type": "code",
   "execution_count": 31,
   "metadata": {},
   "outputs": [
    {
     "data": {
      "text/plain": [
       "array([], dtype=object)"
      ]
     },
     "execution_count": 31,
     "metadata": {},
     "output_type": "execute_result"
    }
   ],
   "source": [
    "df_business[df_business['business_id'] == most_reviewed_restaurant]['categories'].values"
   ]
  },
  {
   "cell_type": "code",
   "execution_count": 32,
   "metadata": {},
   "outputs": [
    {
     "data": {
      "text/plain": [
       "array([], dtype=object)"
      ]
     },
     "execution_count": 32,
     "metadata": {},
     "output_type": "execute_result"
    }
   ],
   "source": [
    "df_business[df_business['business_id'] == most_reviewed_restaurant]['attributes'].values"
   ]
  },
  {
   "cell_type": "markdown",
   "metadata": {},
   "source": [
    "### Vectorize the text feature"
   ]
  },
  {
   "cell_type": "code",
   "execution_count": 33,
   "metadata": {},
   "outputs": [],
   "source": [
    "# Take the values of the column that contains review text data, save to a variable named \"documents_top_restaurant\"\n",
    "documents_top_restaurant = df_top_restaurant['text'].values"
   ]
  },
  {
   "cell_type": "code",
   "execution_count": 34,
   "metadata": {},
   "outputs": [
    {
     "data": {
      "text/plain": [
       "(dtype('O'), (4923,))"
      ]
     },
     "execution_count": 34,
     "metadata": {},
     "output_type": "execute_result"
    }
   ],
   "source": [
    "documents_top_restaurant.dtype, documents_top_restaurant.shape"
   ]
  },
  {
   "cell_type": "code",
   "execution_count": 35,
   "metadata": {},
   "outputs": [
    {
     "data": {
      "text/plain": [
       "array([\"Got here early on football Sunday 7:30am as I wanted to start the day off right. Heard this was the best buffet in town besides Bally's hotel . So upon entering the buffet there was no line or wait. Hostess was nice giving us the once around tour because it was our 1st time. The food looked incredible and my mouth was salivating to try it all. I'm the type of person that my first go round is to try it phase then the next time , and the next time I Attack !! Steak and eggs were bomb , omelet was on hit too. Red velvet pancakes yum . Had problems with the country fried potatoes but the onion rings made up for it.                                             Not a big fan of the champagne and orange juice so I instead opted to order the bottomless beer  Yeee !! Sea food was incredible and made sure I did damaged there also. Made a pit stop for the food truck type tacos . Brought it home with the desserts ! Well rounded buffet really , really enjoyed it . Some yelpers I see complained about $$ it's well wort it !! Will come back !!\",\n",
       "       \"This buffet is amazing.  Yes, it is expensive, but it is worth the splurge.  I recommend that you look at everything first and then decide what to get, because you can't possibly try everything.  I missed an entire corner of great food that I didn't see at first, and then I was too full to eat more. I like how everything is on little plates, bowls, or baskets, so everything doesn't get mixed together.  Lines are long, but you can check in and then they text when your time is almost up.  The wait time was less than they had said it would be, so don't go far away to wait.\",\n",
       "       'This place....lol our server was nice.  But for 50 something dollars for dinner was not worth it....Sorry but if I could choose another place to spend that much I know I would have been much happier. Not to mention they took a photo of us when we came in then brought us like 3-4 printouts of them, I mean nice ones...then they told us it was 15 dollars for one of the pictures...we honestly thought out of all the money we spent we\\'d at least get the pics for \"free.\"  So they went through all the trouble to print them and then are going to throw them away because we didn\\'t want to pay for them? Why not just give us the photos...Food was cold, poor quality of meats, etc..Also not near as big as this looks! Just bummed we spent so much. \\nSorry can\\'t recommend this at all.'],\n",
       "      dtype=object)"
      ]
     },
     "execution_count": 35,
     "metadata": {},
     "output_type": "execute_result"
    }
   ],
   "source": [
    "documents_top_restaurant[:3]"
   ]
  },
  {
   "cell_type": "markdown",
   "metadata": {},
   "source": [
    "### Define your target variable (for later classification use)"
   ]
  },
  {
   "cell_type": "markdown",
   "metadata": {},
   "source": [
    "#### Again, we look at perfect (5 stars) and imperfect (1-4 stars) rating"
   ]
  },
  {
   "cell_type": "code",
   "execution_count": 36,
   "metadata": {},
   "outputs": [
    {
     "data": {
      "text/plain": [
       "array([1, 1, 0, ..., 1, 0, 0])"
      ]
     },
     "execution_count": 36,
     "metadata": {},
     "output_type": "execute_result"
    }
   ],
   "source": [
    "# To be implemented\n",
    "df_top_restaurant['favorable'] = (df_top_restaurant['stars'] > 4)\n",
    "\n",
    "target_top_restaurant = df_top_restaurant['favorable'].values.astype(int)\n",
    "target_top_restaurant"
   ]
  },
  {
   "cell_type": "code",
   "execution_count": 37,
   "metadata": {},
   "outputs": [],
   "source": [
    "#### Check the statistic of the target variable"
   ]
  },
  {
   "cell_type": "code",
   "execution_count": 38,
   "metadata": {},
   "outputs": [
    {
     "data": {
      "text/plain": [
       "0.38939670932358317"
      ]
     },
     "execution_count": 38,
     "metadata": {},
     "output_type": "execute_result"
    }
   ],
   "source": [
    "# To be implemented\n",
    "target_top_restaurant.mean()\n"
   ]
  },
  {
   "cell_type": "code",
   "execution_count": 39,
   "metadata": {},
   "outputs": [
    {
     "data": {
      "text/plain": [
       "((4923,), (4923,))"
      ]
     },
     "execution_count": 39,
     "metadata": {},
     "output_type": "execute_result"
    }
   ],
   "source": [
    "documents_top_restaurant.shape, target_top_restaurant.shape"
   ]
  },
  {
   "cell_type": "markdown",
   "metadata": {},
   "source": [
    "### Create training dataset and test dataset"
   ]
  },
  {
   "cell_type": "code",
   "execution_count": 40,
   "metadata": {},
   "outputs": [],
   "source": [
    "from sklearn.cross_validation import train_test_split"
   ]
  },
  {
   "cell_type": "code",
   "execution_count": 41,
   "metadata": {},
   "outputs": [
    {
     "data": {
      "text/plain": [
       "((64071,), (576647,), (64071,), (576647,))"
      ]
     },
     "execution_count": 41,
     "metadata": {},
     "output_type": "execute_result"
    }
   ],
   "source": [
    "# documents_top_restaurant is your X, target_top_restaurant is your y\n",
    "# Now split the data to training set and test set\n",
    "# Now your data is smaller, you can use a typical \"test_size\", e.g. 0.3-0.7\n",
    "x_train.shape, x_test.shape, y_train.shape, y_test.shape"
   ]
  },
  {
   "cell_type": "markdown",
   "metadata": {},
   "source": [
    "### Get NLP representation of the documents"
   ]
  },
  {
   "cell_type": "code",
   "execution_count": 42,
   "metadata": {},
   "outputs": [],
   "source": [
    "from sklearn.feature_extraction.text import TfidfVectorizer"
   ]
  },
  {
   "cell_type": "code",
   "execution_count": 43,
   "metadata": {},
   "outputs": [],
   "source": [
    "# Create TfidfVectorizer, and name it vectorizer\n",
    "vectorizer = TfidfVectorizer(stop_words='english', max_features=1000)"
   ]
  },
  {
   "cell_type": "code",
   "execution_count": 44,
   "metadata": {},
   "outputs": [],
   "source": [
    "# Train the model with your training data\n",
    "vectors_train = vectorizer.fit_transform(x_train).toarray()"
   ]
  },
  {
   "cell_type": "code",
   "execution_count": 45,
   "metadata": {},
   "outputs": [
    {
     "data": {
      "text/plain": [
       "(64071, 1000)"
      ]
     },
     "execution_count": 45,
     "metadata": {},
     "output_type": "execute_result"
    }
   ],
   "source": [
    "# Get the vocab of your tfidf\n",
    "words = vectorizer.get_feature_names()\n",
    "vectors_train.shape"
   ]
  },
  {
   "cell_type": "code",
   "execution_count": 46,
   "metadata": {},
   "outputs": [],
   "source": [
    "# Use the trained model to transform the test data\n",
    "vectors_test = vectorizer.transform(x_test).toarray()"
   ]
  },
  {
   "cell_type": "code",
   "execution_count": 47,
   "metadata": {},
   "outputs": [],
   "source": [
    "# Use the trained model to transform all the data\n",
    "vectors_documents_top_restaurant = vectorizer.transform(documents_top_restaurant).toarray()"
   ]
  },
  {
   "cell_type": "markdown",
   "metadata": {},
   "source": [
    "### Cluster reviews with KMeans"
   ]
  },
  {
   "cell_type": "markdown",
   "metadata": {},
   "source": [
    "#### Fit k-means clustering on the training vectors and make predictions on all data"
   ]
  },
  {
   "cell_type": "code",
   "execution_count": 48,
   "metadata": {},
   "outputs": [
    {
     "data": {
      "text/plain": [
       "KMeans(algorithm='auto', copy_x=True, init='k-means++', max_iter=300,\n",
       "    n_clusters=5, n_init=10, n_jobs=1, precompute_distances='auto',\n",
       "    random_state=None, tol=0.0001, verbose=0)"
      ]
     },
     "execution_count": 48,
     "metadata": {},
     "output_type": "execute_result"
    }
   ],
   "source": [
    "# To be implemented\n",
    "from sklearn.cluster import KMeans\n",
    "\n",
    "kmeans = KMeans(n_clusters=5)\n",
    "\n",
    "kmeans.fit(vectors_train)"
   ]
  },
  {
   "cell_type": "markdown",
   "metadata": {},
   "source": [
    "#### Make predictions on all your data"
   ]
  },
  {
   "cell_type": "code",
   "execution_count": 49,
   "metadata": {},
   "outputs": [],
   "source": [
    "# To be implemented\n",
    "assigned_cluster = kmeans.predict(vectors_documents_top_restaurant)"
   ]
  },
  {
   "cell_type": "markdown",
   "metadata": {},
   "source": [
    "#### Inspect the centroids"
   ]
  },
  {
   "cell_type": "code",
   "execution_count": 50,
   "metadata": {},
   "outputs": [
    {
     "name": "stdout",
     "output_type": "stream",
     "text": [
      "cluster centers:\n",
      "(5, 1000)\n"
     ]
    }
   ],
   "source": [
    "# To be implemented\n",
    "print (\"cluster centers:\")\n",
    "print (kmeans.cluster_centers_.shape)"
   ]
  },
  {
   "cell_type": "markdown",
   "metadata": {},
   "source": [
    "#### Find the top 10 features for each cluster."
   ]
  },
  {
   "cell_type": "code",
   "execution_count": 51,
   "metadata": {},
   "outputs": [],
   "source": [
    "# To be implemented\n",
    "n_feat = 10\n",
    "top_centroids = kmeans.cluster_centers_.argsort()[:, -1:-n_feat:-1]"
   ]
  },
  {
   "cell_type": "code",
   "execution_count": 52,
   "metadata": {},
   "outputs": [
    {
     "name": "stdout",
     "output_type": "stream",
     "text": [
      "top features for each cluster:\n",
      "0: pizza, good, crust, place, great, cheese, slice, order, ordered\n",
      "1: food, order, time, service, just, minutes, like, came, got\n",
      "2: great, food, service, place, good, amazing, friendly, staff, atmosphere\n",
      "3: good, chicken, food, ordered, really, like, burger, place, just\n",
      "4: food, place, best, vegas, amazing, love, delicious, service, good\n"
     ]
    }
   ],
   "source": [
    "print (\"top features for each cluster:\")\n",
    "for num, centroid in enumerate(top_centroids):\n",
    "    print (\"%d: %s\" % (num, \", \".join(words[i] for i in centroid)))"
   ]
  },
  {
   "cell_type": "markdown",
   "metadata": {},
   "source": [
    "#### Print out the rating and review of a random sample of the reviews assigned to each cluster to get a sense of the cluster."
   ]
  },
  {
   "cell_type": "code",
   "execution_count": 53,
   "metadata": {},
   "outputs": [
    {
     "data": {
      "text/plain": [
       "array([0, 1, 2, 3, 4])"
      ]
     },
     "execution_count": 53,
     "metadata": {},
     "output_type": "execute_result"
    }
   ],
   "source": [
    "# To be implemented\n",
    "np.unique(assigned_cluster)"
   ]
  },
  {
   "cell_type": "code",
   "execution_count": 54,
   "metadata": {},
   "outputs": [
    {
     "name": "stdout",
     "output_type": "stream",
     "text": [
      "==========\n",
      "Cluster 0:\n",
      " 2 -\n",
      "I was so disappointed.. Don't believe all the hype. Chinese food is like panda, pizza is pizza, sushi is basic and the meat section is the same as any other cheaper buffets. Better avoid.\n",
      " 4 -\n",
      "Great Buffet. Very large with a huge variety of items. By far the best buffet on the strip. \n",
      "\n",
      "We came here with a long line. Fortunately for us my friend has a platinum card and we went to the front of the line. Even then we had to wait about 30 minutes for a table for 5 people.\n",
      "\n",
      "Once inside, we went directly to the Asian food section where they have dim sum and Chinese food. There's 2 food and dessert sections here so make sure to look around for it. The dim sum was decent. \n",
      "\n",
      "Walk up a little more and there's pizza. I love pizza. Especially the pizza with truffle on it. The pizza here is decent as well. \n",
      "\n",
      "Then next was the American section with sausage, prime rib, bacon, etc. The prime rib was legit. Was super tender and perfectly medium rare. I wasn't too fond of the regular sausage but the breakfast sausage was really good. I love the bacon here as it was super crispy. \n",
      "\n",
      "After I sat down and ate all this, I still had room for the seafood section. I ended up eating two plates of steamed crab legs. They were very delicious. I also had some muscle, fried fish sandwich, and some other items. Everything was really good. \n",
      "\n",
      "I still had room for dessert so I had some coffee gelato. It was a good way to clean my palate.\n",
      "\n",
      "The service here was good. Our server always came back to check up on us to make sure we didn't need more drinks or anything else. Our plates were cleaned immediately. Great service for the most part, as the workers were on point with everything. \n",
      "\n",
      "Overall, Bacchanai is a good buffet. The best on the strip. Unfortunately I have had better elsewhere, and for the price I would rather get less but better quality food at a non-all you call eat buffet. Still, If you can eat a lot, this is the place to go in Vegas. \n",
      "\n",
      "Now, go get your moneys worth!\n",
      "==========\n",
      "Cluster 1:\n",
      " 4 -\n",
      "We heard a lot about this place, both good and bad.  So we decided to try the place.  First of all, the buffet is located inside the Ceasar's Palace Hotel and Casino, not at the Forum. If you are driving to the hotel,  prepare to look for the closest valet as there are at least 4 or more valets at this hotel.  Once we got to the restaurant, there was a long line, as expected.  Since there were 7 of us, we were directed to another line  for parties of 6 or more. We didn't wait that long before we were finally seated.  I was not really impressed with the ambiance.  The space looked really cramped, the table we sat at wasn't steady and kept rocking, it was not what I had expected.  Once we were seated, we waited about 10-15 minutes before our drink order was taken.  The food was not as great as I expected it to be. They had an Asian buffet line which consisted of various dumplings and shumai, the usual noodles and fried rice along with spring rolls.  Variations of sushi and soup.  The usual BBQ and pizza line and of course , if you're craving for Mexican food, they have a variety of that as well.  If you're into seafood like I am, I went straight for  the crab legs and fresh oysters.  They we actually good size crab legs. The oysters  tasted fresh.  I think the best part of the buffet was their desert line. From cake pops to Creme Brûlée and ice cream to Asian sesame Mochi balls.  Our waitress, Milka, was very nice and even brought my daughter a birthday plate full of deserts. Overall,  the food was okay.  Not as spectacular as I thought it would be.  Dinner starts at 52.99 per person. So if you're a light eater, may as well eat someplace to get your money's worth.\n",
      " 4 -\n",
      "People have claimed Bacchanal as the best buffet in Vegas, but I don't really think so. They have great selection, but they lack in taste in a lot of areas. I don't mind coming here because it isn't bad, and because of the huge variety, I can usually find a handful of things I like. The price is on the high side and I'll never eat my money's worth here for sure. They don't really have discounts here either unless you do the Buffet of Buffets 24hr deal, which I have done on occasion and pay an additional $20 for the Bacchanal add-on. Line is long at night, but they have a tablet for you to leave your phone number and they will text you when you are up.\n",
      "I came here this past April for the early bird weekday brunch special ($30 before 9am), but I think the promotion might be over now.\n",
      "Although I didn't really need to use it this last time, I have a Diamond players card. I pay a heavy premium for this membership....and thus I can skip the buffet line at all Caesar's entertainment hotels if I want to.\n",
      "I didn't see any prime rib for the brunch, and was pretty disappointed with that. I just went around picking up whatever looked good. \n",
      "I'm not even Chinese, but stay away from the Chinese food. At least not the chow fun or fried rice. Honestly I can make better chow fun and friend rice at home and it turns out pretty bad when I do.....so yeah that says a lot about their food.\n",
      "Dessert selection is quite nice, but I didn't see the cakepops I really like the last time I came. Maybe it's a dinner thing only. I did leave with some gelato though.\n",
      "So this early bird brunch special wasn't that great, but for my overall visits, I still give them a 4 star.\n",
      "I haven't been to every single buffet on the strip, but my order goes something like the following based on taste/price/variety:\n",
      "1) Rio Seafood buffet (I think they just combined the 2 buffets now, but have 2 different price options, not MGM) Unlimited New Zealand lobster tail at dinner.\n",
      "2) Wicked Spoon (Cosmo, not MGM)\n",
      "3) Bellagio\n",
      "4) Bacchanal (Caesar's Palace, not MGM)\n",
      "5) Le Village (Paris, not MGM)\n",
      "6) Aria\n",
      "7) The Mirage\n",
      "8) Planet Hollywood (Not MGM)\n",
      "9) Mandalay Bay\n",
      "10) Harrah's\n",
      "11) The Excalibur\n",
      "12) MGM (From here on down, it's not worth your money to go)\n",
      "13) Luxor \n",
      "14) Monte Carlo (The only place I didn't feel full when I left)\n",
      "\n",
      "I've also been to the buffet at \"M\", but you would need to drive to get there or take a cab/uber. That one is ranked up there with Bellagio. I'm just going to list that in all of my reviews for each buffet.\n",
      "==========\n",
      "Cluster 2:\n",
      " 1 -\n",
      "Will never come here again is very outdated andThe food is not that great for the price was a pain in the butt he get in any in the chairs are so uncomfortable\n",
      " 4 -\n",
      "The selection of food was great and seafood was fresh. My best friend and I came an hour before closing and so we had to rush and we didn't get to try everything. I think these pricey buffets should be discounted before closing. Anyway, will definitely come back though.\n",
      "==========\n",
      "Cluster 3:\n",
      " 1 -\n",
      "First time at this buffet and last. Yes there is a variety of ethnic food, meat and seafood but quality wasn't there for the money. Crab was waterlogged, soups were cold, and deserts lacked flavor. Prime rib was good, pork belly was good but not enough to come back. Sorry Ceasars not fit for a king or queen.\n",
      " 3 -\n",
      "Once you get past the long lines, the Bacchanal offers a great selection of crab legs, crab claws, seafood, salad, sushi, carving stations, and hot foods. On my visit, the tonkatsu ramen stood out with a creamy, meaty broth and noodles cooked al dente. \n",
      "\n",
      "Although a huge spread, Id say everything else was just ok in taste and freshness\n",
      "==========\n",
      "Cluster 4:\n",
      " 4 -\n",
      "Huge selection of a wide variety of dishes. Prime rib was great, the various Asian selections were a highlight, and the dessert bar is enormous. Seafood, including oysters and crab legs, was a little disappointing (then again, you're in the desert...). Overall quite good. \n",
      "\n",
      "Try to go at off-times, as there can be a long wait around standard dinner time.\n",
      " 1 -\n",
      "I have paid 81$ for a brunch(25$ to skip waiting) food is not good, not the quality for 50$! Worse than most buffet I have ever had. Disappointing at all!!\n"
     ]
    },
    {
     "name": "stderr",
     "output_type": "stream",
     "text": [
      "C:\\Users\\yxu\\AppData\\Local\\Continuum\\anaconda3\\lib\\site-packages\\ipykernel_launcher.py:7: DeprecationWarning: \n",
      ".ix is deprecated. Please use\n",
      ".loc for label based indexing or\n",
      ".iloc for positional indexing\n",
      "\n",
      "See the documentation here:\n",
      "http://pandas.pydata.org/pandas-docs/stable/indexing.html#ix-indexer-is-deprecated\n",
      "  import sys\n"
     ]
    }
   ],
   "source": [
    "for i in range(kmeans.n_clusters):\n",
    "    cluster = np.arange(0, vectors_documents_top_restaurant.shape[0])[assigned_cluster ==i]\n",
    "    sample_reviews = np.random.choice(cluster, 2, replace=False)\n",
    "    print(\"=\" * 10)\n",
    "    print(\"Cluster %d:\" % i )\n",
    "    for review_index in sample_reviews:\n",
    "        print (\" %s -\" % df_top_restaurant.ix[review_index]['stars'])\n",
    "        print (\"%s\" % df_top_restaurant.ix[review_index]['text'])\n",
    "    print\n"
   ]
  },
  {
   "cell_type": "markdown",
   "metadata": {},
   "source": [
    "## 3. Use PCA to reduce dimensionality"
   ]
  },
  {
   "cell_type": "markdown",
   "metadata": {},
   "source": [
    "### Stardardize features\n",
    "Your X_train and X_test"
   ]
  },
  {
   "cell_type": "code",
   "execution_count": 55,
   "metadata": {},
   "outputs": [],
   "source": [
    "from sklearn.preprocessing import StandardScaler\n",
    "\n",
    "# To be implemented\n",
    "scaler = StandardScaler()\n",
    "\n",
    "x_train_scaled = scaler.fit_transform(vectors_train)\n",
    "x_test_scaled = scaler.transform(vectors_test)\n"
   ]
  },
  {
   "cell_type": "markdown",
   "metadata": {},
   "source": [
    "### Use PCA to transform data (train and test) and get princial components"
   ]
  },
  {
   "cell_type": "code",
   "execution_count": 56,
   "metadata": {},
   "outputs": [],
   "source": [
    "from sklearn.decomposition import PCA\n",
    "\n",
    "# Let's pick a n_components\n",
    "n_components = 50\n",
    "\n",
    "# To be implemented\n",
    "pca=PCA(n_components)\n",
    "\n",
    "x_train_pca = pca.fit_transform(x_train_scaled)\n",
    "x_test_pca = pca.transform(x_test_scaled)\n"
   ]
  },
  {
   "cell_type": "code",
   "execution_count": 57,
   "metadata": {},
   "outputs": [
    {
     "data": {
      "text/plain": [
       "((64071, 50), (576647, 50))"
      ]
     },
     "execution_count": 57,
     "metadata": {},
     "output_type": "execute_result"
    }
   ],
   "source": [
    "x_train_pca.shape, x_test_pca.shape"
   ]
  },
  {
   "cell_type": "code",
   "execution_count": 58,
   "metadata": {},
   "outputs": [
    {
     "data": {
      "text/plain": [
       "(50, 1000)"
      ]
     },
     "execution_count": 58,
     "metadata": {},
     "output_type": "execute_result"
    }
   ],
   "source": [
    "#inspect the principal axes in feature space\n",
    "pca.components_.shape"
   ]
  },
  {
   "cell_type": "markdown",
   "metadata": {},
   "source": [
    "### See how much (and how much percentage of) variance the principal components explain"
   ]
  },
  {
   "cell_type": "code",
   "execution_count": 59,
   "metadata": {},
   "outputs": [
    {
     "name": "stdout",
     "output_type": "stream",
     "text": [
      "[5.49385406 4.44311129 3.31330844 2.8987239  2.7817406  2.68577824\n",
      " 2.55977118 2.45318647 2.33568606 2.29077571]\n"
     ]
    }
   ],
   "source": [
    "# To be implemented\n",
    "print (pca.explained_variance_[:10])"
   ]
  },
  {
   "cell_type": "code",
   "execution_count": 60,
   "metadata": {},
   "outputs": [
    {
     "name": "stdout",
     "output_type": "stream",
     "text": [
      "[0.00549377 0.00444304 0.00331326 0.00289868 0.0027817  0.00268574\n",
      " 0.00255973 0.00245315 0.00233565 0.00229074]\n"
     ]
    }
   ],
   "source": [
    "# To be implemented\n",
    "print (pca.explained_variance_ratio_[:10])"
   ]
  },
  {
   "cell_type": "markdown",
   "metadata": {},
   "source": [
    "### Viz: plot proportion of variance explained with top principal components\n",
    "\n",
    "For clear display, you may start with plotting <=20 principal components"
   ]
  },
  {
   "cell_type": "code",
   "execution_count": 61,
   "metadata": {},
   "outputs": [
    {
     "data": {
      "text/plain": [
       "Text(0,0.5,'Variance Explained')"
      ]
     },
     "execution_count": 61,
     "metadata": {},
     "output_type": "execute_result"
    },
    {
     "data": {
      "image/png": "[encoded data removed]",
      "text/plain": [
       "<matplotlib.figure.Figure at 0x243a208d4e0>"
      ]
     },
     "metadata": {},
     "output_type": "display_data"
    }
   ],
   "source": [
    "# To be implemented\n",
    "n_col_to_display=20\n",
    "\n",
    "pca_range = np.arange(n_col_to_display) + 1\n",
    "pca_names = ['PCA_%s' % i for i in pca_range]\n",
    "\n",
    "plt.figure(figsize=(10,10))\n",
    "plt.bar(pca_range, pca.explained_variance_[:n_col_to_display], align='center')\n",
    "xticks = plt.xticks(pca_range, pca_names, rotation=90)\n",
    "plt.ylabel('Variance Explained')"
   ]
  },
  {
   "cell_type": "code",
   "execution_count": 62,
   "metadata": {},
   "outputs": [
    {
     "data": {
      "text/plain": [
       "Text(0.5,0,'Proportion of Variance Explained')"
      ]
     },
     "execution_count": 62,
     "metadata": {},
     "output_type": "execute_result"
    },
    {
     "data": {
      "image/png": "[encoded data removed]",
      "text/plain": [
       "<matplotlib.figure.Figure at 0x243a2410080>"
      ]
     },
     "metadata": {},
     "output_type": "display_data"
    }
   ],
   "source": [
    "n_col_to_display = 20\n",
    "\n",
    "pca_range = np.arange(n_col_to_display) + 1\n",
    "pca_names = ['PCA_%s' % i for i in pca_range]\n",
    "\n",
    "plt.figure(figsize = (10,10))\n",
    "plt.barh(pca_range, pca.explained_variance_ratio_[:n_col_to_display], align='center')\n",
    "xticks = plt.yticks(pca_range, pca_names)\n",
    "plt.xlabel('Proportion of Variance Explained')\n"
   ]
  },
  {
   "cell_type": "markdown",
   "metadata": {},
   "source": [
    "## Classifying positive/negative review with PCA preprocessing"
   ]
  },
  {
   "cell_type": "code",
   "execution_count": 63,
   "metadata": {},
   "outputs": [
    {
     "data": {
      "text/plain": [
       "((64071, 1000), (64071,))"
      ]
     },
     "execution_count": 63,
     "metadata": {},
     "output_type": "execute_result"
    }
   ],
   "source": [
    "x_train_scaled.shape, y_train.shape"
   ]
  },
  {
   "cell_type": "code",
   "execution_count": 64,
   "metadata": {},
   "outputs": [
    {
     "data": {
      "text/plain": [
       "((64071, 50), (64071,))"
      ]
     },
     "execution_count": 64,
     "metadata": {},
     "output_type": "execute_result"
    }
   ],
   "source": [
    "x_train_pca.shape, y_train.shape"
   ]
  },
  {
   "cell_type": "markdown",
   "metadata": {},
   "source": [
    "### Logistic Regression Classifier\n",
    "#### Use standardized tf-idf vectors as features"
   ]
  },
  {
   "cell_type": "code",
   "execution_count": 65,
   "metadata": {},
   "outputs": [
    {
     "data": {
      "text/plain": [
       "LogisticRegression(C=1.0, class_weight=None, dual=False, fit_intercept=True,\n",
       "          intercept_scaling=1, max_iter=100, multi_class='ovr', n_jobs=1,\n",
       "          penalty='l2', random_state=None, solver='liblinear', tol=0.0001,\n",
       "          verbose=0, warm_start=False)"
      ]
     },
     "execution_count": 65,
     "metadata": {},
     "output_type": "execute_result"
    }
   ],
   "source": [
    "# Build a Logistic Regression Classifier, train with standardized tf-idf vectors\n",
    "\n",
    "from sklearn.linear_model import LogisticRegression\n",
    "\n",
    "# To be implemented\n",
    "model_lrc = LogisticRegression()\n",
    "model_lrc.fit(x_train_scaled, y_train)"
   ]
  },
  {
   "cell_type": "code",
   "execution_count": 66,
   "metadata": {},
   "outputs": [
    {
     "data": {
      "text/plain": [
       "0.8246944795617362"
      ]
     },
     "execution_count": 66,
     "metadata": {},
     "output_type": "execute_result"
    }
   ],
   "source": [
    "# Get score for training set\n",
    "model_lrc.score(x_train_scaled, y_train)"
   ]
  },
  {
   "cell_type": "code",
   "execution_count": 67,
   "metadata": {
    "scrolled": true
   },
   "outputs": [
    {
     "data": {
      "text/plain": [
       "0.8160885255624325"
      ]
     },
     "execution_count": 67,
     "metadata": {},
     "output_type": "execute_result"
    }
   ],
   "source": [
    "# Get score for test set\n",
    "model_lrc.score(x_test_scaled, y_test)"
   ]
  },
  {
   "cell_type": "markdown",
   "metadata": {},
   "source": [
    "#### Use (Stardardized + PCA) tf-idf vectors as features"
   ]
  },
  {
   "cell_type": "code",
   "execution_count": 68,
   "metadata": {},
   "outputs": [
    {
     "data": {
      "text/plain": [
       "LogisticRegression(C=1.0, class_weight=None, dual=False, fit_intercept=True,\n",
       "          intercept_scaling=1, max_iter=100, multi_class='ovr', n_jobs=1,\n",
       "          penalty='l2', random_state=None, solver='liblinear', tol=0.0001,\n",
       "          verbose=0, warm_start=False)"
      ]
     },
     "execution_count": 68,
     "metadata": {},
     "output_type": "execute_result"
    }
   ],
   "source": [
    "# Build a Logistic Regression Classifier, train with PCA tranformed X\n",
    "\n",
    "from sklearn.linear_model import LogisticRegression\n",
    "\n",
    "# To be implemented\n",
    "model_lrc = LogisticRegression()\n",
    "model_lrc.fit(x_train_pca, y_train)"
   ]
  },
  {
   "cell_type": "code",
   "execution_count": 69,
   "metadata": {},
   "outputs": [
    {
     "data": {
      "text/plain": [
       "0.8004089213528741"
      ]
     },
     "execution_count": 69,
     "metadata": {},
     "output_type": "execute_result"
    }
   ],
   "source": [
    "# Get score for training set\n",
    "model_lrc.score(x_train_pca, y_train)"
   ]
  },
  {
   "cell_type": "code",
   "execution_count": 70,
   "metadata": {},
   "outputs": [
    {
     "data": {
      "text/plain": [
       "0.8007775987735998"
      ]
     },
     "execution_count": 70,
     "metadata": {},
     "output_type": "execute_result"
    }
   ],
   "source": [
    "# Get score for test set, REMEMBER to use PCA-transformed X!\n",
    "model_lrc.score(x_test_pca, y_test)"
   ]
  },
  {
   "cell_type": "markdown",
   "metadata": {},
   "source": [
    "#### Q: What do you see from the training score and the test score? How do you compare the results from PCA and non-PCA preprocessing?"
   ]
  },
  {
   "cell_type": "markdown",
   "metadata": {},
   "source": [
    "A: (insert your comments here)"
   ]
  },
  {
   "cell_type": "markdown",
   "metadata": {},
   "source": [
    "#### You can plot the coefficients against principal components\n"
   ]
  },
  {
   "cell_type": "code",
   "execution_count": 71,
   "metadata": {},
   "outputs": [
    {
     "data": {
      "text/html": [
       "<div>\n",
       "<style scoped>\n",
       "    .dataframe tbody tr th:only-of-type {\n",
       "        vertical-align: middle;\n",
       "    }\n",
       "\n",
       "    .dataframe tbody tr th {\n",
       "        vertical-align: top;\n",
       "    }\n",
       "\n",
       "    .dataframe thead th {\n",
       "        text-align: right;\n",
       "    }\n",
       "</style>\n",
       "<table border=\"1\" class=\"dataframe\">\n",
       "  <thead>\n",
       "    <tr style=\"text-align: right;\">\n",
       "      <th></th>\n",
       "      <th>PCs</th>\n",
       "      <th>coeff</th>\n",
       "    </tr>\n",
       "  </thead>\n",
       "  <tbody>\n",
       "    <tr>\n",
       "      <th>2</th>\n",
       "      <td>PC_3</td>\n",
       "      <td>0.425680</td>\n",
       "    </tr>\n",
       "    <tr>\n",
       "      <th>9</th>\n",
       "      <td>PC_10</td>\n",
       "      <td>0.402304</td>\n",
       "    </tr>\n",
       "    <tr>\n",
       "      <th>11</th>\n",
       "      <td>PC_12</td>\n",
       "      <td>0.144732</td>\n",
       "    </tr>\n",
       "    <tr>\n",
       "      <th>15</th>\n",
       "      <td>PC_16</td>\n",
       "      <td>0.124117</td>\n",
       "    </tr>\n",
       "    <tr>\n",
       "      <th>25</th>\n",
       "      <td>PC_26</td>\n",
       "      <td>0.082525</td>\n",
       "    </tr>\n",
       "    <tr>\n",
       "      <th>14</th>\n",
       "      <td>PC_15</td>\n",
       "      <td>0.080644</td>\n",
       "    </tr>\n",
       "    <tr>\n",
       "      <th>13</th>\n",
       "      <td>PC_14</td>\n",
       "      <td>0.057673</td>\n",
       "    </tr>\n",
       "    <tr>\n",
       "      <th>43</th>\n",
       "      <td>PC_44</td>\n",
       "      <td>0.052956</td>\n",
       "    </tr>\n",
       "    <tr>\n",
       "      <th>34</th>\n",
       "      <td>PC_35</td>\n",
       "      <td>0.051212</td>\n",
       "    </tr>\n",
       "    <tr>\n",
       "      <th>40</th>\n",
       "      <td>PC_41</td>\n",
       "      <td>0.040718</td>\n",
       "    </tr>\n",
       "    <tr>\n",
       "      <th>20</th>\n",
       "      <td>PC_21</td>\n",
       "      <td>0.036288</td>\n",
       "    </tr>\n",
       "    <tr>\n",
       "      <th>26</th>\n",
       "      <td>PC_27</td>\n",
       "      <td>0.022999</td>\n",
       "    </tr>\n",
       "    <tr>\n",
       "      <th>45</th>\n",
       "      <td>PC_46</td>\n",
       "      <td>0.020940</td>\n",
       "    </tr>\n",
       "    <tr>\n",
       "      <th>30</th>\n",
       "      <td>PC_31</td>\n",
       "      <td>0.019036</td>\n",
       "    </tr>\n",
       "    <tr>\n",
       "      <th>41</th>\n",
       "      <td>PC_42</td>\n",
       "      <td>0.018966</td>\n",
       "    </tr>\n",
       "    <tr>\n",
       "      <th>36</th>\n",
       "      <td>PC_37</td>\n",
       "      <td>0.013621</td>\n",
       "    </tr>\n",
       "    <tr>\n",
       "      <th>46</th>\n",
       "      <td>PC_47</td>\n",
       "      <td>0.012989</td>\n",
       "    </tr>\n",
       "    <tr>\n",
       "      <th>19</th>\n",
       "      <td>PC_20</td>\n",
       "      <td>0.012906</td>\n",
       "    </tr>\n",
       "    <tr>\n",
       "      <th>37</th>\n",
       "      <td>PC_38</td>\n",
       "      <td>-0.003740</td>\n",
       "    </tr>\n",
       "    <tr>\n",
       "      <th>28</th>\n",
       "      <td>PC_29</td>\n",
       "      <td>-0.006463</td>\n",
       "    </tr>\n",
       "    <tr>\n",
       "      <th>24</th>\n",
       "      <td>PC_25</td>\n",
       "      <td>-0.006495</td>\n",
       "    </tr>\n",
       "    <tr>\n",
       "      <th>49</th>\n",
       "      <td>PC_50</td>\n",
       "      <td>-0.008631</td>\n",
       "    </tr>\n",
       "    <tr>\n",
       "      <th>48</th>\n",
       "      <td>PC_49</td>\n",
       "      <td>-0.020857</td>\n",
       "    </tr>\n",
       "    <tr>\n",
       "      <th>35</th>\n",
       "      <td>PC_36</td>\n",
       "      <td>-0.021115</td>\n",
       "    </tr>\n",
       "    <tr>\n",
       "      <th>42</th>\n",
       "      <td>PC_43</td>\n",
       "      <td>-0.022969</td>\n",
       "    </tr>\n",
       "    <tr>\n",
       "      <th>33</th>\n",
       "      <td>PC_34</td>\n",
       "      <td>-0.027666</td>\n",
       "    </tr>\n",
       "    <tr>\n",
       "      <th>18</th>\n",
       "      <td>PC_19</td>\n",
       "      <td>-0.030045</td>\n",
       "    </tr>\n",
       "    <tr>\n",
       "      <th>31</th>\n",
       "      <td>PC_32</td>\n",
       "      <td>-0.031405</td>\n",
       "    </tr>\n",
       "    <tr>\n",
       "      <th>47</th>\n",
       "      <td>PC_48</td>\n",
       "      <td>-0.036088</td>\n",
       "    </tr>\n",
       "    <tr>\n",
       "      <th>32</th>\n",
       "      <td>PC_33</td>\n",
       "      <td>-0.037882</td>\n",
       "    </tr>\n",
       "    <tr>\n",
       "      <th>38</th>\n",
       "      <td>PC_39</td>\n",
       "      <td>-0.050558</td>\n",
       "    </tr>\n",
       "    <tr>\n",
       "      <th>29</th>\n",
       "      <td>PC_30</td>\n",
       "      <td>-0.055660</td>\n",
       "    </tr>\n",
       "    <tr>\n",
       "      <th>21</th>\n",
       "      <td>PC_22</td>\n",
       "      <td>-0.055819</td>\n",
       "    </tr>\n",
       "    <tr>\n",
       "      <th>1</th>\n",
       "      <td>PC_2</td>\n",
       "      <td>-0.064612</td>\n",
       "    </tr>\n",
       "    <tr>\n",
       "      <th>16</th>\n",
       "      <td>PC_17</td>\n",
       "      <td>-0.069477</td>\n",
       "    </tr>\n",
       "    <tr>\n",
       "      <th>44</th>\n",
       "      <td>PC_45</td>\n",
       "      <td>-0.090081</td>\n",
       "    </tr>\n",
       "    <tr>\n",
       "      <th>27</th>\n",
       "      <td>PC_28</td>\n",
       "      <td>-0.093916</td>\n",
       "    </tr>\n",
       "    <tr>\n",
       "      <th>17</th>\n",
       "      <td>PC_18</td>\n",
       "      <td>-0.099965</td>\n",
       "    </tr>\n",
       "    <tr>\n",
       "      <th>4</th>\n",
       "      <td>PC_5</td>\n",
       "      <td>-0.101678</td>\n",
       "    </tr>\n",
       "    <tr>\n",
       "      <th>12</th>\n",
       "      <td>PC_13</td>\n",
       "      <td>-0.105799</td>\n",
       "    </tr>\n",
       "    <tr>\n",
       "      <th>3</th>\n",
       "      <td>PC_4</td>\n",
       "      <td>-0.119780</td>\n",
       "    </tr>\n",
       "    <tr>\n",
       "      <th>22</th>\n",
       "      <td>PC_23</td>\n",
       "      <td>-0.127587</td>\n",
       "    </tr>\n",
       "    <tr>\n",
       "      <th>8</th>\n",
       "      <td>PC_9</td>\n",
       "      <td>-0.139384</td>\n",
       "    </tr>\n",
       "    <tr>\n",
       "      <th>10</th>\n",
       "      <td>PC_11</td>\n",
       "      <td>-0.149860</td>\n",
       "    </tr>\n",
       "    <tr>\n",
       "      <th>39</th>\n",
       "      <td>PC_40</td>\n",
       "      <td>-0.158299</td>\n",
       "    </tr>\n",
       "    <tr>\n",
       "      <th>23</th>\n",
       "      <td>PC_24</td>\n",
       "      <td>-0.199624</td>\n",
       "    </tr>\n",
       "    <tr>\n",
       "      <th>6</th>\n",
       "      <td>PC_7</td>\n",
       "      <td>-0.257744</td>\n",
       "    </tr>\n",
       "    <tr>\n",
       "      <th>7</th>\n",
       "      <td>PC_8</td>\n",
       "      <td>-0.307728</td>\n",
       "    </tr>\n",
       "    <tr>\n",
       "      <th>5</th>\n",
       "      <td>PC_6</td>\n",
       "      <td>-0.436861</td>\n",
       "    </tr>\n",
       "    <tr>\n",
       "      <th>0</th>\n",
       "      <td>PC_1</td>\n",
       "      <td>-0.643095</td>\n",
       "    </tr>\n",
       "  </tbody>\n",
       "</table>\n",
       "</div>"
      ],
      "text/plain": [
       "      PCs     coeff\n",
       "2    PC_3  0.425680\n",
       "9   PC_10  0.402304\n",
       "11  PC_12  0.144732\n",
       "15  PC_16  0.124117\n",
       "25  PC_26  0.082525\n",
       "14  PC_15  0.080644\n",
       "13  PC_14  0.057673\n",
       "43  PC_44  0.052956\n",
       "34  PC_35  0.051212\n",
       "40  PC_41  0.040718\n",
       "20  PC_21  0.036288\n",
       "26  PC_27  0.022999\n",
       "45  PC_46  0.020940\n",
       "30  PC_31  0.019036\n",
       "41  PC_42  0.018966\n",
       "36  PC_37  0.013621\n",
       "46  PC_47  0.012989\n",
       "19  PC_20  0.012906\n",
       "37  PC_38 -0.003740\n",
       "28  PC_29 -0.006463\n",
       "24  PC_25 -0.006495\n",
       "49  PC_50 -0.008631\n",
       "48  PC_49 -0.020857\n",
       "35  PC_36 -0.021115\n",
       "42  PC_43 -0.022969\n",
       "33  PC_34 -0.027666\n",
       "18  PC_19 -0.030045\n",
       "31  PC_32 -0.031405\n",
       "47  PC_48 -0.036088\n",
       "32  PC_33 -0.037882\n",
       "38  PC_39 -0.050558\n",
       "29  PC_30 -0.055660\n",
       "21  PC_22 -0.055819\n",
       "1    PC_2 -0.064612\n",
       "16  PC_17 -0.069477\n",
       "44  PC_45 -0.090081\n",
       "27  PC_28 -0.093916\n",
       "17  PC_18 -0.099965\n",
       "4    PC_5 -0.101678\n",
       "12  PC_13 -0.105799\n",
       "3    PC_4 -0.119780\n",
       "22  PC_23 -0.127587\n",
       "8    PC_9 -0.139384\n",
       "10  PC_11 -0.149860\n",
       "39  PC_40 -0.158299\n",
       "23  PC_24 -0.199624\n",
       "6    PC_7 -0.257744\n",
       "7    PC_8 -0.307728\n",
       "5    PC_6 -0.436861\n",
       "0    PC_1 -0.643095"
      ]
     },
     "execution_count": 71,
     "metadata": {},
     "output_type": "execute_result"
    }
   ],
   "source": [
    "# To be implemented\n",
    "pca_range = np.arange(pca.n_components_) + 1\n",
    "pca_names = ['PC_%s' % i for i in pca_range]\n",
    "\n",
    "df_coeffs = pd.DataFrame(list(zip(pca_names, model_lrc.coef_.flatten()))).sort_values(by=[1], ascending=False)\n",
    "df_coeffs.columns = ['PCs', 'coeff']\n",
    "df_coeffs"
   ]
  },
  {
   "cell_type": "code",
   "execution_count": 72,
   "metadata": {},
   "outputs": [
    {
     "data": {
      "image/png": "[encoded data removed]",
      "text/plain": [
       "<matplotlib.figure.Figure at 0x243a21cc588>"
      ]
     },
     "metadata": {},
     "output_type": "display_data"
    }
   ],
   "source": [
    "ax = df_coeffs.plot.barh(figsize=(10,10))\n",
    "t=np.arange(pca.n_components_)\n",
    "ax.set_yticks(t)\n",
    "ax.set_yticklabels(df_coeffs['PCs'])\n",
    "plt.show()"
   ]
  },
  {
   "cell_type": "markdown",
   "metadata": {},
   "source": [
    "### Random Forest Classifier\n",
    "#### Use standardized tf-idf vectors as features"
   ]
  },
  {
   "cell_type": "code",
   "execution_count": 73,
   "metadata": {},
   "outputs": [
    {
     "data": {
      "text/plain": [
       "RandomForestClassifier(bootstrap=True, class_weight=None, criterion='gini',\n",
       "            max_depth=None, max_features='auto', max_leaf_nodes=None,\n",
       "            min_impurity_decrease=0.0, min_impurity_split=None,\n",
       "            min_samples_leaf=3, min_samples_split=2,\n",
       "            min_weight_fraction_leaf=0.0, n_estimators=20, n_jobs=1,\n",
       "            oob_score=False, random_state=42, verbose=0, warm_start=False)"
      ]
     },
     "execution_count": 73,
     "metadata": {},
     "output_type": "execute_result"
    }
   ],
   "source": [
    "# Build a Random Forest Classifier\n",
    "\n",
    "from sklearn.ensemble import RandomForestClassifier\n",
    "\n",
    "# To be implemented\n",
    "model_rfc = RandomForestClassifier(max_depth=None, n_estimators = 20, min_samples_leaf=3, random_state=42)\n",
    "model_rfc.fit(x_train_scaled, y_train)"
   ]
  },
  {
   "cell_type": "code",
   "execution_count": 74,
   "metadata": {},
   "outputs": [
    {
     "data": {
      "text/plain": [
       "0.9255513414805451"
      ]
     },
     "execution_count": 74,
     "metadata": {},
     "output_type": "execute_result"
    }
   ],
   "source": [
    "# Get score for training set\n",
    "model_rfc.score(x_train_scaled, y_train)"
   ]
  },
  {
   "cell_type": "code",
   "execution_count": 76,
   "metadata": {
    "scrolled": true
   },
   "outputs": [
    {
     "data": {
      "text/plain": [
       "0.7880869925621741"
      ]
     },
     "execution_count": 76,
     "metadata": {},
     "output_type": "execute_result"
    }
   ],
   "source": [
    "# Get score for test set\n",
    "model_rfc.score(x_test_scaled,y_test)"
   ]
  },
  {
   "cell_type": "markdown",
   "metadata": {},
   "source": [
    "#### Use (Stardardized + PCA) tf-idf vectors as features"
   ]
  },
  {
   "cell_type": "code",
   "execution_count": 77,
   "metadata": {},
   "outputs": [
    {
     "data": {
      "text/plain": [
       "RandomForestClassifier(bootstrap=True, class_weight=None, criterion='gini',\n",
       "            max_depth=None, max_features='auto', max_leaf_nodes=None,\n",
       "            min_impurity_decrease=0.0, min_impurity_split=None,\n",
       "            min_samples_leaf=3, min_samples_split=2,\n",
       "            min_weight_fraction_leaf=0.0, n_estimators=20, n_jobs=1,\n",
       "            oob_score=False, random_state=42, verbose=0, warm_start=False)"
      ]
     },
     "execution_count": 77,
     "metadata": {},
     "output_type": "execute_result"
    }
   ],
   "source": [
    "# Build a Random Forest Classifier\n",
    "\n",
    "from sklearn.ensemble import RandomForestClassifier\n",
    "\n",
    "# To be implemented\n",
    "model_rfx = RandomForestClassifier(max_depth = None, n_estimators=20, min_samples_leaf=3, random_state=42)\n",
    "model_rfx.fit(x_train_pca, y_train)"
   ]
  },
  {
   "cell_type": "code",
   "execution_count": 81,
   "metadata": {},
   "outputs": [
    {
     "ename": "ValueError",
     "evalue": "Number of features of the model must match the input. Model n_features is 1000 and input n_features is 50 ",
     "output_type": "error",
     "traceback": [
      "\u001b[1;31m---------------------------------------------------------------------------\u001b[0m",
      "\u001b[1;31mValueError\u001b[0m                                Traceback (most recent call last)",
      "\u001b[1;32m<ipython-input-81-980f990f2002>\u001b[0m in \u001b[0;36m<module>\u001b[1;34m()\u001b[0m\n\u001b[0;32m      1\u001b[0m \u001b[1;31m# Get score for training set\u001b[0m\u001b[1;33m\u001b[0m\u001b[1;33m\u001b[0m\u001b[0m\n\u001b[1;32m----> 2\u001b[1;33m \u001b[0mmodel_rfc\u001b[0m\u001b[1;33m.\u001b[0m\u001b[0mscore\u001b[0m\u001b[1;33m(\u001b[0m\u001b[0mx_train_pca\u001b[0m\u001b[1;33m,\u001b[0m \u001b[0my_train\u001b[0m\u001b[1;33m)\u001b[0m\u001b[1;33m\u001b[0m\u001b[0m\n\u001b[0m",
      "\u001b[1;32m~\\AppData\\Local\\Continuum\\anaconda3\\lib\\site-packages\\sklearn\\base.py\u001b[0m in \u001b[0;36mscore\u001b[1;34m(self, X, y, sample_weight)\u001b[0m\n\u001b[0;32m    347\u001b[0m         \"\"\"\n\u001b[0;32m    348\u001b[0m         \u001b[1;32mfrom\u001b[0m \u001b[1;33m.\u001b[0m\u001b[0mmetrics\u001b[0m \u001b[1;32mimport\u001b[0m \u001b[0maccuracy_score\u001b[0m\u001b[1;33m\u001b[0m\u001b[0m\n\u001b[1;32m--> 349\u001b[1;33m         \u001b[1;32mreturn\u001b[0m \u001b[0maccuracy_score\u001b[0m\u001b[1;33m(\u001b[0m\u001b[0my\u001b[0m\u001b[1;33m,\u001b[0m \u001b[0mself\u001b[0m\u001b[1;33m.\u001b[0m\u001b[0mpredict\u001b[0m\u001b[1;33m(\u001b[0m\u001b[0mX\u001b[0m\u001b[1;33m)\u001b[0m\u001b[1;33m,\u001b[0m \u001b[0msample_weight\u001b[0m\u001b[1;33m=\u001b[0m\u001b[0msample_weight\u001b[0m\u001b[1;33m)\u001b[0m\u001b[1;33m\u001b[0m\u001b[0m\n\u001b[0m\u001b[0;32m    350\u001b[0m \u001b[1;33m\u001b[0m\u001b[0m\n\u001b[0;32m    351\u001b[0m \u001b[1;33m\u001b[0m\u001b[0m\n",
      "\u001b[1;32m~\\AppData\\Local\\Continuum\\anaconda3\\lib\\site-packages\\sklearn\\ensemble\\forest.py\u001b[0m in \u001b[0;36mpredict\u001b[1;34m(self, X)\u001b[0m\n\u001b[0;32m    536\u001b[0m             \u001b[0mThe\u001b[0m \u001b[0mpredicted\u001b[0m \u001b[0mclasses\u001b[0m\u001b[1;33m.\u001b[0m\u001b[1;33m\u001b[0m\u001b[0m\n\u001b[0;32m    537\u001b[0m         \"\"\"\n\u001b[1;32m--> 538\u001b[1;33m         \u001b[0mproba\u001b[0m \u001b[1;33m=\u001b[0m \u001b[0mself\u001b[0m\u001b[1;33m.\u001b[0m\u001b[0mpredict_proba\u001b[0m\u001b[1;33m(\u001b[0m\u001b[0mX\u001b[0m\u001b[1;33m)\u001b[0m\u001b[1;33m\u001b[0m\u001b[0m\n\u001b[0m\u001b[0;32m    539\u001b[0m \u001b[1;33m\u001b[0m\u001b[0m\n\u001b[0;32m    540\u001b[0m         \u001b[1;32mif\u001b[0m \u001b[0mself\u001b[0m\u001b[1;33m.\u001b[0m\u001b[0mn_outputs_\u001b[0m \u001b[1;33m==\u001b[0m \u001b[1;36m1\u001b[0m\u001b[1;33m:\u001b[0m\u001b[1;33m\u001b[0m\u001b[0m\n",
      "\u001b[1;32m~\\AppData\\Local\\Continuum\\anaconda3\\lib\\site-packages\\sklearn\\ensemble\\forest.py\u001b[0m in \u001b[0;36mpredict_proba\u001b[1;34m(self, X)\u001b[0m\n\u001b[0;32m    576\u001b[0m         \u001b[0mcheck_is_fitted\u001b[0m\u001b[1;33m(\u001b[0m\u001b[0mself\u001b[0m\u001b[1;33m,\u001b[0m \u001b[1;34m'estimators_'\u001b[0m\u001b[1;33m)\u001b[0m\u001b[1;33m\u001b[0m\u001b[0m\n\u001b[0;32m    577\u001b[0m         \u001b[1;31m# Check data\u001b[0m\u001b[1;33m\u001b[0m\u001b[1;33m\u001b[0m\u001b[0m\n\u001b[1;32m--> 578\u001b[1;33m         \u001b[0mX\u001b[0m \u001b[1;33m=\u001b[0m \u001b[0mself\u001b[0m\u001b[1;33m.\u001b[0m\u001b[0m_validate_X_predict\u001b[0m\u001b[1;33m(\u001b[0m\u001b[0mX\u001b[0m\u001b[1;33m)\u001b[0m\u001b[1;33m\u001b[0m\u001b[0m\n\u001b[0m\u001b[0;32m    579\u001b[0m \u001b[1;33m\u001b[0m\u001b[0m\n\u001b[0;32m    580\u001b[0m         \u001b[1;31m# Assign chunk of trees to jobs\u001b[0m\u001b[1;33m\u001b[0m\u001b[1;33m\u001b[0m\u001b[0m\n",
      "\u001b[1;32m~\\AppData\\Local\\Continuum\\anaconda3\\lib\\site-packages\\sklearn\\ensemble\\forest.py\u001b[0m in \u001b[0;36m_validate_X_predict\u001b[1;34m(self, X)\u001b[0m\n\u001b[0;32m    355\u001b[0m                                  \"call `fit` before exploiting the model.\")\n\u001b[0;32m    356\u001b[0m \u001b[1;33m\u001b[0m\u001b[0m\n\u001b[1;32m--> 357\u001b[1;33m         \u001b[1;32mreturn\u001b[0m \u001b[0mself\u001b[0m\u001b[1;33m.\u001b[0m\u001b[0mestimators_\u001b[0m\u001b[1;33m[\u001b[0m\u001b[1;36m0\u001b[0m\u001b[1;33m]\u001b[0m\u001b[1;33m.\u001b[0m\u001b[0m_validate_X_predict\u001b[0m\u001b[1;33m(\u001b[0m\u001b[0mX\u001b[0m\u001b[1;33m,\u001b[0m \u001b[0mcheck_input\u001b[0m\u001b[1;33m=\u001b[0m\u001b[1;32mTrue\u001b[0m\u001b[1;33m)\u001b[0m\u001b[1;33m\u001b[0m\u001b[0m\n\u001b[0m\u001b[0;32m    358\u001b[0m \u001b[1;33m\u001b[0m\u001b[0m\n\u001b[0;32m    359\u001b[0m     \u001b[1;33m@\u001b[0m\u001b[0mproperty\u001b[0m\u001b[1;33m\u001b[0m\u001b[0m\n",
      "\u001b[1;32m~\\AppData\\Local\\Continuum\\anaconda3\\lib\\site-packages\\sklearn\\tree\\tree.py\u001b[0m in \u001b[0;36m_validate_X_predict\u001b[1;34m(self, X, check_input)\u001b[0m\n\u001b[0;32m    382\u001b[0m                              \u001b[1;34m\"match the input. Model n_features is %s and \"\u001b[0m\u001b[1;33m\u001b[0m\u001b[0m\n\u001b[0;32m    383\u001b[0m                              \u001b[1;34m\"input n_features is %s \"\u001b[0m\u001b[1;33m\u001b[0m\u001b[0m\n\u001b[1;32m--> 384\u001b[1;33m                              % (self.n_features_, n_features))\n\u001b[0m\u001b[0;32m    385\u001b[0m \u001b[1;33m\u001b[0m\u001b[0m\n\u001b[0;32m    386\u001b[0m         \u001b[1;32mreturn\u001b[0m \u001b[0mX\u001b[0m\u001b[1;33m\u001b[0m\u001b[0m\n",
      "\u001b[1;31mValueError\u001b[0m: Number of features of the model must match the input. Model n_features is 1000 and input n_features is 50 "
     ]
    }
   ],
   "source": [
    "# Get score for training set\n",
    "model_rfc.score(x_train_pca, y_train)"
   ]
  },
  {
   "cell_type": "code",
   "execution_count": 82,
   "metadata": {},
   "outputs": [
    {
     "ename": "ValueError",
     "evalue": "Number of features of the model must match the input. Model n_features is 1000 and input n_features is 50 ",
     "output_type": "error",
     "traceback": [
      "\u001b[1;31m---------------------------------------------------------------------------\u001b[0m",
      "\u001b[1;31mValueError\u001b[0m                                Traceback (most recent call last)",
      "\u001b[1;32m<ipython-input-82-45fba9668a9b>\u001b[0m in \u001b[0;36m<module>\u001b[1;34m()\u001b[0m\n\u001b[0;32m      1\u001b[0m \u001b[1;31m# Get score for test set, REMEMBER to use PCA-transformed X!\u001b[0m\u001b[1;33m\u001b[0m\u001b[1;33m\u001b[0m\u001b[0m\n\u001b[1;32m----> 2\u001b[1;33m \u001b[0mmodel_rfc\u001b[0m\u001b[1;33m.\u001b[0m\u001b[0mscore\u001b[0m\u001b[1;33m(\u001b[0m\u001b[0mx_test_pca\u001b[0m\u001b[1;33m,\u001b[0m \u001b[0my_test\u001b[0m\u001b[1;33m)\u001b[0m\u001b[1;33m\u001b[0m\u001b[0m\n\u001b[0m",
      "\u001b[1;32m~\\AppData\\Local\\Continuum\\anaconda3\\lib\\site-packages\\sklearn\\base.py\u001b[0m in \u001b[0;36mscore\u001b[1;34m(self, X, y, sample_weight)\u001b[0m\n\u001b[0;32m    347\u001b[0m         \"\"\"\n\u001b[0;32m    348\u001b[0m         \u001b[1;32mfrom\u001b[0m \u001b[1;33m.\u001b[0m\u001b[0mmetrics\u001b[0m \u001b[1;32mimport\u001b[0m \u001b[0maccuracy_score\u001b[0m\u001b[1;33m\u001b[0m\u001b[0m\n\u001b[1;32m--> 349\u001b[1;33m         \u001b[1;32mreturn\u001b[0m \u001b[0maccuracy_score\u001b[0m\u001b[1;33m(\u001b[0m\u001b[0my\u001b[0m\u001b[1;33m,\u001b[0m \u001b[0mself\u001b[0m\u001b[1;33m.\u001b[0m\u001b[0mpredict\u001b[0m\u001b[1;33m(\u001b[0m\u001b[0mX\u001b[0m\u001b[1;33m)\u001b[0m\u001b[1;33m,\u001b[0m \u001b[0msample_weight\u001b[0m\u001b[1;33m=\u001b[0m\u001b[0msample_weight\u001b[0m\u001b[1;33m)\u001b[0m\u001b[1;33m\u001b[0m\u001b[0m\n\u001b[0m\u001b[0;32m    350\u001b[0m \u001b[1;33m\u001b[0m\u001b[0m\n\u001b[0;32m    351\u001b[0m \u001b[1;33m\u001b[0m\u001b[0m\n",
      "\u001b[1;32m~\\AppData\\Local\\Continuum\\anaconda3\\lib\\site-packages\\sklearn\\ensemble\\forest.py\u001b[0m in \u001b[0;36mpredict\u001b[1;34m(self, X)\u001b[0m\n\u001b[0;32m    536\u001b[0m             \u001b[0mThe\u001b[0m \u001b[0mpredicted\u001b[0m \u001b[0mclasses\u001b[0m\u001b[1;33m.\u001b[0m\u001b[1;33m\u001b[0m\u001b[0m\n\u001b[0;32m    537\u001b[0m         \"\"\"\n\u001b[1;32m--> 538\u001b[1;33m         \u001b[0mproba\u001b[0m \u001b[1;33m=\u001b[0m \u001b[0mself\u001b[0m\u001b[1;33m.\u001b[0m\u001b[0mpredict_proba\u001b[0m\u001b[1;33m(\u001b[0m\u001b[0mX\u001b[0m\u001b[1;33m)\u001b[0m\u001b[1;33m\u001b[0m\u001b[0m\n\u001b[0m\u001b[0;32m    539\u001b[0m \u001b[1;33m\u001b[0m\u001b[0m\n\u001b[0;32m    540\u001b[0m         \u001b[1;32mif\u001b[0m \u001b[0mself\u001b[0m\u001b[1;33m.\u001b[0m\u001b[0mn_outputs_\u001b[0m \u001b[1;33m==\u001b[0m \u001b[1;36m1\u001b[0m\u001b[1;33m:\u001b[0m\u001b[1;33m\u001b[0m\u001b[0m\n",
      "\u001b[1;32m~\\AppData\\Local\\Continuum\\anaconda3\\lib\\site-packages\\sklearn\\ensemble\\forest.py\u001b[0m in \u001b[0;36mpredict_proba\u001b[1;34m(self, X)\u001b[0m\n\u001b[0;32m    576\u001b[0m         \u001b[0mcheck_is_fitted\u001b[0m\u001b[1;33m(\u001b[0m\u001b[0mself\u001b[0m\u001b[1;33m,\u001b[0m \u001b[1;34m'estimators_'\u001b[0m\u001b[1;33m)\u001b[0m\u001b[1;33m\u001b[0m\u001b[0m\n\u001b[0;32m    577\u001b[0m         \u001b[1;31m# Check data\u001b[0m\u001b[1;33m\u001b[0m\u001b[1;33m\u001b[0m\u001b[0m\n\u001b[1;32m--> 578\u001b[1;33m         \u001b[0mX\u001b[0m \u001b[1;33m=\u001b[0m \u001b[0mself\u001b[0m\u001b[1;33m.\u001b[0m\u001b[0m_validate_X_predict\u001b[0m\u001b[1;33m(\u001b[0m\u001b[0mX\u001b[0m\u001b[1;33m)\u001b[0m\u001b[1;33m\u001b[0m\u001b[0m\n\u001b[0m\u001b[0;32m    579\u001b[0m \u001b[1;33m\u001b[0m\u001b[0m\n\u001b[0;32m    580\u001b[0m         \u001b[1;31m# Assign chunk of trees to jobs\u001b[0m\u001b[1;33m\u001b[0m\u001b[1;33m\u001b[0m\u001b[0m\n",
      "\u001b[1;32m~\\AppData\\Local\\Continuum\\anaconda3\\lib\\site-packages\\sklearn\\ensemble\\forest.py\u001b[0m in \u001b[0;36m_validate_X_predict\u001b[1;34m(self, X)\u001b[0m\n\u001b[0;32m    355\u001b[0m                                  \"call `fit` before exploiting the model.\")\n\u001b[0;32m    356\u001b[0m \u001b[1;33m\u001b[0m\u001b[0m\n\u001b[1;32m--> 357\u001b[1;33m         \u001b[1;32mreturn\u001b[0m \u001b[0mself\u001b[0m\u001b[1;33m.\u001b[0m\u001b[0mestimators_\u001b[0m\u001b[1;33m[\u001b[0m\u001b[1;36m0\u001b[0m\u001b[1;33m]\u001b[0m\u001b[1;33m.\u001b[0m\u001b[0m_validate_X_predict\u001b[0m\u001b[1;33m(\u001b[0m\u001b[0mX\u001b[0m\u001b[1;33m,\u001b[0m \u001b[0mcheck_input\u001b[0m\u001b[1;33m=\u001b[0m\u001b[1;32mTrue\u001b[0m\u001b[1;33m)\u001b[0m\u001b[1;33m\u001b[0m\u001b[0m\n\u001b[0m\u001b[0;32m    358\u001b[0m \u001b[1;33m\u001b[0m\u001b[0m\n\u001b[0;32m    359\u001b[0m     \u001b[1;33m@\u001b[0m\u001b[0mproperty\u001b[0m\u001b[1;33m\u001b[0m\u001b[0m\n",
      "\u001b[1;32m~\\AppData\\Local\\Continuum\\anaconda3\\lib\\site-packages\\sklearn\\tree\\tree.py\u001b[0m in \u001b[0;36m_validate_X_predict\u001b[1;34m(self, X, check_input)\u001b[0m\n\u001b[0;32m    382\u001b[0m                              \u001b[1;34m\"match the input. Model n_features is %s and \"\u001b[0m\u001b[1;33m\u001b[0m\u001b[0m\n\u001b[0;32m    383\u001b[0m                              \u001b[1;34m\"input n_features is %s \"\u001b[0m\u001b[1;33m\u001b[0m\u001b[0m\n\u001b[1;32m--> 384\u001b[1;33m                              % (self.n_features_, n_features))\n\u001b[0m\u001b[0;32m    385\u001b[0m \u001b[1;33m\u001b[0m\u001b[0m\n\u001b[0;32m    386\u001b[0m         \u001b[1;32mreturn\u001b[0m \u001b[0mX\u001b[0m\u001b[1;33m\u001b[0m\u001b[0m\n",
      "\u001b[1;31mValueError\u001b[0m: Number of features of the model must match the input. Model n_features is 1000 and input n_features is 50 "
     ]
    }
   ],
   "source": [
    "# Get score for test set, REMEMBER to use PCA-transformed X!\n",
    "model_rfc.score(x_test_pca, y_test)"
   ]
  },
  {
   "cell_type": "markdown",
   "metadata": {},
   "source": [
    "#### Q: What do you see from the training result and the test result?"
   ]
  },
  {
   "cell_type": "markdown",
   "metadata": {},
   "source": [
    "A: (insert your comments here)"
   ]
  },
  {
   "cell_type": "markdown",
   "metadata": {},
   "source": [
    "#### You can plot the feature importances against principal components\n"
   ]
  },
  {
   "cell_type": "code",
   "execution_count": 83,
   "metadata": {},
   "outputs": [
    {
     "data": {
      "text/html": [
       "<div>\n",
       "<style scoped>\n",
       "    .dataframe tbody tr th:only-of-type {\n",
       "        vertical-align: middle;\n",
       "    }\n",
       "\n",
       "    .dataframe tbody tr th {\n",
       "        vertical-align: top;\n",
       "    }\n",
       "\n",
       "    .dataframe thead th {\n",
       "        text-align: right;\n",
       "    }\n",
       "</style>\n",
       "<table border=\"1\" class=\"dataframe\">\n",
       "  <thead>\n",
       "    <tr style=\"text-align: right;\">\n",
       "      <th></th>\n",
       "      <th>PCs</th>\n",
       "      <th>feature importance</th>\n",
       "    </tr>\n",
       "  </thead>\n",
       "  <tbody>\n",
       "    <tr>\n",
       "      <th>27</th>\n",
       "      <td>PC_28</td>\n",
       "      <td>0.044692</td>\n",
       "    </tr>\n",
       "    <tr>\n",
       "      <th>39</th>\n",
       "      <td>PC_40</td>\n",
       "      <td>0.008936</td>\n",
       "    </tr>\n",
       "    <tr>\n",
       "      <th>48</th>\n",
       "      <td>PC_49</td>\n",
       "      <td>0.003029</td>\n",
       "    </tr>\n",
       "    <tr>\n",
       "      <th>44</th>\n",
       "      <td>PC_45</td>\n",
       "      <td>0.001969</td>\n",
       "    </tr>\n",
       "    <tr>\n",
       "      <th>42</th>\n",
       "      <td>PC_43</td>\n",
       "      <td>0.001637</td>\n",
       "    </tr>\n",
       "    <tr>\n",
       "      <th>17</th>\n",
       "      <td>PC_18</td>\n",
       "      <td>0.001585</td>\n",
       "    </tr>\n",
       "    <tr>\n",
       "      <th>7</th>\n",
       "      <td>PC_8</td>\n",
       "      <td>0.001439</td>\n",
       "    </tr>\n",
       "    <tr>\n",
       "      <th>10</th>\n",
       "      <td>PC_11</td>\n",
       "      <td>0.001110</td>\n",
       "    </tr>\n",
       "    <tr>\n",
       "      <th>46</th>\n",
       "      <td>PC_47</td>\n",
       "      <td>0.001106</td>\n",
       "    </tr>\n",
       "    <tr>\n",
       "      <th>1</th>\n",
       "      <td>PC_2</td>\n",
       "      <td>0.000896</td>\n",
       "    </tr>\n",
       "    <tr>\n",
       "      <th>33</th>\n",
       "      <td>PC_34</td>\n",
       "      <td>0.000866</td>\n",
       "    </tr>\n",
       "    <tr>\n",
       "      <th>41</th>\n",
       "      <td>PC_42</td>\n",
       "      <td>0.000623</td>\n",
       "    </tr>\n",
       "    <tr>\n",
       "      <th>38</th>\n",
       "      <td>PC_39</td>\n",
       "      <td>0.000608</td>\n",
       "    </tr>\n",
       "    <tr>\n",
       "      <th>19</th>\n",
       "      <td>PC_20</td>\n",
       "      <td>0.000532</td>\n",
       "    </tr>\n",
       "    <tr>\n",
       "      <th>16</th>\n",
       "      <td>PC_17</td>\n",
       "      <td>0.000518</td>\n",
       "    </tr>\n",
       "    <tr>\n",
       "      <th>28</th>\n",
       "      <td>PC_29</td>\n",
       "      <td>0.000486</td>\n",
       "    </tr>\n",
       "    <tr>\n",
       "      <th>5</th>\n",
       "      <td>PC_6</td>\n",
       "      <td>0.000384</td>\n",
       "    </tr>\n",
       "    <tr>\n",
       "      <th>32</th>\n",
       "      <td>PC_33</td>\n",
       "      <td>0.000381</td>\n",
       "    </tr>\n",
       "    <tr>\n",
       "      <th>31</th>\n",
       "      <td>PC_32</td>\n",
       "      <td>0.000340</td>\n",
       "    </tr>\n",
       "    <tr>\n",
       "      <th>18</th>\n",
       "      <td>PC_19</td>\n",
       "      <td>0.000326</td>\n",
       "    </tr>\n",
       "    <tr>\n",
       "      <th>13</th>\n",
       "      <td>PC_14</td>\n",
       "      <td>0.000307</td>\n",
       "    </tr>\n",
       "    <tr>\n",
       "      <th>35</th>\n",
       "      <td>PC_36</td>\n",
       "      <td>0.000297</td>\n",
       "    </tr>\n",
       "    <tr>\n",
       "      <th>11</th>\n",
       "      <td>PC_12</td>\n",
       "      <td>0.000283</td>\n",
       "    </tr>\n",
       "    <tr>\n",
       "      <th>25</th>\n",
       "      <td>PC_26</td>\n",
       "      <td>0.000257</td>\n",
       "    </tr>\n",
       "    <tr>\n",
       "      <th>20</th>\n",
       "      <td>PC_21</td>\n",
       "      <td>0.000256</td>\n",
       "    </tr>\n",
       "    <tr>\n",
       "      <th>49</th>\n",
       "      <td>PC_50</td>\n",
       "      <td>0.000235</td>\n",
       "    </tr>\n",
       "    <tr>\n",
       "      <th>21</th>\n",
       "      <td>PC_22</td>\n",
       "      <td>0.000233</td>\n",
       "    </tr>\n",
       "    <tr>\n",
       "      <th>24</th>\n",
       "      <td>PC_25</td>\n",
       "      <td>0.000233</td>\n",
       "    </tr>\n",
       "    <tr>\n",
       "      <th>47</th>\n",
       "      <td>PC_48</td>\n",
       "      <td>0.000229</td>\n",
       "    </tr>\n",
       "    <tr>\n",
       "      <th>0</th>\n",
       "      <td>PC_1</td>\n",
       "      <td>0.000226</td>\n",
       "    </tr>\n",
       "    <tr>\n",
       "      <th>29</th>\n",
       "      <td>PC_30</td>\n",
       "      <td>0.000215</td>\n",
       "    </tr>\n",
       "    <tr>\n",
       "      <th>4</th>\n",
       "      <td>PC_5</td>\n",
       "      <td>0.000214</td>\n",
       "    </tr>\n",
       "    <tr>\n",
       "      <th>30</th>\n",
       "      <td>PC_31</td>\n",
       "      <td>0.000200</td>\n",
       "    </tr>\n",
       "    <tr>\n",
       "      <th>37</th>\n",
       "      <td>PC_38</td>\n",
       "      <td>0.000193</td>\n",
       "    </tr>\n",
       "    <tr>\n",
       "      <th>8</th>\n",
       "      <td>PC_9</td>\n",
       "      <td>0.000192</td>\n",
       "    </tr>\n",
       "    <tr>\n",
       "      <th>34</th>\n",
       "      <td>PC_35</td>\n",
       "      <td>0.000188</td>\n",
       "    </tr>\n",
       "    <tr>\n",
       "      <th>2</th>\n",
       "      <td>PC_3</td>\n",
       "      <td>0.000186</td>\n",
       "    </tr>\n",
       "    <tr>\n",
       "      <th>23</th>\n",
       "      <td>PC_24</td>\n",
       "      <td>0.000179</td>\n",
       "    </tr>\n",
       "    <tr>\n",
       "      <th>45</th>\n",
       "      <td>PC_46</td>\n",
       "      <td>0.000147</td>\n",
       "    </tr>\n",
       "    <tr>\n",
       "      <th>43</th>\n",
       "      <td>PC_44</td>\n",
       "      <td>0.000143</td>\n",
       "    </tr>\n",
       "    <tr>\n",
       "      <th>15</th>\n",
       "      <td>PC_16</td>\n",
       "      <td>0.000141</td>\n",
       "    </tr>\n",
       "    <tr>\n",
       "      <th>9</th>\n",
       "      <td>PC_10</td>\n",
       "      <td>0.000117</td>\n",
       "    </tr>\n",
       "    <tr>\n",
       "      <th>12</th>\n",
       "      <td>PC_13</td>\n",
       "      <td>0.000098</td>\n",
       "    </tr>\n",
       "    <tr>\n",
       "      <th>36</th>\n",
       "      <td>PC_37</td>\n",
       "      <td>0.000093</td>\n",
       "    </tr>\n",
       "    <tr>\n",
       "      <th>3</th>\n",
       "      <td>PC_4</td>\n",
       "      <td>0.000092</td>\n",
       "    </tr>\n",
       "    <tr>\n",
       "      <th>6</th>\n",
       "      <td>PC_7</td>\n",
       "      <td>0.000069</td>\n",
       "    </tr>\n",
       "    <tr>\n",
       "      <th>14</th>\n",
       "      <td>PC_15</td>\n",
       "      <td>0.000062</td>\n",
       "    </tr>\n",
       "    <tr>\n",
       "      <th>40</th>\n",
       "      <td>PC_41</td>\n",
       "      <td>0.000060</td>\n",
       "    </tr>\n",
       "    <tr>\n",
       "      <th>26</th>\n",
       "      <td>PC_27</td>\n",
       "      <td>0.000049</td>\n",
       "    </tr>\n",
       "    <tr>\n",
       "      <th>22</th>\n",
       "      <td>PC_23</td>\n",
       "      <td>0.000040</td>\n",
       "    </tr>\n",
       "  </tbody>\n",
       "</table>\n",
       "</div>"
      ],
      "text/plain": [
       "      PCs  feature importance\n",
       "27  PC_28            0.044692\n",
       "39  PC_40            0.008936\n",
       "48  PC_49            0.003029\n",
       "44  PC_45            0.001969\n",
       "42  PC_43            0.001637\n",
       "17  PC_18            0.001585\n",
       "7    PC_8            0.001439\n",
       "10  PC_11            0.001110\n",
       "46  PC_47            0.001106\n",
       "1    PC_2            0.000896\n",
       "33  PC_34            0.000866\n",
       "41  PC_42            0.000623\n",
       "38  PC_39            0.000608\n",
       "19  PC_20            0.000532\n",
       "16  PC_17            0.000518\n",
       "28  PC_29            0.000486\n",
       "5    PC_6            0.000384\n",
       "32  PC_33            0.000381\n",
       "31  PC_32            0.000340\n",
       "18  PC_19            0.000326\n",
       "13  PC_14            0.000307\n",
       "35  PC_36            0.000297\n",
       "11  PC_12            0.000283\n",
       "25  PC_26            0.000257\n",
       "20  PC_21            0.000256\n",
       "49  PC_50            0.000235\n",
       "21  PC_22            0.000233\n",
       "24  PC_25            0.000233\n",
       "47  PC_48            0.000229\n",
       "0    PC_1            0.000226\n",
       "29  PC_30            0.000215\n",
       "4    PC_5            0.000214\n",
       "30  PC_31            0.000200\n",
       "37  PC_38            0.000193\n",
       "8    PC_9            0.000192\n",
       "34  PC_35            0.000188\n",
       "2    PC_3            0.000186\n",
       "23  PC_24            0.000179\n",
       "45  PC_46            0.000147\n",
       "43  PC_44            0.000143\n",
       "15  PC_16            0.000141\n",
       "9   PC_10            0.000117\n",
       "12  PC_13            0.000098\n",
       "36  PC_37            0.000093\n",
       "3    PC_4            0.000092\n",
       "6    PC_7            0.000069\n",
       "14  PC_15            0.000062\n",
       "40  PC_41            0.000060\n",
       "26  PC_27            0.000049\n",
       "22  PC_23            0.000040"
      ]
     },
     "execution_count": 83,
     "metadata": {},
     "output_type": "execute_result"
    }
   ],
   "source": [
    "# To be implemented\n",
    "pca_range = np.arange(pca.n_components_)+1\n",
    "pca_names = ['PC_%s' %i for i in pca_range]\n",
    "\n",
    "df_coeffs = pd.DataFrame(list(zip(pca_names, model_rfc.feature_importances_))).sort_values(by=[1], ascending=False)\n",
    "df_coeffs.columns = ['PCs', 'feature importance']\n",
    "df_coeffs"
   ]
  },
  {
   "cell_type": "code",
   "execution_count": 86,
   "metadata": {},
   "outputs": [
    {
     "data": {
      "image/png": "[encoded data removed]",
      "text/plain": [
       "<matplotlib.figure.Figure at 0x243a2e6c048>"
      ]
     },
     "metadata": {},
     "output_type": "display_data"
    }
   ],
   "source": [
    "ax=df_coeffs.plot.barh(figsize=(10,10))\n",
    "t=np.arange(pca.n_components_)\n",
    "ax.set_yticks(t)\n",
    "ax.set_yticklabels(df_coeffs['PCs'])\n",
    "plt.show()"
   ]
  },
  {
   "cell_type": "markdown",
   "metadata": {},
   "source": [
    "## Extra Credit #1: Can you cluster restaurants from their category information?\n",
    "Hint: a business may have mutiple categories, e.g. a restaurant can have both \"Restaurants\" and \"Korean\""
   ]
  },
  {
   "cell_type": "code",
   "execution_count": null,
   "metadata": {
    "collapsed": true
   },
   "outputs": [],
   "source": [
    "# To be implemented"
   ]
  },
  {
   "cell_type": "markdown",
   "metadata": {},
   "source": [
    "## Extra Credit #2: Can you try different distance/similarity metrics for clusterings, e.g. Pearson correlation, Jaccard distance, etc. \n",
    "\n",
    "Hint: You can take a look at [scipy](http://docs.scipy.org/doc/scipy/reference/generated/scipy.spatial.distance.pdist.html#scipy.spatial.distance.pdist) documentations to use other distances\n",
    "\n",
    "#### Q: How do you compare with Cosine distance or Euclidean distance?"
   ]
  },
  {
   "cell_type": "code",
   "execution_count": null,
   "metadata": {
    "collapsed": true
   },
   "outputs": [],
   "source": [
    "# To be implemented"
   ]
  },
  {
   "cell_type": "markdown",
   "metadata": {},
   "source": [
    "## Extra Credit #3: Can you cluster categories from business entities? What does it mean by a cluster?\n",
    "Hint: Think the example where words can be clustered from the transposed tf-idf matrix."
   ]
  },
  {
   "cell_type": "code",
   "execution_count": null,
   "metadata": {
    "collapsed": true
   },
   "outputs": [],
   "source": [
    "# To be implemented"
   ]
  },
  {
   "cell_type": "markdown",
   "metadata": {},
   "source": [
    "## Extra Credit #4: What are the characteristics of each of the clustered  ? For each cluster, which restaurant can best represent (\"define\") its cluster?\n",
    "Hint: how to interpret \"best\"?"
   ]
  },
  {
   "cell_type": "code",
   "execution_count": null,
   "metadata": {
    "collapsed": true
   },
   "outputs": [],
   "source": [
    "# To be implemented"
   ]
  },
  {
   "cell_type": "markdown",
   "metadata": {},
   "source": [
    "## Extra Credit #5: Can you think of other use cases that clustering can be used? \n",
    "Hint: of course you can make use of other yelp dataset. You can try anything you want as long as you can explain it."
   ]
  },
  {
   "cell_type": "code",
   "execution_count": null,
   "metadata": {
    "collapsed": true
   },
   "outputs": [],
   "source": [
    "# To be implemented"
   ]
  },
  {
   "cell_type": "code",
   "execution_count": null,
   "metadata": {
    "collapsed": true
   },
   "outputs": [],
   "source": []
  }
 ],
 "metadata": {
  "anaconda-cloud": {},
  "kernelspec": {
   "display_name": "Python 3",
   "language": "python",
   "name": "python3"
  },
  "language_info": {
   "codemirror_mode": {
    "name": "ipython",
    "version": 3
   },
   "file_extension": ".py",
   "mimetype": "text/x-python",
   "name": "python",
   "nbconvert_exporter": "python",
   "pygments_lexer": "ipython3",
   "version": "3.6.4"
  }
 },
 "nbformat": 4,
 "nbformat_minor": 1
}
