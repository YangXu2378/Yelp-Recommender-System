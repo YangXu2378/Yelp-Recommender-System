{
 "cells": [
  {
   "cell_type": "markdown",
   "metadata": {},
   "source": [
    "# Yelp Data Challenge - Data Preprocessing\n",
    "\n",
    "BitTiger DS501\n",
    "\n",
    "Jun 2017"
   ]
  },
  {
   "cell_type": "markdown",
   "metadata": {},
   "source": [
    "## Dataset Introduction\n",
    "\n",
    "[Yelp Dataset Challenge](https://www.yelp.com/dataset_challenge)\n",
    "\n",
    "The Challenge Dataset:\n",
    "\n",
    "    4.1M reviews and 947K tips by 1M users for 144K businesses\n",
    "    1.1M business attributes, e.g., hours, parking availability, ambience.\n",
    "    Aggregated check-ins over time for each of the 125K businesses\n",
    "    200,000 pictures from the included businesses\n",
    "\n",
    "Cities:\n",
    "\n",
    "    U.K.: Edinburgh\n",
    "    Germany: Karlsruhe\n",
    "    Canada: Montreal and Waterloo\n",
    "    U.S.: Pittsburgh, Charlotte, Urbana-Champaign, Phoenix, Las Vegas, Madison, Cleveland\n",
    "\n",
    "Files:\n",
    "\n",
    "    yelp_academic_dataset_business.json\n",
    "    yelp_academic_dataset_checkin.json\n",
    "    yelp_academic_dataset_review.json\n",
    "    yelp_academic_dataset_tip.json\n",
    "    yelp_academic_dataset_user.json\n",
    "\n",
    "Notes on the Dataset\n",
    "\n",
    "    Each file is composed of a single object type, one json-object per-line.\n",
    "    Take a look at some examples to get you started: https://github.com/Yelp/dataset-examples.\n",
    "\n"
   ]
  },
  {
   "cell_type": "markdown",
   "metadata": {},
   "source": [
    "## Read data from file and load to Pandas DataFrame\n",
    "\n",
    "**Warning**: Loading all the 1.8 GB data into Pandas at a time takes long time and a lot of memory!"
   ]
  },
  {
   "cell_type": "code",
   "execution_count": 1,
   "metadata": {},
   "outputs": [],
   "source": [
    "import json\n",
    "import pandas as pd"
   ]
  },
  {
   "cell_type": "code",
   "execution_count": 2,
   "metadata": {},
   "outputs": [],
   "source": [
    "file_business, file_checkin, file_review, file_tip, file_user = [\n",
    "     '/Users/Administrator/Desktop/Bittiger/501/yelp_dataset/yelp_academic_dataset_business.json',\n",
    "    '/Users/Administrator/Desktop/Bittiger/501/yelp_dataset/yelp_academic_dataset_checkin.json',\n",
    "    '/Users/Administrator/Desktop/Bittiger/501/yelp_dataset/yelp_academic_dataset_review.json',\n",
    "    '/Users/Administrator/Desktop/Bittiger/501/yelp_dataset/yelp_academic_dataset_tip.json',\n",
    "    '/Users/Administrator/Desktop/Bittiger/501/yelp_dataset/yelp_academic_dataset_user.json'\n",
    "]"
   ]
  },
  {
   "cell_type": "markdown",
   "metadata": {},
   "source": [
    "#### Business Data"
   ]
  },
  {
   "cell_type": "code",
   "execution_count": 3,
   "metadata": {},
   "outputs": [],
   "source": [
    "with open(file_business) as f:\n",
    "    df_business = pd.DataFrame(json.loads(line) for line in f)"
   ]
  },
  {
   "cell_type": "code",
   "execution_count": 4,
   "metadata": {},
   "outputs": [
    {
     "data": {
      "text/html": [
       "<div>\n",
       "<style scoped>\n",
       "    .dataframe tbody tr th:only-of-type {\n",
       "        vertical-align: middle;\n",
       "    }\n",
       "\n",
       "    .dataframe tbody tr th {\n",
       "        vertical-align: top;\n",
       "    }\n",
       "\n",
       "    .dataframe thead th {\n",
       "        text-align: right;\n",
       "    }\n",
       "</style>\n",
       "<table border=\"1\" class=\"dataframe\">\n",
       "  <thead>\n",
       "    <tr style=\"text-align: right;\">\n",
       "      <th></th>\n",
       "      <th>address</th>\n",
       "      <th>attributes</th>\n",
       "      <th>business_id</th>\n",
       "      <th>categories</th>\n",
       "      <th>city</th>\n",
       "      <th>hours</th>\n",
       "      <th>is_open</th>\n",
       "      <th>latitude</th>\n",
       "      <th>longitude</th>\n",
       "      <th>name</th>\n",
       "      <th>neighborhood</th>\n",
       "      <th>postal_code</th>\n",
       "      <th>review_count</th>\n",
       "      <th>stars</th>\n",
       "      <th>state</th>\n",
       "    </tr>\n",
       "  </thead>\n",
       "  <tbody>\n",
       "    <tr>\n",
       "      <th>0</th>\n",
       "      <td>1314 44 Avenue NE</td>\n",
       "      <td>{'BikeParking': 'False', 'BusinessAcceptsCredi...</td>\n",
       "      <td>Apn5Q_b6Nz61Tq4XzPdf9A</td>\n",
       "      <td>Tours, Breweries, Pizza, Restaurants, Food, Ho...</td>\n",
       "      <td>Calgary</td>\n",
       "      <td>{'Monday': '8:30-17:0', 'Tuesday': '11:0-21:0'...</td>\n",
       "      <td>1</td>\n",
       "      <td>51.091813</td>\n",
       "      <td>-114.031675</td>\n",
       "      <td>Minhas Micro Brewery</td>\n",
       "      <td></td>\n",
       "      <td>T2E 6L6</td>\n",
       "      <td>24</td>\n",
       "      <td>4.0</td>\n",
       "      <td>AB</td>\n",
       "    </tr>\n",
       "    <tr>\n",
       "      <th>1</th>\n",
       "      <td></td>\n",
       "      <td>{'Alcohol': 'none', 'BikeParking': 'False', 'B...</td>\n",
       "      <td>AjEbIBw6ZFfln7ePHha9PA</td>\n",
       "      <td>Chicken Wings, Burgers, Caterers, Street Vendo...</td>\n",
       "      <td>Henderson</td>\n",
       "      <td>{'Friday': '17:0-23:0', 'Saturday': '17:0-23:0...</td>\n",
       "      <td>0</td>\n",
       "      <td>35.960734</td>\n",
       "      <td>-114.939821</td>\n",
       "      <td>CK'S BBQ &amp; Catering</td>\n",
       "      <td></td>\n",
       "      <td>89002</td>\n",
       "      <td>3</td>\n",
       "      <td>4.5</td>\n",
       "      <td>NV</td>\n",
       "    </tr>\n",
       "  </tbody>\n",
       "</table>\n",
       "</div>"
      ],
      "text/plain": [
       "             address                                         attributes  \\\n",
       "0  1314 44 Avenue NE  {'BikeParking': 'False', 'BusinessAcceptsCredi...   \n",
       "1                     {'Alcohol': 'none', 'BikeParking': 'False', 'B...   \n",
       "\n",
       "              business_id                                         categories  \\\n",
       "0  Apn5Q_b6Nz61Tq4XzPdf9A  Tours, Breweries, Pizza, Restaurants, Food, Ho...   \n",
       "1  AjEbIBw6ZFfln7ePHha9PA  Chicken Wings, Burgers, Caterers, Street Vendo...   \n",
       "\n",
       "        city                                              hours  is_open  \\\n",
       "0    Calgary  {'Monday': '8:30-17:0', 'Tuesday': '11:0-21:0'...        1   \n",
       "1  Henderson  {'Friday': '17:0-23:0', 'Saturday': '17:0-23:0...        0   \n",
       "\n",
       "    latitude   longitude                  name neighborhood postal_code  \\\n",
       "0  51.091813 -114.031675  Minhas Micro Brewery                  T2E 6L6   \n",
       "1  35.960734 -114.939821   CK'S BBQ & Catering                    89002   \n",
       "\n",
       "   review_count  stars state  \n",
       "0            24    4.0    AB  \n",
       "1             3    4.5    NV  "
      ]
     },
     "execution_count": 4,
     "metadata": {},
     "output_type": "execute_result"
    }
   ],
   "source": [
    "df_business.head(2)"
   ]
  },
  {
   "cell_type": "code",
   "execution_count": 5,
   "metadata": {
    "scrolled": true
   },
   "outputs": [
    {
     "name": "stdout",
     "output_type": "stream",
     "text": [
      "<class 'pandas.core.frame.DataFrame'>\n",
      "RangeIndex: 188593 entries, 0 to 188592\n",
      "Data columns (total 15 columns):\n",
      "address         188593 non-null object\n",
      "attributes      162807 non-null object\n",
      "business_id     188593 non-null object\n",
      "categories      188052 non-null object\n",
      "city            188593 non-null object\n",
      "hours           143791 non-null object\n",
      "is_open         188593 non-null int64\n",
      "latitude        188587 non-null float64\n",
      "longitude       188587 non-null float64\n",
      "name            188593 non-null object\n",
      "neighborhood    188593 non-null object\n",
      "postal_code     188593 non-null object\n",
      "review_count    188593 non-null int64\n",
      "stars           188593 non-null float64\n",
      "state           188593 non-null object\n",
      "dtypes: float64(3), int64(2), object(10)\n",
      "memory usage: 21.6+ MB\n"
     ]
    }
   ],
   "source": [
    "df_business.info()"
   ]
  },
  {
   "cell_type": "markdown",
   "metadata": {},
   "source": [
    "#### Checkin Data"
   ]
  },
  {
   "cell_type": "code",
   "execution_count": 6,
   "metadata": {},
   "outputs": [
    {
     "data": {
      "text/html": [
       "<div>\n",
       "<style scoped>\n",
       "    .dataframe tbody tr th:only-of-type {\n",
       "        vertical-align: middle;\n",
       "    }\n",
       "\n",
       "    .dataframe tbody tr th {\n",
       "        vertical-align: top;\n",
       "    }\n",
       "\n",
       "    .dataframe thead th {\n",
       "        text-align: right;\n",
       "    }\n",
       "</style>\n",
       "<table border=\"1\" class=\"dataframe\">\n",
       "  <thead>\n",
       "    <tr style=\"text-align: right;\">\n",
       "      <th></th>\n",
       "      <th>business_id</th>\n",
       "      <th>time</th>\n",
       "    </tr>\n",
       "  </thead>\n",
       "  <tbody>\n",
       "    <tr>\n",
       "      <th>0</th>\n",
       "      <td>7KPBkxAOEtb3QeIL9PEErg</td>\n",
       "      <td>{'Fri-0': 2, 'Sat-0': 1, 'Sun-0': 1, 'Wed-0': ...</td>\n",
       "    </tr>\n",
       "    <tr>\n",
       "      <th>1</th>\n",
       "      <td>kREVIrSBbtqBhIYkTccQUg</td>\n",
       "      <td>{'Mon-13': 1, 'Thu-13': 1, 'Sat-16': 1, 'Wed-1...</td>\n",
       "    </tr>\n",
       "  </tbody>\n",
       "</table>\n",
       "</div>"
      ],
      "text/plain": [
       "              business_id                                               time\n",
       "0  7KPBkxAOEtb3QeIL9PEErg  {'Fri-0': 2, 'Sat-0': 1, 'Sun-0': 1, 'Wed-0': ...\n",
       "1  kREVIrSBbtqBhIYkTccQUg  {'Mon-13': 1, 'Thu-13': 1, 'Sat-16': 1, 'Wed-1..."
      ]
     },
     "execution_count": 6,
     "metadata": {},
     "output_type": "execute_result"
    }
   ],
   "source": [
    "with open(file_checkin) as f:\n",
    "    df_checkin = pd.DataFrame(json.loads(line) for line in f)\n",
    "df_checkin.head(2)"
   ]
  },
  {
   "cell_type": "markdown",
   "metadata": {},
   "source": [
    "#### Review Data"
   ]
  },
  {
   "cell_type": "code",
   "execution_count": 28,
   "metadata": {},
   "outputs": [],
   "source": [
    "#with open(file_review) as f:\n",
    "#    df_review = pd.DataFrame(json.loads(line) for line in f)\n",
    "#df_review.head(2)"
   ]
  },
  {
   "cell_type": "markdown",
   "metadata": {},
   "source": [
    "#### Tip Data"
   ]
  },
  {
   "cell_type": "code",
   "execution_count": 8,
   "metadata": {},
   "outputs": [],
   "source": [
    "#with open(file_tip) as f:\n",
    "#    df_tip = pd.DataFrame(json.loads(line) for line in f)\n",
    "#df_tip.head(2)"
   ]
  },
  {
   "cell_type": "markdown",
   "metadata": {},
   "source": [
    "#### User Data"
   ]
  },
  {
   "cell_type": "code",
   "execution_count": 9,
   "metadata": {},
   "outputs": [],
   "source": [
    "# with open(file_user) as f:\n",
    "#     df_user = pd.DataFrame(json.loads(line) for line in f)\n",
    "# df_user.head(2)"
   ]
  },
  {
   "cell_type": "markdown",
   "metadata": {},
   "source": [
    "## Filter data by city and category"
   ]
  },
  {
   "cell_type": "markdown",
   "metadata": {},
   "source": [
    "#### Create filters/masks\n",
    "\n",
    "* create filters that selects business \n",
    "    * that are located in \"Las Vegas\"\n",
    "    * that contains \"Restaurants\" in their category (You may need to filter null categories first)"
   ]
  },
  {
   "cell_type": "code",
   "execution_count": 10,
   "metadata": {},
   "outputs": [],
   "source": [
    "#Create Pandas DataFrame filters\n",
    "\n",
    "#select business that are located in \"Las Vegas\"\n",
    "cond_city = df_business['city'] == \"Las Vegas\"\n",
    "\n",
    "#filter null categories\n",
    "cond_category_not_null = ~df_business[\"categories\"].isnull()\n",
    "\n",
    "#contain \"Restaurants\" in category\n",
    "cond_category_restaurant = df_business[\"categories\"].apply(str).str.contains(\"Restaurants\")\n",
    "\n"
   ]
  },
  {
   "cell_type": "code",
   "execution_count": 11,
   "metadata": {},
   "outputs": [],
   "source": [
    "# Create filtered DataFrame, and name it df_filtered\n",
    "df_filtered = df_business[cond_city & cond_category_not_null & cond_category_restaurant]\n"
   ]
  },
  {
   "cell_type": "markdown",
   "metadata": {},
   "source": [
    "#### Keep relevant columns\n",
    "\n",
    "* only keep some useful columns\n",
    "    * business_id\n",
    "    * name\n",
    "    * categories\n",
    "    * stars"
   ]
  },
  {
   "cell_type": "code",
   "execution_count": 12,
   "metadata": {},
   "outputs": [],
   "source": [
    "selected_features = [u'business_id', u'name', u'categories', u'stars']"
   ]
  },
  {
   "cell_type": "code",
   "execution_count": 13,
   "metadata": {},
   "outputs": [],
   "source": [
    "# Make a DataFrame that contains only the abovementioned columns, and name it as df_selected_business\n",
    "df_selected_business = df_filtered[selected_features]\n"
   ]
  },
  {
   "cell_type": "code",
   "execution_count": 14,
   "metadata": {},
   "outputs": [
    {
     "name": "stderr",
     "output_type": "stream",
     "text": [
      "/anaconda3/lib/python3.6/site-packages/pandas/core/frame.py:3027: SettingWithCopyWarning: \n",
      "A value is trying to be set on a copy of a slice from a DataFrame\n",
      "\n",
      "See the caveats in the documentation: http://pandas.pydata.org/pandas-docs/stable/indexing.html#indexing-view-versus-copy\n",
      "  return super(DataFrame, self).rename(**kwargs)\n"
     ]
    }
   ],
   "source": [
    "# Rename the column name \"stars\" to \"avg_stars\" to avoid naming conflicts with review dataset\n",
    "df_selected_business.rename(columns={\"stars\":\"avg_stars\"}, inplace=True)"
   ]
  },
  {
   "cell_type": "code",
   "execution_count": 15,
   "metadata": {},
   "outputs": [
    {
     "name": "stdout",
     "output_type": "stream",
     "text": [
      "<class 'pandas.core.frame.DataFrame'>\n",
      "Int64Index: 6148 entries, 19 to 188567\n",
      "Data columns (total 4 columns):\n",
      "business_id    6148 non-null object\n",
      "name           6148 non-null object\n",
      "categories     6148 non-null object\n",
      "avg_stars      6148 non-null float64\n",
      "dtypes: float64(1), object(3)\n",
      "memory usage: 240.2+ KB\n"
     ]
    }
   ],
   "source": [
    "# Inspect your DataFrame\n",
    "df_selected_business.info()"
   ]
  },
  {
   "cell_type": "code",
   "execution_count": 16,
   "metadata": {},
   "outputs": [
    {
     "data": {
      "text/html": [
       "<div>\n",
       "<style scoped>\n",
       "    .dataframe tbody tr th:only-of-type {\n",
       "        vertical-align: middle;\n",
       "    }\n",
       "\n",
       "    .dataframe tbody tr th {\n",
       "        vertical-align: top;\n",
       "    }\n",
       "\n",
       "    .dataframe thead th {\n",
       "        text-align: right;\n",
       "    }\n",
       "</style>\n",
       "<table border=\"1\" class=\"dataframe\">\n",
       "  <thead>\n",
       "    <tr style=\"text-align: right;\">\n",
       "      <th></th>\n",
       "      <th>business_id</th>\n",
       "      <th>name</th>\n",
       "      <th>categories</th>\n",
       "      <th>avg_stars</th>\n",
       "    </tr>\n",
       "  </thead>\n",
       "  <tbody>\n",
       "    <tr>\n",
       "      <th>19</th>\n",
       "      <td>vJIuDBdu01vCA8y1fwR1OQ</td>\n",
       "      <td>CakesbyToi</td>\n",
       "      <td>American (Traditional), Food, Bakeries, Restau...</td>\n",
       "      <td>1.5</td>\n",
       "    </tr>\n",
       "    <tr>\n",
       "      <th>32</th>\n",
       "      <td>kgffcoxT6BQp-gJ-UQ7Czw</td>\n",
       "      <td>Subway</td>\n",
       "      <td>Fast Food, Restaurants, Sandwiches</td>\n",
       "      <td>2.5</td>\n",
       "    </tr>\n",
       "    <tr>\n",
       "      <th>33</th>\n",
       "      <td>0jtRI7hVMpQHpUVtUy4ITw</td>\n",
       "      <td>Omelet House Summerlin</td>\n",
       "      <td>Beer, Wine &amp; Spirits, Italian, Food, American ...</td>\n",
       "      <td>4.0</td>\n",
       "    </tr>\n",
       "    <tr>\n",
       "      <th>61</th>\n",
       "      <td>JJEx5wIqs9iGGATOagE8Sg</td>\n",
       "      <td>Baja Fresh Mexican Grill</td>\n",
       "      <td>Mexican, Restaurants</td>\n",
       "      <td>2.0</td>\n",
       "    </tr>\n",
       "    <tr>\n",
       "      <th>141</th>\n",
       "      <td>zhxnD7J5_sCrKSw5cwI9dQ</td>\n",
       "      <td>Popeyes Louisiana Kitchen</td>\n",
       "      <td>Chicken Wings, Restaurants, Fast Food</td>\n",
       "      <td>1.5</td>\n",
       "    </tr>\n",
       "  </tbody>\n",
       "</table>\n",
       "</div>"
      ],
      "text/plain": [
       "                business_id                       name  \\\n",
       "19   vJIuDBdu01vCA8y1fwR1OQ                 CakesbyToi   \n",
       "32   kgffcoxT6BQp-gJ-UQ7Czw                     Subway   \n",
       "33   0jtRI7hVMpQHpUVtUy4ITw     Omelet House Summerlin   \n",
       "61   JJEx5wIqs9iGGATOagE8Sg   Baja Fresh Mexican Grill   \n",
       "141  zhxnD7J5_sCrKSw5cwI9dQ  Popeyes Louisiana Kitchen   \n",
       "\n",
       "                                            categories  avg_stars  \n",
       "19   American (Traditional), Food, Bakeries, Restau...        1.5  \n",
       "32                  Fast Food, Restaurants, Sandwiches        2.5  \n",
       "33   Beer, Wine & Spirits, Italian, Food, American ...        4.0  \n",
       "61                                Mexican, Restaurants        2.0  \n",
       "141              Chicken Wings, Restaurants, Fast Food        1.5  "
      ]
     },
     "execution_count": 16,
     "metadata": {},
     "output_type": "execute_result"
    }
   ],
   "source": [
    "df_selected_business.head()"
   ]
  },
  {
   "cell_type": "code",
   "execution_count": 17,
   "metadata": {},
   "outputs": [
    {
     "data": {
      "text/html": [
       "<div>\n",
       "<style scoped>\n",
       "    .dataframe tbody tr th:only-of-type {\n",
       "        vertical-align: middle;\n",
       "    }\n",
       "\n",
       "    .dataframe tbody tr th {\n",
       "        vertical-align: top;\n",
       "    }\n",
       "\n",
       "    .dataframe thead th {\n",
       "        text-align: right;\n",
       "    }\n",
       "</style>\n",
       "<table border=\"1\" class=\"dataframe\">\n",
       "  <thead>\n",
       "    <tr style=\"text-align: right;\">\n",
       "      <th></th>\n",
       "      <th>avg_stars</th>\n",
       "    </tr>\n",
       "  </thead>\n",
       "  <tbody>\n",
       "    <tr>\n",
       "      <th>count</th>\n",
       "      <td>6148.000000</td>\n",
       "    </tr>\n",
       "    <tr>\n",
       "      <th>mean</th>\n",
       "      <td>3.477066</td>\n",
       "    </tr>\n",
       "    <tr>\n",
       "      <th>std</th>\n",
       "      <td>0.808917</td>\n",
       "    </tr>\n",
       "    <tr>\n",
       "      <th>min</th>\n",
       "      <td>1.000000</td>\n",
       "    </tr>\n",
       "    <tr>\n",
       "      <th>25%</th>\n",
       "      <td>3.000000</td>\n",
       "    </tr>\n",
       "    <tr>\n",
       "      <th>50%</th>\n",
       "      <td>3.500000</td>\n",
       "    </tr>\n",
       "    <tr>\n",
       "      <th>75%</th>\n",
       "      <td>4.000000</td>\n",
       "    </tr>\n",
       "    <tr>\n",
       "      <th>max</th>\n",
       "      <td>5.000000</td>\n",
       "    </tr>\n",
       "  </tbody>\n",
       "</table>\n",
       "</div>"
      ],
      "text/plain": [
       "         avg_stars\n",
       "count  6148.000000\n",
       "mean      3.477066\n",
       "std       0.808917\n",
       "min       1.000000\n",
       "25%       3.000000\n",
       "50%       3.500000\n",
       "75%       4.000000\n",
       "max       5.000000"
      ]
     },
     "execution_count": 17,
     "metadata": {},
     "output_type": "execute_result"
    }
   ],
   "source": [
    "df_selected_business.describe()"
   ]
  },
  {
   "cell_type": "markdown",
   "metadata": {},
   "source": [
    "#### Save results to csv files"
   ]
  },
  {
   "cell_type": "code",
   "execution_count": 18,
   "metadata": {},
   "outputs": [],
   "source": [
    "# Save to ./data/selected_business.csv for your next task\n",
    "df_selected_business.to_csv(\"/Users/Administrator/Desktop/Bittiger/501/Yelp Project/selected_business.csv\", \n",
    "                            index=False, encoding='utf-8')\n"
   ]
  },
  {
   "cell_type": "code",
   "execution_count": 19,
   "metadata": {},
   "outputs": [
    {
     "data": {
      "text/html": [
       "<div>\n",
       "<style scoped>\n",
       "    .dataframe tbody tr th:only-of-type {\n",
       "        vertical-align: middle;\n",
       "    }\n",
       "\n",
       "    .dataframe tbody tr th {\n",
       "        vertical-align: top;\n",
       "    }\n",
       "\n",
       "    .dataframe thead th {\n",
       "        text-align: right;\n",
       "    }\n",
       "</style>\n",
       "<table border=\"1\" class=\"dataframe\">\n",
       "  <thead>\n",
       "    <tr style=\"text-align: right;\">\n",
       "      <th></th>\n",
       "      <th>business_id</th>\n",
       "      <th>name</th>\n",
       "      <th>categories</th>\n",
       "      <th>avg_stars</th>\n",
       "    </tr>\n",
       "  </thead>\n",
       "  <tbody>\n",
       "    <tr>\n",
       "      <th>0</th>\n",
       "      <td>vJIuDBdu01vCA8y1fwR1OQ</td>\n",
       "      <td>CakesbyToi</td>\n",
       "      <td>American (Traditional), Food, Bakeries, Restau...</td>\n",
       "      <td>1.5</td>\n",
       "    </tr>\n",
       "    <tr>\n",
       "      <th>1</th>\n",
       "      <td>kgffcoxT6BQp-gJ-UQ7Czw</td>\n",
       "      <td>Subway</td>\n",
       "      <td>Fast Food, Restaurants, Sandwiches</td>\n",
       "      <td>2.5</td>\n",
       "    </tr>\n",
       "    <tr>\n",
       "      <th>2</th>\n",
       "      <td>0jtRI7hVMpQHpUVtUy4ITw</td>\n",
       "      <td>Omelet House Summerlin</td>\n",
       "      <td>Beer, Wine &amp; Spirits, Italian, Food, American ...</td>\n",
       "      <td>4.0</td>\n",
       "    </tr>\n",
       "    <tr>\n",
       "      <th>3</th>\n",
       "      <td>JJEx5wIqs9iGGATOagE8Sg</td>\n",
       "      <td>Baja Fresh Mexican Grill</td>\n",
       "      <td>Mexican, Restaurants</td>\n",
       "      <td>2.0</td>\n",
       "    </tr>\n",
       "    <tr>\n",
       "      <th>4</th>\n",
       "      <td>zhxnD7J5_sCrKSw5cwI9dQ</td>\n",
       "      <td>Popeyes Louisiana Kitchen</td>\n",
       "      <td>Chicken Wings, Restaurants, Fast Food</td>\n",
       "      <td>1.5</td>\n",
       "    </tr>\n",
       "  </tbody>\n",
       "</table>\n",
       "</div>"
      ],
      "text/plain": [
       "              business_id                       name  \\\n",
       "0  vJIuDBdu01vCA8y1fwR1OQ                 CakesbyToi   \n",
       "1  kgffcoxT6BQp-gJ-UQ7Czw                     Subway   \n",
       "2  0jtRI7hVMpQHpUVtUy4ITw     Omelet House Summerlin   \n",
       "3  JJEx5wIqs9iGGATOagE8Sg   Baja Fresh Mexican Grill   \n",
       "4  zhxnD7J5_sCrKSw5cwI9dQ  Popeyes Louisiana Kitchen   \n",
       "\n",
       "                                          categories  avg_stars  \n",
       "0  American (Traditional), Food, Bakeries, Restau...        1.5  \n",
       "1                 Fast Food, Restaurants, Sandwiches        2.5  \n",
       "2  Beer, Wine & Spirits, Italian, Food, American ...        4.0  \n",
       "3                               Mexican, Restaurants        2.0  \n",
       "4              Chicken Wings, Restaurants, Fast Food        1.5  "
      ]
     },
     "execution_count": 19,
     "metadata": {},
     "output_type": "execute_result"
    }
   ],
   "source": [
    "# Try reload the csv file to check if everything works fine\n",
    "pd.read_csv(\"/Users/Administrator/Desktop/Bittiger/501/Yelp Project/selected_business.csv\", \n",
    "                            encoding='utf-8').head()"
   ]
  },
  {
   "cell_type": "markdown",
   "metadata": {},
   "source": [
    "### Use the \"business_id\" column to filter review data\n",
    "\n",
    "* We want to make a DataFrame that contain and only contain the reviews about the business entities we just obtained"
   ]
  },
  {
   "cell_type": "markdown",
   "metadata": {},
   "source": [
    "#### Load review dataset"
   ]
  },
  {
   "cell_type": "code",
   "execution_count": 21,
   "metadata": {},
   "outputs": [],
   "source": [
    "#with open(file_review) as f:\n",
    "#    df_review = pd.DataFrame(json.loads(line) for line in f)\n",
    "#df_review.head(2)\n",
    "#df_review"
   ]
  },
  {
   "cell_type": "code",
   "execution_count": 25,
   "metadata": {},
   "outputs": [],
   "source": [
    "dir_part1 = 'review_'\n",
    "review_list = [dir_part1 + str(year) + '.json' for year in [2010, 2012, 2014, 2015, 2016, 2017, 2018]]\n"
   ]
  },
  {
   "cell_type": "code",
   "execution_count": 27,
   "metadata": {
    "scrolled": true
   },
   "outputs": [
    {
     "ename": "FileNotFoundError",
     "evalue": "[Errno 2] No such file or directory: 'review_2010.json'",
     "output_type": "error",
     "traceback": [
      "\u001b[0;31m---------------------------------------------------------------------------\u001b[0m",
      "\u001b[0;31mFileNotFoundError\u001b[0m                         Traceback (most recent call last)",
      "\u001b[0;32m<ipython-input-27-dab49ed85bd1>\u001b[0m in \u001b[0;36m<module>\u001b[0;34m()\u001b[0m\n\u001b[1;32m      4\u001b[0m \u001b[0;34m\u001b[0m\u001b[0m\n\u001b[1;32m      5\u001b[0m     \u001b[0;31m#load review data\u001b[0m\u001b[0;34m\u001b[0m\u001b[0;34m\u001b[0m\u001b[0m\n\u001b[0;32m----> 6\u001b[0;31m     \u001b[0;32mwith\u001b[0m \u001b[0mopen\u001b[0m\u001b[0;34m(\u001b[0m\u001b[0mreview_file\u001b[0m\u001b[0;34m)\u001b[0m \u001b[0;32mas\u001b[0m \u001b[0mf\u001b[0m\u001b[0;34m:\u001b[0m\u001b[0;34m\u001b[0m\u001b[0m\n\u001b[0m\u001b[1;32m      7\u001b[0m         \u001b[0mdf_review\u001b[0m \u001b[0;34m=\u001b[0m \u001b[0mpd\u001b[0m\u001b[0;34m.\u001b[0m\u001b[0mDataFrame\u001b[0m\u001b[0;34m(\u001b[0m\u001b[0mjson\u001b[0m\u001b[0;34m.\u001b[0m\u001b[0mloads\u001b[0m\u001b[0;34m(\u001b[0m\u001b[0mline\u001b[0m\u001b[0;34m)\u001b[0m \u001b[0;32mfor\u001b[0m \u001b[0mline\u001b[0m \u001b[0;32min\u001b[0m \u001b[0mf\u001b[0m\u001b[0;34m)\u001b[0m\u001b[0;34m\u001b[0m\u001b[0m\n\u001b[1;32m      8\u001b[0m \u001b[0;34m\u001b[0m\u001b[0m\n",
      "\u001b[0;31mFileNotFoundError\u001b[0m: [Errno 2] No such file or directory: 'review_2010.json'"
     ]
    }
   ],
   "source": [
    "df_left = df_selected_business.set_index(\"business_id\")\n",
    "\n",
    "for review_file in review_list: \n",
    "    \n",
    "    #load review data\n",
    "    with open(review_file) as f:\n",
    "        df_review = pd.DataFrame(json.loads(line) for line in f)\n",
    "        \n",
    "    #prepare the business dataframe and set index to column \"business_id\", and name it as df_left\n",
    "    \n",
    "    \n",
    "    #prepare the review dataframe and set index to column \"business_id\", and name it as df_right\n",
    "    df_right = df_review.set_index(\"business_id\")\n",
    "    \n",
    "    #join df_left and df_right\n",
    "    df_joined.reset_index(inplace=True)\n",
    "    \n",
    "    print(review_file + \"  complete\")\n",
    "    \n",
    "    #concat data\n",
    "    if \"2010\" in review_file:\n",
    "        df_final = df_joined\n",
    "    else:\n",
    "        df_final = pd.concat([df_final, df_joined]) \n",
    "     \n",
    "    # free some memory, reset the index\n",
    "    del df_review \n",
    "    del df_right\n",
    "    del df_joined\n"
   ]
  },
  {
   "cell_type": "markdown",
   "metadata": {},
   "source": [
    "#### Prepare dataframes to be joined, - on business_id"
   ]
  },
  {
   "cell_type": "code",
   "execution_count": 23,
   "metadata": {},
   "outputs": [
    {
     "name": "stdout",
     "output_type": "stream",
     "text": [
      "<class 'pandas.core.frame.DataFrame'>\n",
      "Index: 6148 entries, vJIuDBdu01vCA8y1fwR1OQ to 0zGeYN8ReYwVj27U7EHOJA\n",
      "Data columns (total 3 columns):\n",
      "name          6148 non-null object\n",
      "categories    6148 non-null object\n",
      "avg_stars     6148 non-null float64\n",
      "dtypes: float64(1), object(2)\n",
      "memory usage: 192.1+ KB\n"
     ]
    }
   ],
   "source": [
    "# Prepare the business dataframe and set index to column \"business_id\", and name it as df_left\n",
    "df_left = df_selected_business.set_index('business_id')\n",
    "df_left.info()\n",
    "#df_left"
   ]
  },
  {
   "cell_type": "code",
   "execution_count": 29,
   "metadata": {},
   "outputs": [
    {
     "name": "stdout",
     "output_type": "stream",
     "text": [
      "<class 'pandas.core.frame.DataFrame'>\n",
      "RangeIndex: 5996996 entries, 0 to 5996995\n",
      "Data columns (total 9 columns):\n",
      "business_id    object\n",
      "cool           int64\n",
      "date           object\n",
      "funny          int64\n",
      "review_id      object\n",
      "stars          int64\n",
      "text           object\n",
      "useful         int64\n",
      "user_id        object\n",
      "dtypes: int64(4), object(5)\n",
      "memory usage: 411.8+ MB\n",
      "<class 'pandas.core.frame.DataFrame'>\n",
      "Index: 5996996 entries, iCQpiavjjPzJ5_3gPD5Ebg to 6E4i0NHTRAgpwbbRwZhlnw\n",
      "Data columns (total 8 columns):\n",
      "cool         int64\n",
      "date         object\n",
      "funny        int64\n",
      "review_id    object\n",
      "stars        int64\n",
      "text         object\n",
      "useful       int64\n",
      "user_id      object\n",
      "dtypes: int64(4), object(4)\n",
      "memory usage: 411.8+ MB\n"
     ]
    }
   ],
   "source": [
    "# Prepare the review dataframe and set index to column \"business_id\", and name it as df_right\n",
    "df_right = df_review.set_index('business_id')\n",
    "df_review.info()\n",
    "df_right.info()\n",
    "#df_right"
   ]
  },
  {
   "cell_type": "markdown",
   "metadata": {},
   "source": [
    "#### Join! and reset index"
   ]
  },
  {
   "cell_type": "code",
   "execution_count": 31,
   "metadata": {},
   "outputs": [],
   "source": [
    "# Join df_left and df_right. What type of join?\n",
    "# inner join\n",
    "df_join = df_left.join(df_right, how='inner')"
   ]
  },
  {
   "cell_type": "code",
   "execution_count": 32,
   "metadata": {},
   "outputs": [],
   "source": [
    "# You may want to reset the index \n",
    "df_join.reset_index(inplace=True)"
   ]
  },
  {
   "cell_type": "markdown",
   "metadata": {},
   "source": [
    "#### We further filter data by date, e.g. keep comments from last 2 years\n",
    "\n",
    "* Otherwise your laptop may crush on memory when running machine learning algorithms\n",
    "* Purposefully ignoring the reviews made too long time ago"
   ]
  },
  {
   "cell_type": "code",
   "execution_count": 33,
   "metadata": {
    "scrolled": true
   },
   "outputs": [],
   "source": [
    "# Make a filter that selects date after 2015-01-20\n",
    "dataFilter = df_join['date'] > u'2015-01-20'"
   ]
  },
  {
   "cell_type": "code",
   "execution_count": 34,
   "metadata": {},
   "outputs": [],
   "source": [
    "# Filter the joined DataFrame and name it as df_final\n",
    "df_final = df_join[dataFilter]"
   ]
  },
  {
   "cell_type": "markdown",
   "metadata": {},
   "source": [
    "#### Take a glance at the final dataset\n",
    "\n",
    "* Do more EDA here as you like!"
   ]
  },
  {
   "cell_type": "code",
   "execution_count": 35,
   "metadata": {},
   "outputs": [
    {
     "data": {
      "text/html": [
       "<div>\n",
       "<style scoped>\n",
       "    .dataframe tbody tr th:only-of-type {\n",
       "        vertical-align: middle;\n",
       "    }\n",
       "\n",
       "    .dataframe tbody tr th {\n",
       "        vertical-align: top;\n",
       "    }\n",
       "\n",
       "    .dataframe thead th {\n",
       "        text-align: right;\n",
       "    }\n",
       "</style>\n",
       "<table border=\"1\" class=\"dataframe\">\n",
       "  <thead>\n",
       "    <tr style=\"text-align: right;\">\n",
       "      <th></th>\n",
       "      <th>business_id</th>\n",
       "      <th>name</th>\n",
       "      <th>categories</th>\n",
       "      <th>avg_stars</th>\n",
       "      <th>cool</th>\n",
       "      <th>date</th>\n",
       "      <th>funny</th>\n",
       "      <th>review_id</th>\n",
       "      <th>stars</th>\n",
       "      <th>text</th>\n",
       "      <th>useful</th>\n",
       "      <th>user_id</th>\n",
       "    </tr>\n",
       "  </thead>\n",
       "  <tbody>\n",
       "    <tr>\n",
       "      <th>1</th>\n",
       "      <td>--9e1ONYQuAa-CB_Rrw7Tw</td>\n",
       "      <td>Delmonico Steakhouse</td>\n",
       "      <td>Steakhouses, Restaurants, Cajun/Creole</td>\n",
       "      <td>4.0</td>\n",
       "      <td>0</td>\n",
       "      <td>2017-02-14</td>\n",
       "      <td>0</td>\n",
       "      <td>VETXTwMw6qxzOVDlXfe6Tg</td>\n",
       "      <td>5</td>\n",
       "      <td>went for dinner tonight. Amazing my husband ha...</td>\n",
       "      <td>0</td>\n",
       "      <td>ymlnR8UeFvB4FZL56tCZsA</td>\n",
       "    </tr>\n",
       "    <tr>\n",
       "      <th>6</th>\n",
       "      <td>--9e1ONYQuAa-CB_Rrw7Tw</td>\n",
       "      <td>Delmonico Steakhouse</td>\n",
       "      <td>Steakhouses, Restaurants, Cajun/Creole</td>\n",
       "      <td>4.0</td>\n",
       "      <td>0</td>\n",
       "      <td>2017-12-04</td>\n",
       "      <td>0</td>\n",
       "      <td>S8-8uZ7fa5YbjnEtaW15ng</td>\n",
       "      <td>5</td>\n",
       "      <td>This was an amazing dinning experience! ORDER ...</td>\n",
       "      <td>0</td>\n",
       "      <td>9pSSL6X6lFpY3FCRLEH3og</td>\n",
       "    </tr>\n",
       "    <tr>\n",
       "      <th>14</th>\n",
       "      <td>--9e1ONYQuAa-CB_Rrw7Tw</td>\n",
       "      <td>Delmonico Steakhouse</td>\n",
       "      <td>Steakhouses, Restaurants, Cajun/Creole</td>\n",
       "      <td>4.0</td>\n",
       "      <td>0</td>\n",
       "      <td>2016-08-22</td>\n",
       "      <td>1</td>\n",
       "      <td>1nK5w0VNfDlnR3bOz13dJQ</td>\n",
       "      <td>5</td>\n",
       "      <td>My husband and I went there for lunch on a Sat...</td>\n",
       "      <td>1</td>\n",
       "      <td>gm8nNoA3uB4In5o_Hxpq3g</td>\n",
       "    </tr>\n",
       "    <tr>\n",
       "      <th>15</th>\n",
       "      <td>--9e1ONYQuAa-CB_Rrw7Tw</td>\n",
       "      <td>Delmonico Steakhouse</td>\n",
       "      <td>Steakhouses, Restaurants, Cajun/Creole</td>\n",
       "      <td>4.0</td>\n",
       "      <td>0</td>\n",
       "      <td>2016-09-13</td>\n",
       "      <td>0</td>\n",
       "      <td>N1Z93BthdJ7FT2p5S22jIA</td>\n",
       "      <td>3</td>\n",
       "      <td>Went for a nice anniversary dinner. Researched...</td>\n",
       "      <td>0</td>\n",
       "      <td>CEtidlXNyQzgJSdF1ubPFw</td>\n",
       "    </tr>\n",
       "    <tr>\n",
       "      <th>17</th>\n",
       "      <td>--9e1ONYQuAa-CB_Rrw7Tw</td>\n",
       "      <td>Delmonico Steakhouse</td>\n",
       "      <td>Steakhouses, Restaurants, Cajun/Creole</td>\n",
       "      <td>4.0</td>\n",
       "      <td>0</td>\n",
       "      <td>2015-02-02</td>\n",
       "      <td>0</td>\n",
       "      <td>_Uwp6FO1X-avE9wqTMC59w</td>\n",
       "      <td>5</td>\n",
       "      <td>This place is first class in every way. Lobste...</td>\n",
       "      <td>0</td>\n",
       "      <td>-Z7Nw2UF7NiBSAzfXNA_XA</td>\n",
       "    </tr>\n",
       "    <tr>\n",
       "      <th>23</th>\n",
       "      <td>--9e1ONYQuAa-CB_Rrw7Tw</td>\n",
       "      <td>Delmonico Steakhouse</td>\n",
       "      <td>Steakhouses, Restaurants, Cajun/Creole</td>\n",
       "      <td>4.0</td>\n",
       "      <td>0</td>\n",
       "      <td>2015-05-30</td>\n",
       "      <td>0</td>\n",
       "      <td>-vC7STnfwQuR6DgX3CsfnQ</td>\n",
       "      <td>5</td>\n",
       "      <td>Started off with a Chimay Blue beer and Gumbo ...</td>\n",
       "      <td>0</td>\n",
       "      <td>knB3eczyruOuZaP3TKUKew</td>\n",
       "    </tr>\n",
       "    <tr>\n",
       "      <th>27</th>\n",
       "      <td>--9e1ONYQuAa-CB_Rrw7Tw</td>\n",
       "      <td>Delmonico Steakhouse</td>\n",
       "      <td>Steakhouses, Restaurants, Cajun/Creole</td>\n",
       "      <td>4.0</td>\n",
       "      <td>0</td>\n",
       "      <td>2016-08-08</td>\n",
       "      <td>0</td>\n",
       "      <td>ir-EVhHyWna7KqYWtj660g</td>\n",
       "      <td>5</td>\n",
       "      <td>Hands down the best meal and service I have ev...</td>\n",
       "      <td>0</td>\n",
       "      <td>9_BhDyzJYf2JwTD9TyXJ4g</td>\n",
       "    </tr>\n",
       "    <tr>\n",
       "      <th>31</th>\n",
       "      <td>--9e1ONYQuAa-CB_Rrw7Tw</td>\n",
       "      <td>Delmonico Steakhouse</td>\n",
       "      <td>Steakhouses, Restaurants, Cajun/Creole</td>\n",
       "      <td>4.0</td>\n",
       "      <td>0</td>\n",
       "      <td>2017-05-20</td>\n",
       "      <td>0</td>\n",
       "      <td>Pnkrj90xfykhHyo4BSFRsw</td>\n",
       "      <td>5</td>\n",
       "      <td>ABSOLUTE MUST IN VEGAS! Loved everything my bo...</td>\n",
       "      <td>0</td>\n",
       "      <td>cZVQGCZ_fHtTdfiyGVJPdg</td>\n",
       "    </tr>\n",
       "    <tr>\n",
       "      <th>33</th>\n",
       "      <td>--9e1ONYQuAa-CB_Rrw7Tw</td>\n",
       "      <td>Delmonico Steakhouse</td>\n",
       "      <td>Steakhouses, Restaurants, Cajun/Creole</td>\n",
       "      <td>4.0</td>\n",
       "      <td>0</td>\n",
       "      <td>2015-05-01</td>\n",
       "      <td>0</td>\n",
       "      <td>uib8fDEAF0xiiPHY5KrpRQ</td>\n",
       "      <td>3</td>\n",
       "      <td>I REALLY wanted to love Delmonicos. I made res...</td>\n",
       "      <td>0</td>\n",
       "      <td>4DrtQoV20cbDOlnOk_rxHw</td>\n",
       "    </tr>\n",
       "    <tr>\n",
       "      <th>35</th>\n",
       "      <td>--9e1ONYQuAa-CB_Rrw7Tw</td>\n",
       "      <td>Delmonico Steakhouse</td>\n",
       "      <td>Steakhouses, Restaurants, Cajun/Creole</td>\n",
       "      <td>4.0</td>\n",
       "      <td>0</td>\n",
       "      <td>2016-06-13</td>\n",
       "      <td>0</td>\n",
       "      <td>sRXpmPl7q9JFXehiJuBUlA</td>\n",
       "      <td>5</td>\n",
       "      <td>The most amazing French onion soup I've ever h...</td>\n",
       "      <td>0</td>\n",
       "      <td>rhP3yu4Sxpj9OXgeY0VpLg</td>\n",
       "    </tr>\n",
       "  </tbody>\n",
       "</table>\n",
       "</div>"
      ],
      "text/plain": [
       "               business_id                  name  \\\n",
       "1   --9e1ONYQuAa-CB_Rrw7Tw  Delmonico Steakhouse   \n",
       "6   --9e1ONYQuAa-CB_Rrw7Tw  Delmonico Steakhouse   \n",
       "14  --9e1ONYQuAa-CB_Rrw7Tw  Delmonico Steakhouse   \n",
       "15  --9e1ONYQuAa-CB_Rrw7Tw  Delmonico Steakhouse   \n",
       "17  --9e1ONYQuAa-CB_Rrw7Tw  Delmonico Steakhouse   \n",
       "23  --9e1ONYQuAa-CB_Rrw7Tw  Delmonico Steakhouse   \n",
       "27  --9e1ONYQuAa-CB_Rrw7Tw  Delmonico Steakhouse   \n",
       "31  --9e1ONYQuAa-CB_Rrw7Tw  Delmonico Steakhouse   \n",
       "33  --9e1ONYQuAa-CB_Rrw7Tw  Delmonico Steakhouse   \n",
       "35  --9e1ONYQuAa-CB_Rrw7Tw  Delmonico Steakhouse   \n",
       "\n",
       "                                categories  avg_stars  cool        date  \\\n",
       "1   Steakhouses, Restaurants, Cajun/Creole        4.0     0  2017-02-14   \n",
       "6   Steakhouses, Restaurants, Cajun/Creole        4.0     0  2017-12-04   \n",
       "14  Steakhouses, Restaurants, Cajun/Creole        4.0     0  2016-08-22   \n",
       "15  Steakhouses, Restaurants, Cajun/Creole        4.0     0  2016-09-13   \n",
       "17  Steakhouses, Restaurants, Cajun/Creole        4.0     0  2015-02-02   \n",
       "23  Steakhouses, Restaurants, Cajun/Creole        4.0     0  2015-05-30   \n",
       "27  Steakhouses, Restaurants, Cajun/Creole        4.0     0  2016-08-08   \n",
       "31  Steakhouses, Restaurants, Cajun/Creole        4.0     0  2017-05-20   \n",
       "33  Steakhouses, Restaurants, Cajun/Creole        4.0     0  2015-05-01   \n",
       "35  Steakhouses, Restaurants, Cajun/Creole        4.0     0  2016-06-13   \n",
       "\n",
       "    funny               review_id  stars  \\\n",
       "1       0  VETXTwMw6qxzOVDlXfe6Tg      5   \n",
       "6       0  S8-8uZ7fa5YbjnEtaW15ng      5   \n",
       "14      1  1nK5w0VNfDlnR3bOz13dJQ      5   \n",
       "15      0  N1Z93BthdJ7FT2p5S22jIA      3   \n",
       "17      0  _Uwp6FO1X-avE9wqTMC59w      5   \n",
       "23      0  -vC7STnfwQuR6DgX3CsfnQ      5   \n",
       "27      0  ir-EVhHyWna7KqYWtj660g      5   \n",
       "31      0  Pnkrj90xfykhHyo4BSFRsw      5   \n",
       "33      0  uib8fDEAF0xiiPHY5KrpRQ      3   \n",
       "35      0  sRXpmPl7q9JFXehiJuBUlA      5   \n",
       "\n",
       "                                                 text  useful  \\\n",
       "1   went for dinner tonight. Amazing my husband ha...       0   \n",
       "6   This was an amazing dinning experience! ORDER ...       0   \n",
       "14  My husband and I went there for lunch on a Sat...       1   \n",
       "15  Went for a nice anniversary dinner. Researched...       0   \n",
       "17  This place is first class in every way. Lobste...       0   \n",
       "23  Started off with a Chimay Blue beer and Gumbo ...       0   \n",
       "27  Hands down the best meal and service I have ev...       0   \n",
       "31  ABSOLUTE MUST IN VEGAS! Loved everything my bo...       0   \n",
       "33  I REALLY wanted to love Delmonicos. I made res...       0   \n",
       "35  The most amazing French onion soup I've ever h...       0   \n",
       "\n",
       "                   user_id  \n",
       "1   ymlnR8UeFvB4FZL56tCZsA  \n",
       "6   9pSSL6X6lFpY3FCRLEH3og  \n",
       "14  gm8nNoA3uB4In5o_Hxpq3g  \n",
       "15  CEtidlXNyQzgJSdF1ubPFw  \n",
       "17  -Z7Nw2UF7NiBSAzfXNA_XA  \n",
       "23  knB3eczyruOuZaP3TKUKew  \n",
       "27  9_BhDyzJYf2JwTD9TyXJ4g  \n",
       "31  cZVQGCZ_fHtTdfiyGVJPdg  \n",
       "33  4DrtQoV20cbDOlnOk_rxHw  \n",
       "35  rhP3yu4Sxpj9OXgeY0VpLg  "
      ]
     },
     "execution_count": 35,
     "metadata": {},
     "output_type": "execute_result"
    }
   ],
   "source": [
    "df_final.head(10)"
   ]
  },
  {
   "cell_type": "code",
   "execution_count": 36,
   "metadata": {},
   "outputs": [
    {
     "data": {
      "text/html": [
       "<div>\n",
       "<style scoped>\n",
       "    .dataframe tbody tr th:only-of-type {\n",
       "        vertical-align: middle;\n",
       "    }\n",
       "\n",
       "    .dataframe tbody tr th {\n",
       "        vertical-align: top;\n",
       "    }\n",
       "\n",
       "    .dataframe thead th {\n",
       "        text-align: right;\n",
       "    }\n",
       "</style>\n",
       "<table border=\"1\" class=\"dataframe\">\n",
       "  <thead>\n",
       "    <tr style=\"text-align: right;\">\n",
       "      <th></th>\n",
       "      <th>avg_stars</th>\n",
       "      <th>cool</th>\n",
       "      <th>funny</th>\n",
       "      <th>stars</th>\n",
       "      <th>useful</th>\n",
       "    </tr>\n",
       "  </thead>\n",
       "  <tbody>\n",
       "    <tr>\n",
       "      <th>count</th>\n",
       "      <td>640718.000000</td>\n",
       "      <td>640718.000000</td>\n",
       "      <td>640718.000000</td>\n",
       "      <td>640718.000000</td>\n",
       "      <td>640718.000000</td>\n",
       "    </tr>\n",
       "    <tr>\n",
       "      <th>mean</th>\n",
       "      <td>3.827728</td>\n",
       "      <td>0.611837</td>\n",
       "      <td>0.455651</td>\n",
       "      <td>3.821948</td>\n",
       "      <td>0.984984</td>\n",
       "    </tr>\n",
       "    <tr>\n",
       "      <th>std</th>\n",
       "      <td>0.593887</td>\n",
       "      <td>2.886282</td>\n",
       "      <td>2.229470</td>\n",
       "      <td>1.421403</td>\n",
       "      <td>3.396315</td>\n",
       "    </tr>\n",
       "    <tr>\n",
       "      <th>min</th>\n",
       "      <td>1.000000</td>\n",
       "      <td>0.000000</td>\n",
       "      <td>0.000000</td>\n",
       "      <td>1.000000</td>\n",
       "      <td>0.000000</td>\n",
       "    </tr>\n",
       "    <tr>\n",
       "      <th>25%</th>\n",
       "      <td>3.500000</td>\n",
       "      <td>0.000000</td>\n",
       "      <td>0.000000</td>\n",
       "      <td>3.000000</td>\n",
       "      <td>0.000000</td>\n",
       "    </tr>\n",
       "    <tr>\n",
       "      <th>50%</th>\n",
       "      <td>4.000000</td>\n",
       "      <td>0.000000</td>\n",
       "      <td>0.000000</td>\n",
       "      <td>4.000000</td>\n",
       "      <td>0.000000</td>\n",
       "    </tr>\n",
       "    <tr>\n",
       "      <th>75%</th>\n",
       "      <td>4.000000</td>\n",
       "      <td>0.000000</td>\n",
       "      <td>0.000000</td>\n",
       "      <td>5.000000</td>\n",
       "      <td>1.000000</td>\n",
       "    </tr>\n",
       "    <tr>\n",
       "      <th>max</th>\n",
       "      <td>5.000000</td>\n",
       "      <td>227.000000</td>\n",
       "      <td>202.000000</td>\n",
       "      <td>5.000000</td>\n",
       "      <td>236.000000</td>\n",
       "    </tr>\n",
       "  </tbody>\n",
       "</table>\n",
       "</div>"
      ],
      "text/plain": [
       "           avg_stars           cool          funny          stars  \\\n",
       "count  640718.000000  640718.000000  640718.000000  640718.000000   \n",
       "mean        3.827728       0.611837       0.455651       3.821948   \n",
       "std         0.593887       2.886282       2.229470       1.421403   \n",
       "min         1.000000       0.000000       0.000000       1.000000   \n",
       "25%         3.500000       0.000000       0.000000       3.000000   \n",
       "50%         4.000000       0.000000       0.000000       4.000000   \n",
       "75%         4.000000       0.000000       0.000000       5.000000   \n",
       "max         5.000000     227.000000     202.000000       5.000000   \n",
       "\n",
       "              useful  \n",
       "count  640718.000000  \n",
       "mean        0.984984  \n",
       "std         3.396315  \n",
       "min         0.000000  \n",
       "25%         0.000000  \n",
       "50%         0.000000  \n",
       "75%         1.000000  \n",
       "max       236.000000  "
      ]
     },
     "execution_count": 36,
     "metadata": {},
     "output_type": "execute_result"
    }
   ],
   "source": [
    "df_final.describe()"
   ]
  },
  {
   "cell_type": "code",
   "execution_count": 37,
   "metadata": {},
   "outputs": [
    {
     "name": "stdout",
     "output_type": "stream",
     "text": [
      "<class 'pandas.core.frame.DataFrame'>\n",
      "Int64Index: 640718 entries, 1 to 1053033\n",
      "Data columns (total 12 columns):\n",
      "business_id    640718 non-null object\n",
      "name           640718 non-null object\n",
      "categories     640718 non-null object\n",
      "avg_stars      640718 non-null float64\n",
      "cool           640718 non-null int64\n",
      "date           640718 non-null object\n",
      "funny          640718 non-null int64\n",
      "review_id      640718 non-null object\n",
      "stars          640718 non-null int64\n",
      "text           640718 non-null object\n",
      "useful         640718 non-null int64\n",
      "user_id        640718 non-null object\n",
      "dtypes: float64(1), int64(4), object(7)\n",
      "memory usage: 63.5+ MB\n"
     ]
    }
   ],
   "source": [
    "df_final.info()"
   ]
  },
  {
   "cell_type": "code",
   "execution_count": 38,
   "metadata": {},
   "outputs": [],
   "source": [
    "import matplotlib.pyplot as plt\n",
    "\n",
    "% matplotlib inline"
   ]
  },
  {
   "cell_type": "code",
   "execution_count": 39,
   "metadata": {},
   "outputs": [
    {
     "data": {
      "text/plain": [
       "<matplotlib.axes._subplots.AxesSubplot at 0x35ac7fc50>"
      ]
     },
     "execution_count": 39,
     "metadata": {},
     "output_type": "execute_result"
    },
    {
     "data": {
      "image/png": "[encoded data removed]",
      "text/plain": [
       "<matplotlib.figure.Figure at 0x35ac7f5f8>"
      ]
     },
     "metadata": {},
     "output_type": "display_data"
    }
   ],
   "source": [
    "# e.g. calculate counts of reviews per business entity, and plot it\n",
    "df_final.groupby(by='business_id')['review_id'].count().plot.hist()"
   ]
  },
  {
   "cell_type": "markdown",
   "metadata": {},
   "source": [
    "## Save your preprocessed dataset to csv file\n",
    "\n",
    "* Respect your laptop's hard work! You don't want to make it run everything again."
   ]
  },
  {
   "cell_type": "code",
   "execution_count": 42,
   "metadata": {},
   "outputs": [],
   "source": [
    "# Save to ./data/last_2_years_restaurant_reviews.csv for your next task\n",
    "df_final.to_csv('/Users/Administrator/Desktop/Bittiger/501/Yelp Project/last_2_years_restaurant_reviews.csv', \n",
    "                index=False, encoding='utf-8')\n"
   ]
  },
  {
   "cell_type": "code",
   "execution_count": 43,
   "metadata": {},
   "outputs": [
    {
     "data": {
      "text/plain": [
       "(640718, 12)"
      ]
     },
     "execution_count": 43,
     "metadata": {},
     "output_type": "execute_result"
    }
   ],
   "source": [
    "df_final.shape"
   ]
  },
  {
   "cell_type": "code",
   "execution_count": null,
   "metadata": {},
   "outputs": [],
   "source": []
  }
 ],
 "metadata": {
  "anaconda-cloud": {},
  "kernelspec": {
   "display_name": "Python 3",
   "language": "python",
   "name": "python3"
  },
  "language_info": {
   "codemirror_mode": {
    "name": "ipython",
    "version": 3
   },
   "file_extension": ".py",
   "mimetype": "text/x-python",
   "name": "python",
   "nbconvert_exporter": "python",
   "pygments_lexer": "ipython3",
   "version": "3.6.4"
  }
 },
 "nbformat": 4,
 "nbformat_minor": 1
}
